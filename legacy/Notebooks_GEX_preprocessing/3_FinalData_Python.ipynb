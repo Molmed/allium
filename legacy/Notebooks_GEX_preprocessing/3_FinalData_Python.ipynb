{
 "cells": [
  {
   "cell_type": "code",
   "execution_count": 1,
   "metadata": {
    "ExecuteTime": {
     "end_time": "2023-03-22T15:30:05.989856Z",
     "start_time": "2023-03-22T15:30:05.147195Z"
    }
   },
   "outputs": [],
   "source": [
    "import pandas as pd\n",
    "import numpy as np\n",
    "import matplotlib.pyplot as plt\n",
    "#plt.style.use('ggplot')\n",
    "import seaborn as sns\n",
    "import joblib"
   ]
  },
  {
   "cell_type": "code",
   "execution_count": 2,
   "metadata": {
    "ExecuteTime": {
     "end_time": "2023-03-22T15:30:06.080433Z",
     "start_time": "2023-03-22T15:30:05.989856Z"
    }
   },
   "outputs": [],
   "source": [
    "path = './output_data/'\n",
    "X = pd.read_csv(path + 'gex-GeTMM.csv', index_col = 'Unnamed: 0')\n",
    "X = X.T\n",
    "phenodf = pd.read_csv(path + 'phenodf.csv')"
   ]
  },
  {
   "cell_type": "code",
   "execution_count": 3,
   "metadata": {
    "ExecuteTime": {
     "end_time": "2023-03-22T15:30:06.096882Z",
     "start_time": "2023-03-22T15:30:06.081288Z"
    }
   },
   "outputs": [
    {
     "data": {
      "text/plain": [
       "(19, 5)"
      ]
     },
     "execution_count": 3,
     "metadata": {},
     "output_type": "execute_result"
    }
   ],
   "source": [
    "phenodf.shape"
   ]
  },
  {
   "cell_type": "code",
   "execution_count": 4,
   "metadata": {
    "ExecuteTime": {
     "end_time": "2023-03-22T15:30:06.130336Z",
     "start_time": "2023-03-22T15:30:06.097986Z"
    }
   },
   "outputs": [
    {
     "data": {
      "text/html": [
       "<div>\n",
       "<style scoped>\n",
       "    .dataframe tbody tr th:only-of-type {\n",
       "        vertical-align: middle;\n",
       "    }\n",
       "\n",
       "    .dataframe tbody tr th {\n",
       "        vertical-align: top;\n",
       "    }\n",
       "\n",
       "    .dataframe thead th {\n",
       "        text-align: right;\n",
       "    }\n",
       "</style>\n",
       "<table border=\"1\" class=\"dataframe\">\n",
       "  <thead>\n",
       "    <tr style=\"text-align: right;\">\n",
       "      <th></th>\n",
       "      <th>ENSG00000186092</th>\n",
       "      <th>ENSG00000284733</th>\n",
       "      <th>ENSG00000284662</th>\n",
       "      <th>ENSG00000187634</th>\n",
       "      <th>ENSG00000188976</th>\n",
       "      <th>ENSG00000187961</th>\n",
       "      <th>ENSG00000187583</th>\n",
       "      <th>ENSG00000187642</th>\n",
       "      <th>ENSG00000188290</th>\n",
       "      <th>ENSG00000187608</th>\n",
       "      <th>...</th>\n",
       "      <th>ENSG00000160284</th>\n",
       "      <th>ENSG00000160285</th>\n",
       "      <th>ENSG00000160294</th>\n",
       "      <th>ENSG00000182362</th>\n",
       "      <th>ENSG00000160298</th>\n",
       "      <th>ENSG00000160299</th>\n",
       "      <th>ENSG00000286224</th>\n",
       "      <th>ENSG00000160305</th>\n",
       "      <th>ENSG00000160307</th>\n",
       "      <th>ENSG00000160310</th>\n",
       "    </tr>\n",
       "  </thead>\n",
       "  <tbody>\n",
       "    <tr>\n",
       "      <th>SJHBBBM4X52</th>\n",
       "      <td>-2.090416</td>\n",
       "      <td>-2.090416</td>\n",
       "      <td>-2.090416</td>\n",
       "      <td>-1.706562</td>\n",
       "      <td>6.092568</td>\n",
       "      <td>4.482497</td>\n",
       "      <td>-0.713643</td>\n",
       "      <td>-2.090416</td>\n",
       "      <td>0.566839</td>\n",
       "      <td>6.772186</td>\n",
       "      <td>...</td>\n",
       "      <td>4.754147</td>\n",
       "      <td>5.039256</td>\n",
       "      <td>6.883236</td>\n",
       "      <td>4.530030</td>\n",
       "      <td>5.735313</td>\n",
       "      <td>5.720956</td>\n",
       "      <td>-2.090416</td>\n",
       "      <td>5.973425</td>\n",
       "      <td>-1.786230</td>\n",
       "      <td>6.269606</td>\n",
       "    </tr>\n",
       "    <tr>\n",
       "      <th>SJHBBBM4JQZ</th>\n",
       "      <td>-2.090416</td>\n",
       "      <td>-2.090416</td>\n",
       "      <td>-2.090416</td>\n",
       "      <td>-2.090416</td>\n",
       "      <td>5.982292</td>\n",
       "      <td>3.872037</td>\n",
       "      <td>-1.198734</td>\n",
       "      <td>-2.090416</td>\n",
       "      <td>-1.279479</td>\n",
       "      <td>7.257785</td>\n",
       "      <td>...</td>\n",
       "      <td>3.853274</td>\n",
       "      <td>4.798441</td>\n",
       "      <td>6.809062</td>\n",
       "      <td>4.920836</td>\n",
       "      <td>5.454397</td>\n",
       "      <td>5.719465</td>\n",
       "      <td>-2.090416</td>\n",
       "      <td>6.027962</td>\n",
       "      <td>0.731442</td>\n",
       "      <td>6.801485</td>\n",
       "    </tr>\n",
       "    <tr>\n",
       "      <th>SJHBBBM5SGJ</th>\n",
       "      <td>-2.090416</td>\n",
       "      <td>-2.090416</td>\n",
       "      <td>-2.090416</td>\n",
       "      <td>-2.090416</td>\n",
       "      <td>6.170470</td>\n",
       "      <td>2.603794</td>\n",
       "      <td>-0.828377</td>\n",
       "      <td>-2.090416</td>\n",
       "      <td>-0.967950</td>\n",
       "      <td>8.655118</td>\n",
       "      <td>...</td>\n",
       "      <td>4.730685</td>\n",
       "      <td>4.694621</td>\n",
       "      <td>6.867351</td>\n",
       "      <td>4.851734</td>\n",
       "      <td>5.735569</td>\n",
       "      <td>5.608505</td>\n",
       "      <td>-2.090416</td>\n",
       "      <td>5.825215</td>\n",
       "      <td>1.543812</td>\n",
       "      <td>6.235273</td>\n",
       "    </tr>\n",
       "    <tr>\n",
       "      <th>SJHBBBM5TXY</th>\n",
       "      <td>-2.090416</td>\n",
       "      <td>-2.090416</td>\n",
       "      <td>-2.090416</td>\n",
       "      <td>-1.328298</td>\n",
       "      <td>5.802748</td>\n",
       "      <td>4.917914</td>\n",
       "      <td>-1.005095</td>\n",
       "      <td>-1.899691</td>\n",
       "      <td>-0.889674</td>\n",
       "      <td>7.949326</td>\n",
       "      <td>...</td>\n",
       "      <td>3.726802</td>\n",
       "      <td>4.059393</td>\n",
       "      <td>6.902273</td>\n",
       "      <td>4.315395</td>\n",
       "      <td>5.992041</td>\n",
       "      <td>5.524391</td>\n",
       "      <td>-2.090416</td>\n",
       "      <td>5.675401</td>\n",
       "      <td>1.492909</td>\n",
       "      <td>5.934395</td>\n",
       "    </tr>\n",
       "    <tr>\n",
       "      <th>SJHBBBM2GV5</th>\n",
       "      <td>-2.090416</td>\n",
       "      <td>-2.090416</td>\n",
       "      <td>-2.090416</td>\n",
       "      <td>-1.480190</td>\n",
       "      <td>6.874997</td>\n",
       "      <td>5.265192</td>\n",
       "      <td>-1.899556</td>\n",
       "      <td>-2.090416</td>\n",
       "      <td>-1.025873</td>\n",
       "      <td>8.204124</td>\n",
       "      <td>...</td>\n",
       "      <td>5.965912</td>\n",
       "      <td>5.247722</td>\n",
       "      <td>6.959372</td>\n",
       "      <td>5.056495</td>\n",
       "      <td>6.494423</td>\n",
       "      <td>5.845841</td>\n",
       "      <td>-2.090416</td>\n",
       "      <td>6.236511</td>\n",
       "      <td>0.938572</td>\n",
       "      <td>6.815140</td>\n",
       "    </tr>\n",
       "  </tbody>\n",
       "</table>\n",
       "<p>5 rows × 19774 columns</p>\n",
       "</div>"
      ],
      "text/plain": [
       "             ENSG00000186092  ENSG00000284733  ENSG00000284662  \\\n",
       "SJHBBBM4X52        -2.090416        -2.090416        -2.090416   \n",
       "SJHBBBM4JQZ        -2.090416        -2.090416        -2.090416   \n",
       "SJHBBBM5SGJ        -2.090416        -2.090416        -2.090416   \n",
       "SJHBBBM5TXY        -2.090416        -2.090416        -2.090416   \n",
       "SJHBBBM2GV5        -2.090416        -2.090416        -2.090416   \n",
       "\n",
       "             ENSG00000187634  ENSG00000188976  ENSG00000187961  \\\n",
       "SJHBBBM4X52        -1.706562         6.092568         4.482497   \n",
       "SJHBBBM4JQZ        -2.090416         5.982292         3.872037   \n",
       "SJHBBBM5SGJ        -2.090416         6.170470         2.603794   \n",
       "SJHBBBM5TXY        -1.328298         5.802748         4.917914   \n",
       "SJHBBBM2GV5        -1.480190         6.874997         5.265192   \n",
       "\n",
       "             ENSG00000187583  ENSG00000187642  ENSG00000188290  \\\n",
       "SJHBBBM4X52        -0.713643        -2.090416         0.566839   \n",
       "SJHBBBM4JQZ        -1.198734        -2.090416        -1.279479   \n",
       "SJHBBBM5SGJ        -0.828377        -2.090416        -0.967950   \n",
       "SJHBBBM5TXY        -1.005095        -1.899691        -0.889674   \n",
       "SJHBBBM2GV5        -1.899556        -2.090416        -1.025873   \n",
       "\n",
       "             ENSG00000187608  ...  ENSG00000160284  ENSG00000160285  \\\n",
       "SJHBBBM4X52         6.772186  ...         4.754147         5.039256   \n",
       "SJHBBBM4JQZ         7.257785  ...         3.853274         4.798441   \n",
       "SJHBBBM5SGJ         8.655118  ...         4.730685         4.694621   \n",
       "SJHBBBM5TXY         7.949326  ...         3.726802         4.059393   \n",
       "SJHBBBM2GV5         8.204124  ...         5.965912         5.247722   \n",
       "\n",
       "             ENSG00000160294  ENSG00000182362  ENSG00000160298  \\\n",
       "SJHBBBM4X52         6.883236         4.530030         5.735313   \n",
       "SJHBBBM4JQZ         6.809062         4.920836         5.454397   \n",
       "SJHBBBM5SGJ         6.867351         4.851734         5.735569   \n",
       "SJHBBBM5TXY         6.902273         4.315395         5.992041   \n",
       "SJHBBBM2GV5         6.959372         5.056495         6.494423   \n",
       "\n",
       "             ENSG00000160299  ENSG00000286224  ENSG00000160305  \\\n",
       "SJHBBBM4X52         5.720956        -2.090416         5.973425   \n",
       "SJHBBBM4JQZ         5.719465        -2.090416         6.027962   \n",
       "SJHBBBM5SGJ         5.608505        -2.090416         5.825215   \n",
       "SJHBBBM5TXY         5.524391        -2.090416         5.675401   \n",
       "SJHBBBM2GV5         5.845841        -2.090416         6.236511   \n",
       "\n",
       "             ENSG00000160307  ENSG00000160310  \n",
       "SJHBBBM4X52        -1.786230         6.269606  \n",
       "SJHBBBM4JQZ         0.731442         6.801485  \n",
       "SJHBBBM5SGJ         1.543812         6.235273  \n",
       "SJHBBBM5TXY         1.492909         5.934395  \n",
       "SJHBBBM2GV5         0.938572         6.815140  \n",
       "\n",
       "[5 rows x 19774 columns]"
      ]
     },
     "execution_count": 4,
     "metadata": {},
     "output_type": "execute_result"
    }
   ],
   "source": [
    "X.head()"
   ]
  },
  {
   "cell_type": "code",
   "execution_count": 5,
   "metadata": {
    "ExecuteTime": {
     "end_time": "2023-03-22T15:30:06.147017Z",
     "start_time": "2023-03-22T15:30:06.131476Z"
    }
   },
   "outputs": [],
   "source": [
    "\n",
    "X.index.name = 'public_id'\n",
    "X.columns.name = None"
   ]
  },
  {
   "cell_type": "code",
   "execution_count": 6,
   "metadata": {
    "ExecuteTime": {
     "end_time": "2023-03-22T15:30:06.180251Z",
     "start_time": "2023-03-22T15:30:06.147829Z"
    }
   },
   "outputs": [
    {
     "data": {
      "text/html": [
       "<div>\n",
       "<style scoped>\n",
       "    .dataframe tbody tr th:only-of-type {\n",
       "        vertical-align: middle;\n",
       "    }\n",
       "\n",
       "    .dataframe tbody tr th {\n",
       "        vertical-align: top;\n",
       "    }\n",
       "\n",
       "    .dataframe thead th {\n",
       "        text-align: right;\n",
       "    }\n",
       "</style>\n",
       "<table border=\"1\" class=\"dataframe\">\n",
       "  <thead>\n",
       "    <tr style=\"text-align: right;\">\n",
       "      <th></th>\n",
       "      <th>ENSG00000186092</th>\n",
       "      <th>ENSG00000284733</th>\n",
       "      <th>ENSG00000284662</th>\n",
       "      <th>ENSG00000187634</th>\n",
       "      <th>ENSG00000188976</th>\n",
       "      <th>ENSG00000187961</th>\n",
       "      <th>ENSG00000187583</th>\n",
       "      <th>ENSG00000187642</th>\n",
       "      <th>ENSG00000188290</th>\n",
       "      <th>ENSG00000187608</th>\n",
       "      <th>...</th>\n",
       "      <th>ENSG00000160284</th>\n",
       "      <th>ENSG00000160285</th>\n",
       "      <th>ENSG00000160294</th>\n",
       "      <th>ENSG00000182362</th>\n",
       "      <th>ENSG00000160298</th>\n",
       "      <th>ENSG00000160299</th>\n",
       "      <th>ENSG00000286224</th>\n",
       "      <th>ENSG00000160305</th>\n",
       "      <th>ENSG00000160307</th>\n",
       "      <th>ENSG00000160310</th>\n",
       "    </tr>\n",
       "    <tr>\n",
       "      <th>public_id</th>\n",
       "      <th></th>\n",
       "      <th></th>\n",
       "      <th></th>\n",
       "      <th></th>\n",
       "      <th></th>\n",
       "      <th></th>\n",
       "      <th></th>\n",
       "      <th></th>\n",
       "      <th></th>\n",
       "      <th></th>\n",
       "      <th></th>\n",
       "      <th></th>\n",
       "      <th></th>\n",
       "      <th></th>\n",
       "      <th></th>\n",
       "      <th></th>\n",
       "      <th></th>\n",
       "      <th></th>\n",
       "      <th></th>\n",
       "      <th></th>\n",
       "      <th></th>\n",
       "    </tr>\n",
       "  </thead>\n",
       "  <tbody>\n",
       "    <tr>\n",
       "      <th>SJHBBBM4X52</th>\n",
       "      <td>-2.090416</td>\n",
       "      <td>-2.090416</td>\n",
       "      <td>-2.090416</td>\n",
       "      <td>-1.706562</td>\n",
       "      <td>6.092568</td>\n",
       "      <td>4.482497</td>\n",
       "      <td>-0.713643</td>\n",
       "      <td>-2.090416</td>\n",
       "      <td>0.566839</td>\n",
       "      <td>6.772186</td>\n",
       "      <td>...</td>\n",
       "      <td>4.754147</td>\n",
       "      <td>5.039256</td>\n",
       "      <td>6.883236</td>\n",
       "      <td>4.530030</td>\n",
       "      <td>5.735313</td>\n",
       "      <td>5.720956</td>\n",
       "      <td>-2.090416</td>\n",
       "      <td>5.973425</td>\n",
       "      <td>-1.786230</td>\n",
       "      <td>6.269606</td>\n",
       "    </tr>\n",
       "    <tr>\n",
       "      <th>SJHBBBM4JQZ</th>\n",
       "      <td>-2.090416</td>\n",
       "      <td>-2.090416</td>\n",
       "      <td>-2.090416</td>\n",
       "      <td>-2.090416</td>\n",
       "      <td>5.982292</td>\n",
       "      <td>3.872037</td>\n",
       "      <td>-1.198734</td>\n",
       "      <td>-2.090416</td>\n",
       "      <td>-1.279479</td>\n",
       "      <td>7.257785</td>\n",
       "      <td>...</td>\n",
       "      <td>3.853274</td>\n",
       "      <td>4.798441</td>\n",
       "      <td>6.809062</td>\n",
       "      <td>4.920836</td>\n",
       "      <td>5.454397</td>\n",
       "      <td>5.719465</td>\n",
       "      <td>-2.090416</td>\n",
       "      <td>6.027962</td>\n",
       "      <td>0.731442</td>\n",
       "      <td>6.801485</td>\n",
       "    </tr>\n",
       "    <tr>\n",
       "      <th>SJHBBBM5SGJ</th>\n",
       "      <td>-2.090416</td>\n",
       "      <td>-2.090416</td>\n",
       "      <td>-2.090416</td>\n",
       "      <td>-2.090416</td>\n",
       "      <td>6.170470</td>\n",
       "      <td>2.603794</td>\n",
       "      <td>-0.828377</td>\n",
       "      <td>-2.090416</td>\n",
       "      <td>-0.967950</td>\n",
       "      <td>8.655118</td>\n",
       "      <td>...</td>\n",
       "      <td>4.730685</td>\n",
       "      <td>4.694621</td>\n",
       "      <td>6.867351</td>\n",
       "      <td>4.851734</td>\n",
       "      <td>5.735569</td>\n",
       "      <td>5.608505</td>\n",
       "      <td>-2.090416</td>\n",
       "      <td>5.825215</td>\n",
       "      <td>1.543812</td>\n",
       "      <td>6.235273</td>\n",
       "    </tr>\n",
       "    <tr>\n",
       "      <th>SJHBBBM5TXY</th>\n",
       "      <td>-2.090416</td>\n",
       "      <td>-2.090416</td>\n",
       "      <td>-2.090416</td>\n",
       "      <td>-1.328298</td>\n",
       "      <td>5.802748</td>\n",
       "      <td>4.917914</td>\n",
       "      <td>-1.005095</td>\n",
       "      <td>-1.899691</td>\n",
       "      <td>-0.889674</td>\n",
       "      <td>7.949326</td>\n",
       "      <td>...</td>\n",
       "      <td>3.726802</td>\n",
       "      <td>4.059393</td>\n",
       "      <td>6.902273</td>\n",
       "      <td>4.315395</td>\n",
       "      <td>5.992041</td>\n",
       "      <td>5.524391</td>\n",
       "      <td>-2.090416</td>\n",
       "      <td>5.675401</td>\n",
       "      <td>1.492909</td>\n",
       "      <td>5.934395</td>\n",
       "    </tr>\n",
       "    <tr>\n",
       "      <th>SJHBBBM2GV5</th>\n",
       "      <td>-2.090416</td>\n",
       "      <td>-2.090416</td>\n",
       "      <td>-2.090416</td>\n",
       "      <td>-1.480190</td>\n",
       "      <td>6.874997</td>\n",
       "      <td>5.265192</td>\n",
       "      <td>-1.899556</td>\n",
       "      <td>-2.090416</td>\n",
       "      <td>-1.025873</td>\n",
       "      <td>8.204124</td>\n",
       "      <td>...</td>\n",
       "      <td>5.965912</td>\n",
       "      <td>5.247722</td>\n",
       "      <td>6.959372</td>\n",
       "      <td>5.056495</td>\n",
       "      <td>6.494423</td>\n",
       "      <td>5.845841</td>\n",
       "      <td>-2.090416</td>\n",
       "      <td>6.236511</td>\n",
       "      <td>0.938572</td>\n",
       "      <td>6.815140</td>\n",
       "    </tr>\n",
       "  </tbody>\n",
       "</table>\n",
       "<p>5 rows × 19774 columns</p>\n",
       "</div>"
      ],
      "text/plain": [
       "             ENSG00000186092  ENSG00000284733  ENSG00000284662  \\\n",
       "public_id                                                        \n",
       "SJHBBBM4X52        -2.090416        -2.090416        -2.090416   \n",
       "SJHBBBM4JQZ        -2.090416        -2.090416        -2.090416   \n",
       "SJHBBBM5SGJ        -2.090416        -2.090416        -2.090416   \n",
       "SJHBBBM5TXY        -2.090416        -2.090416        -2.090416   \n",
       "SJHBBBM2GV5        -2.090416        -2.090416        -2.090416   \n",
       "\n",
       "             ENSG00000187634  ENSG00000188976  ENSG00000187961  \\\n",
       "public_id                                                        \n",
       "SJHBBBM4X52        -1.706562         6.092568         4.482497   \n",
       "SJHBBBM4JQZ        -2.090416         5.982292         3.872037   \n",
       "SJHBBBM5SGJ        -2.090416         6.170470         2.603794   \n",
       "SJHBBBM5TXY        -1.328298         5.802748         4.917914   \n",
       "SJHBBBM2GV5        -1.480190         6.874997         5.265192   \n",
       "\n",
       "             ENSG00000187583  ENSG00000187642  ENSG00000188290  \\\n",
       "public_id                                                        \n",
       "SJHBBBM4X52        -0.713643        -2.090416         0.566839   \n",
       "SJHBBBM4JQZ        -1.198734        -2.090416        -1.279479   \n",
       "SJHBBBM5SGJ        -0.828377        -2.090416        -0.967950   \n",
       "SJHBBBM5TXY        -1.005095        -1.899691        -0.889674   \n",
       "SJHBBBM2GV5        -1.899556        -2.090416        -1.025873   \n",
       "\n",
       "             ENSG00000187608  ...  ENSG00000160284  ENSG00000160285  \\\n",
       "public_id                     ...                                     \n",
       "SJHBBBM4X52         6.772186  ...         4.754147         5.039256   \n",
       "SJHBBBM4JQZ         7.257785  ...         3.853274         4.798441   \n",
       "SJHBBBM5SGJ         8.655118  ...         4.730685         4.694621   \n",
       "SJHBBBM5TXY         7.949326  ...         3.726802         4.059393   \n",
       "SJHBBBM2GV5         8.204124  ...         5.965912         5.247722   \n",
       "\n",
       "             ENSG00000160294  ENSG00000182362  ENSG00000160298  \\\n",
       "public_id                                                        \n",
       "SJHBBBM4X52         6.883236         4.530030         5.735313   \n",
       "SJHBBBM4JQZ         6.809062         4.920836         5.454397   \n",
       "SJHBBBM5SGJ         6.867351         4.851734         5.735569   \n",
       "SJHBBBM5TXY         6.902273         4.315395         5.992041   \n",
       "SJHBBBM2GV5         6.959372         5.056495         6.494423   \n",
       "\n",
       "             ENSG00000160299  ENSG00000286224  ENSG00000160305  \\\n",
       "public_id                                                        \n",
       "SJHBBBM4X52         5.720956        -2.090416         5.973425   \n",
       "SJHBBBM4JQZ         5.719465        -2.090416         6.027962   \n",
       "SJHBBBM5SGJ         5.608505        -2.090416         5.825215   \n",
       "SJHBBBM5TXY         5.524391        -2.090416         5.675401   \n",
       "SJHBBBM2GV5         5.845841        -2.090416         6.236511   \n",
       "\n",
       "             ENSG00000160307  ENSG00000160310  \n",
       "public_id                                      \n",
       "SJHBBBM4X52        -1.786230         6.269606  \n",
       "SJHBBBM4JQZ         0.731442         6.801485  \n",
       "SJHBBBM5SGJ         1.543812         6.235273  \n",
       "SJHBBBM5TXY         1.492909         5.934395  \n",
       "SJHBBBM2GV5         0.938572         6.815140  \n",
       "\n",
       "[5 rows x 19774 columns]"
      ]
     },
     "execution_count": 6,
     "metadata": {},
     "output_type": "execute_result"
    }
   ],
   "source": [
    "X.head()"
   ]
  },
  {
   "cell_type": "code",
   "execution_count": 7,
   "metadata": {
    "ExecuteTime": {
     "end_time": "2023-03-22T15:30:06.230245Z",
     "start_time": "2023-03-22T15:30:06.181347Z"
    }
   },
   "outputs": [
    {
     "data": {
      "text/plain": [
       "0"
      ]
     },
     "execution_count": 7,
     "metadata": {},
     "output_type": "execute_result"
    }
   ],
   "source": [
    "sum(X.isna().sum())"
   ]
  },
  {
   "cell_type": "code",
   "execution_count": 8,
   "metadata": {
    "ExecuteTime": {
     "end_time": "2023-03-22T15:30:06.247453Z",
     "start_time": "2023-03-22T15:30:06.232370Z"
    }
   },
   "outputs": [
    {
     "data": {
      "text/plain": [
       "(19, 19774)"
      ]
     },
     "execution_count": 8,
     "metadata": {},
     "output_type": "execute_result"
    }
   ],
   "source": [
    "X.shape"
   ]
  },
  {
   "cell_type": "code",
   "execution_count": 9,
   "metadata": {
    "ExecuteTime": {
     "end_time": "2023-03-22T15:30:06.263090Z",
     "start_time": "2023-03-22T15:30:06.247453Z"
    },
    "scrolled": true
   },
   "outputs": [
    {
     "data": {
      "text/html": [
       "<div>\n",
       "<style scoped>\n",
       "    .dataframe tbody tr th:only-of-type {\n",
       "        vertical-align: middle;\n",
       "    }\n",
       "\n",
       "    .dataframe tbody tr th {\n",
       "        vertical-align: top;\n",
       "    }\n",
       "\n",
       "    .dataframe thead th {\n",
       "        text-align: right;\n",
       "    }\n",
       "</style>\n",
       "<table border=\"1\" class=\"dataframe\">\n",
       "  <thead>\n",
       "    <tr style=\"text-align: right;\">\n",
       "      <th></th>\n",
       "      <th>Sample SJ ID</th>\n",
       "      <th>Subtype_name</th>\n",
       "      <th>Sex</th>\n",
       "      <th>Age</th>\n",
       "      <th>Cohort</th>\n",
       "    </tr>\n",
       "  </thead>\n",
       "  <tbody>\n",
       "    <tr>\n",
       "      <th>0</th>\n",
       "      <td>SJHBBBM4X52</td>\n",
       "      <td>ETV6-RUNX1_1</td>\n",
       "      <td>Male</td>\n",
       "      <td>4.57</td>\n",
       "      <td>Total XVI</td>\n",
       "    </tr>\n",
       "    <tr>\n",
       "      <th>1</th>\n",
       "      <td>SJHBBBM4JQZ</td>\n",
       "      <td>ETV6-RUNX1_2</td>\n",
       "      <td>Male</td>\n",
       "      <td>3.18</td>\n",
       "      <td>Total XVI</td>\n",
       "    </tr>\n",
       "    <tr>\n",
       "      <th>2</th>\n",
       "      <td>SJHBBBM5SGJ</td>\n",
       "      <td>ETV6-RUNX1_3</td>\n",
       "      <td>Male</td>\n",
       "      <td>6.81</td>\n",
       "      <td>Total XVI</td>\n",
       "    </tr>\n",
       "    <tr>\n",
       "      <th>3</th>\n",
       "      <td>SJHBBBM5TXY</td>\n",
       "      <td>ETV6-RUNX1_4</td>\n",
       "      <td>Female</td>\n",
       "      <td>4.82</td>\n",
       "      <td>Total XVI</td>\n",
       "    </tr>\n",
       "    <tr>\n",
       "      <th>4</th>\n",
       "      <td>SJHBBBM2GV5</td>\n",
       "      <td>ETV6-RUNX1_5</td>\n",
       "      <td>Male</td>\n",
       "      <td>5.15</td>\n",
       "      <td>Total XVI</td>\n",
       "    </tr>\n",
       "  </tbody>\n",
       "</table>\n",
       "</div>"
      ],
      "text/plain": [
       "  Sample SJ ID  Subtype_name     Sex   Age     Cohort\n",
       "0  SJHBBBM4X52  ETV6-RUNX1_1    Male  4.57  Total XVI\n",
       "1  SJHBBBM4JQZ  ETV6-RUNX1_2    Male  3.18  Total XVI\n",
       "2  SJHBBBM5SGJ  ETV6-RUNX1_3    Male  6.81  Total XVI\n",
       "3  SJHBBBM5TXY  ETV6-RUNX1_4  Female  4.82  Total XVI\n",
       "4  SJHBBBM2GV5  ETV6-RUNX1_5    Male  5.15  Total XVI"
      ]
     },
     "execution_count": 9,
     "metadata": {},
     "output_type": "execute_result"
    }
   ],
   "source": [
    "phenodf.head()"
   ]
  },
  {
   "cell_type": "code",
   "execution_count": 10,
   "metadata": {
    "ExecuteTime": {
     "end_time": "2023-03-22T15:30:06.279866Z",
     "start_time": "2023-03-22T15:30:06.264121Z"
    }
   },
   "outputs": [
    {
     "data": {
      "text/plain": [
       "(19, 5)"
      ]
     },
     "execution_count": 10,
     "metadata": {},
     "output_type": "execute_result"
    }
   ],
   "source": [
    "phenodf.shape"
   ]
  },
  {
   "cell_type": "code",
   "execution_count": 11,
   "metadata": {
    "ExecuteTime": {
     "end_time": "2023-03-22T15:30:06.297218Z",
     "start_time": "2023-03-22T15:30:06.281351Z"
    }
   },
   "outputs": [
    {
     "data": {
      "text/plain": [
       "19"
      ]
     },
     "execution_count": 11,
     "metadata": {},
     "output_type": "execute_result"
    }
   ],
   "source": [
    "sum(phenodf['Sample SJ ID'] ==X.index)"
   ]
  },
  {
   "cell_type": "code",
   "execution_count": 12,
   "metadata": {
    "ExecuteTime": {
     "end_time": "2023-03-22T15:30:06.330741Z",
     "start_time": "2023-03-22T15:30:06.298606Z"
    }
   },
   "outputs": [
    {
     "data": {
      "text/plain": [
       "['./output_data/gex_final.pkl']"
      ]
     },
     "execution_count": 12,
     "metadata": {},
     "output_type": "execute_result"
    }
   ],
   "source": [
    "joblib.dump(X, path + 'gex_final.pkl')"
   ]
  }
 ],
 "metadata": {
  "kernelspec": {
   "display_name": "visual",
   "language": "python",
   "name": "visualenv"
  },
  "language_info": {
   "codemirror_mode": {
    "name": "ipython",
    "version": 3
   },
   "file_extension": ".py",
   "mimetype": "text/x-python",
   "name": "python",
   "nbconvert_exporter": "python",
   "pygments_lexer": "ipython3",
   "version": "3.8.5"
  }
 },
 "nbformat": 4,
 "nbformat_minor": 4
}
