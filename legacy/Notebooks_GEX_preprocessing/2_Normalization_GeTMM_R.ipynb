{
 "cells": [
  {
   "cell_type": "code",
   "execution_count": 1,
   "id": "528dc899",
   "metadata": {
    "ExecuteTime": {
     "end_time": "2023-03-22T15:29:54.095452Z",
     "start_time": "2023-03-22T15:29:51.813Z"
    },
    "scrolled": true
   },
   "outputs": [
    {
     "name": "stderr",
     "output_type": "stream",
     "text": [
      "Warning message:\n",
      "\"package 'edgeR' was built under R version 3.6.2\"Loading required package: limma\n",
      "Warning message:\n",
      "\"package 'limma' was built under R version 3.6.2\"Loading required package: mgcv\n",
      "Loading required package: nlme\n",
      "This is mgcv 1.8-28. For overview type 'help(\"mgcv-package\")'.\n",
      "Loading required package: genefilter\n",
      "Loading required package: BiocParallel\n",
      "Warning message:\n",
      "\"package 'BiocParallel' was built under R version 3.6.2\""
     ]
    }
   ],
   "source": [
    "#BiocManager::install(\"edgeR\")\n",
    "library(edgeR)\n",
    "library(sva)"
   ]
  },
  {
   "cell_type": "markdown",
   "id": "ae0a153f",
   "metadata": {},
   "source": [
    "#  GeTMM (Gene length corrected TMM) from [Smid et al.](https://doi.org/10.1186/s12859-018-2246-7)(2018)"
   ]
  },
  {
   "cell_type": "code",
   "execution_count": 2,
   "id": "887f3864",
   "metadata": {
    "ExecuteTime": {
     "end_time": "2023-03-22T15:29:54.331021Z",
     "start_time": "2023-03-22T15:29:51.813Z"
    }
   },
   "outputs": [],
   "source": [
    "x <- read.csv(\"./output_data/gexdata.csv\", row.names = 1, header= TRUE, check.names = FALSE)\n",
    "# the check names argument will not change the name of the columns"
   ]
  },
  {
   "cell_type": "code",
   "execution_count": 3,
   "id": "ee96b894",
   "metadata": {
    "ExecuteTime": {
     "end_time": "2023-03-22T15:29:54.349053Z",
     "start_time": "2023-03-22T15:29:51.814Z"
    },
    "scrolled": true
   },
   "outputs": [
    {
     "data": {
      "text/html": [
       "<table>\n",
       "<thead><tr><th></th><th scope=col>SJHBBBM4X52</th><th scope=col>SJHBBBM4JQZ</th><th scope=col>SJHBBBM5SGJ</th><th scope=col>SJHBBBM5TXY</th><th scope=col>SJHBBBM2GV5</th><th scope=col>SJHBBBM39BT</th><th scope=col>SJHBBBM67H6</th><th scope=col>SJHBBBM2BBR</th><th scope=col>SJHBBBN9RBJ</th><th scope=col>SJHBBBM4PX3</th><th scope=col>SJHBBBN9RDM</th><th scope=col>SJHBBBN9R9H</th><th scope=col>SJHBBBM588V</th><th scope=col>SJHBBBN9RFN</th><th scope=col>SJHBBBM55F5</th><th scope=col>SJHBBBM5GW9</th><th scope=col>SJHBBBM5PY5</th><th scope=col>SJHBBBM52XR</th><th scope=col>SJHBBBM5YWS</th></tr></thead>\n",
       "<tbody>\n",
       "\t<tr><th scope=row>ENSG00000186092</th><td>   0 </td><td>   0 </td><td>   0 </td><td>   0 </td><td>    0</td><td>   0 </td><td>   0 </td><td>   0 </td><td>   0 </td><td>   0 </td><td>   0 </td><td>   0 </td><td>   0 </td><td>   0 </td><td>   0 </td><td>   0 </td><td>   0 </td><td>   0 </td><td>   0 </td></tr>\n",
       "\t<tr><th scope=row>ENSG00000284733</th><td>   0 </td><td>   0 </td><td>   0 </td><td>   0 </td><td>    0</td><td>   0 </td><td>   0 </td><td>   0 </td><td>   0 </td><td>   0 </td><td>   0 </td><td>   0 </td><td>   0 </td><td>   0 </td><td>   0 </td><td>   0 </td><td>   0 </td><td>   0 </td><td>   0 </td></tr>\n",
       "\t<tr><th scope=row>ENSG00000284662</th><td>   0 </td><td>   0 </td><td>   0 </td><td>   0 </td><td>    0</td><td>   0 </td><td>   0 </td><td>   0 </td><td>   0 </td><td>   0 </td><td>   0 </td><td>   0 </td><td>   0 </td><td>   0 </td><td>   0 </td><td>   0 </td><td>   0 </td><td>   0 </td><td>   0 </td></tr>\n",
       "\t<tr><th scope=row>ENSG00000187634</th><td>   3 </td><td>   0 </td><td>   0 </td><td>   6 </td><td>    9</td><td>   1 </td><td>  24 </td><td>   2 </td><td>  24 </td><td>   2 </td><td>   3 </td><td>   2 </td><td>   3 </td><td>   5 </td><td>  11 </td><td>   0 </td><td>   7 </td><td>   3 </td><td>   1 </td></tr>\n",
       "\t<tr><th scope=row>ENSG00000188976</th><td>3785 </td><td>3524 </td><td>3861 </td><td>2710 </td><td>11324</td><td>4393 </td><td>4119 </td><td>8499 </td><td>3053 </td><td>2708 </td><td>1970 </td><td>3239 </td><td>1506 </td><td>3098 </td><td>2188 </td><td>4012 </td><td>1707 </td><td>5557 </td><td>2273 </td></tr>\n",
       "\t<tr><th scope=row>ENSG00000187961</th><td> 756 </td><td> 495 </td><td> 193 </td><td> 898 </td><td> 2269</td><td> 883 </td><td> 934 </td><td>1311 </td><td> 514 </td><td> 412 </td><td> 336 </td><td> 542 </td><td> 238 </td><td> 329 </td><td> 188 </td><td> 871 </td><td> 196 </td><td>1225 </td><td> 400 </td></tr>\n",
       "</tbody>\n",
       "</table>\n"
      ],
      "text/latex": [
       "\\begin{tabular}{r|lllllllllllllllllll}\n",
       "  & SJHBBBM4X52 & SJHBBBM4JQZ & SJHBBBM5SGJ & SJHBBBM5TXY & SJHBBBM2GV5 & SJHBBBM39BT & SJHBBBM67H6 & SJHBBBM2BBR & SJHBBBN9RBJ & SJHBBBM4PX3 & SJHBBBN9RDM & SJHBBBN9R9H & SJHBBBM588V & SJHBBBN9RFN & SJHBBBM55F5 & SJHBBBM5GW9 & SJHBBBM5PY5 & SJHBBBM52XR & SJHBBBM5YWS\\\\\n",
       "\\hline\n",
       "\tENSG00000186092 &    0  &    0  &    0  &    0  &     0 &    0  &    0  &    0  &    0  &    0  &    0  &    0  &    0  &    0  &    0  &    0  &    0  &    0  &    0 \\\\\n",
       "\tENSG00000284733 &    0  &    0  &    0  &    0  &     0 &    0  &    0  &    0  &    0  &    0  &    0  &    0  &    0  &    0  &    0  &    0  &    0  &    0  &    0 \\\\\n",
       "\tENSG00000284662 &    0  &    0  &    0  &    0  &     0 &    0  &    0  &    0  &    0  &    0  &    0  &    0  &    0  &    0  &    0  &    0  &    0  &    0  &    0 \\\\\n",
       "\tENSG00000187634 &    3  &    0  &    0  &    6  &     9 &    1  &   24  &    2  &   24  &    2  &    3  &    2  &    3  &    5  &   11  &    0  &    7  &    3  &    1 \\\\\n",
       "\tENSG00000188976 & 3785  & 3524  & 3861  & 2710  & 11324 & 4393  & 4119  & 8499  & 3053  & 2708  & 1970  & 3239  & 1506  & 3098  & 2188  & 4012  & 1707  & 5557  & 2273 \\\\\n",
       "\tENSG00000187961 &  756  &  495  &  193  &  898  &  2269 &  883  &  934  & 1311  &  514  &  412  &  336  &  542  &  238  &  329  &  188  &  871  &  196  & 1225  &  400 \\\\\n",
       "\\end{tabular}\n"
      ],
      "text/markdown": [
       "\n",
       "| <!--/--> | SJHBBBM4X52 | SJHBBBM4JQZ | SJHBBBM5SGJ | SJHBBBM5TXY | SJHBBBM2GV5 | SJHBBBM39BT | SJHBBBM67H6 | SJHBBBM2BBR | SJHBBBN9RBJ | SJHBBBM4PX3 | SJHBBBN9RDM | SJHBBBN9R9H | SJHBBBM588V | SJHBBBN9RFN | SJHBBBM55F5 | SJHBBBM5GW9 | SJHBBBM5PY5 | SJHBBBM52XR | SJHBBBM5YWS |\n",
       "|---|---|---|---|---|---|---|---|---|---|---|---|---|---|---|---|---|---|---|---|\n",
       "| ENSG00000186092 |    0  |    0  |    0  |    0  |     0 |    0  |    0  |    0  |    0  |    0  |    0  |    0  |    0  |    0  |    0  |    0  |    0  |    0  |    0  |\n",
       "| ENSG00000284733 |    0  |    0  |    0  |    0  |     0 |    0  |    0  |    0  |    0  |    0  |    0  |    0  |    0  |    0  |    0  |    0  |    0  |    0  |    0  |\n",
       "| ENSG00000284662 |    0  |    0  |    0  |    0  |     0 |    0  |    0  |    0  |    0  |    0  |    0  |    0  |    0  |    0  |    0  |    0  |    0  |    0  |    0  |\n",
       "| ENSG00000187634 |    3  |    0  |    0  |    6  |     9 |    1  |   24  |    2  |   24  |    2  |    3  |    2  |    3  |    5  |   11  |    0  |    7  |    3  |    1  |\n",
       "| ENSG00000188976 | 3785  | 3524  | 3861  | 2710  | 11324 | 4393  | 4119  | 8499  | 3053  | 2708  | 1970  | 3239  | 1506  | 3098  | 2188  | 4012  | 1707  | 5557  | 2273  |\n",
       "| ENSG00000187961 |  756  |  495  |  193  |  898  |  2269 |  883  |  934  | 1311  |  514  |  412  |  336  |  542  |  238  |  329  |  188  |  871  |  196  | 1225  |  400  |\n",
       "\n"
      ],
      "text/plain": [
       "                SJHBBBM4X52 SJHBBBM4JQZ SJHBBBM5SGJ SJHBBBM5TXY SJHBBBM2GV5\n",
       "ENSG00000186092    0           0           0           0            0      \n",
       "ENSG00000284733    0           0           0           0            0      \n",
       "ENSG00000284662    0           0           0           0            0      \n",
       "ENSG00000187634    3           0           0           6            9      \n",
       "ENSG00000188976 3785        3524        3861        2710        11324      \n",
       "ENSG00000187961  756         495         193         898         2269      \n",
       "                SJHBBBM39BT SJHBBBM67H6 SJHBBBM2BBR SJHBBBN9RBJ SJHBBBM4PX3\n",
       "ENSG00000186092    0           0           0           0           0       \n",
       "ENSG00000284733    0           0           0           0           0       \n",
       "ENSG00000284662    0           0           0           0           0       \n",
       "ENSG00000187634    1          24           2          24           2       \n",
       "ENSG00000188976 4393        4119        8499        3053        2708       \n",
       "ENSG00000187961  883         934        1311         514         412       \n",
       "                SJHBBBN9RDM SJHBBBN9R9H SJHBBBM588V SJHBBBN9RFN SJHBBBM55F5\n",
       "ENSG00000186092    0           0           0           0           0       \n",
       "ENSG00000284733    0           0           0           0           0       \n",
       "ENSG00000284662    0           0           0           0           0       \n",
       "ENSG00000187634    3           2           3           5          11       \n",
       "ENSG00000188976 1970        3239        1506        3098        2188       \n",
       "ENSG00000187961  336         542         238         329         188       \n",
       "                SJHBBBM5GW9 SJHBBBM5PY5 SJHBBBM52XR SJHBBBM5YWS\n",
       "ENSG00000186092    0           0           0           0       \n",
       "ENSG00000284733    0           0           0           0       \n",
       "ENSG00000284662    0           0           0           0       \n",
       "ENSG00000187634    0           7           3           1       \n",
       "ENSG00000188976 4012        1707        5557        2273       \n",
       "ENSG00000187961  871         196        1225         400       "
      ]
     },
     "metadata": {},
     "output_type": "display_data"
    }
   ],
   "source": [
    "head(x)"
   ]
  },
  {
   "cell_type": "code",
   "execution_count": 4,
   "id": "4926689b",
   "metadata": {
    "ExecuteTime": {
     "end_time": "2023-03-22T15:29:54.383382Z",
     "start_time": "2023-03-22T15:29:51.815Z"
    }
   },
   "outputs": [
    {
     "data": {
      "text/html": [
       "<ol class=list-inline>\n",
       "\t<li>19774</li>\n",
       "\t<li>19</li>\n",
       "</ol>\n"
      ],
      "text/latex": [
       "\\begin{enumerate*}\n",
       "\\item 19774\n",
       "\\item 19\n",
       "\\end{enumerate*}\n"
      ],
      "text/markdown": [
       "1. 19774\n",
       "2. 19\n",
       "\n",
       "\n"
      ],
      "text/plain": [
       "[1] 19774    19"
      ]
     },
     "metadata": {},
     "output_type": "display_data"
    }
   ],
   "source": [
    "dim(x)"
   ]
  },
  {
   "cell_type": "code",
   "execution_count": 5,
   "id": "494344f7",
   "metadata": {
    "ExecuteTime": {
     "end_time": "2023-03-22T15:29:54.415855Z",
     "start_time": "2023-03-22T15:29:51.816Z"
    }
   },
   "outputs": [],
   "source": [
    "batches <- read.table(\"./output_data/batches.txt\", header = FALSE, sep = \"\")"
   ]
  },
  {
   "cell_type": "code",
   "execution_count": 6,
   "id": "26f20e55",
   "metadata": {
    "ExecuteTime": {
     "end_time": "2023-03-22T15:29:54.432515Z",
     "start_time": "2023-03-22T15:29:51.817Z"
    },
    "scrolled": true
   },
   "outputs": [
    {
     "data": {
      "text/html": [
       "<ol class=list-inline>\n",
       "\t<li>batch1-GEO</li>\n",
       "\t<li>batch1-GEO</li>\n",
       "\t<li>batch1-GEO</li>\n",
       "\t<li>batch1-GEO</li>\n",
       "\t<li>batch1-GEO</li>\n",
       "\t<li>batch1-GEO</li>\n",
       "\t<li>batch1-GEO</li>\n",
       "\t<li>batch1-GEO</li>\n",
       "\t<li>batch1-GEO</li>\n",
       "\t<li>batch1-GEO</li>\n",
       "\t<li>batch1-GEO</li>\n",
       "\t<li>batch1-GEO</li>\n",
       "\t<li>batch1-GEO</li>\n",
       "\t<li>batch1-GEO</li>\n",
       "\t<li>batch1-GEO</li>\n",
       "\t<li>batch1-GEO</li>\n",
       "\t<li>batch1-GEO</li>\n",
       "\t<li>batch1-GEO</li>\n",
       "\t<li>batch1-GEO</li>\n",
       "</ol>\n",
       "\n",
       "<details>\n",
       "\t<summary style=display:list-item;cursor:pointer>\n",
       "\t\t<strong>Levels</strong>:\n",
       "\t</summary>\n",
       "\t'batch1-GEO'\n",
       "</details>"
      ],
      "text/latex": [
       "\\begin{enumerate*}\n",
       "\\item batch1-GEO\n",
       "\\item batch1-GEO\n",
       "\\item batch1-GEO\n",
       "\\item batch1-GEO\n",
       "\\item batch1-GEO\n",
       "\\item batch1-GEO\n",
       "\\item batch1-GEO\n",
       "\\item batch1-GEO\n",
       "\\item batch1-GEO\n",
       "\\item batch1-GEO\n",
       "\\item batch1-GEO\n",
       "\\item batch1-GEO\n",
       "\\item batch1-GEO\n",
       "\\item batch1-GEO\n",
       "\\item batch1-GEO\n",
       "\\item batch1-GEO\n",
       "\\item batch1-GEO\n",
       "\\item batch1-GEO\n",
       "\\item batch1-GEO\n",
       "\\end{enumerate*}\n",
       "\n",
       "\\emph{Levels}: 'batch1-GEO'"
      ],
      "text/markdown": [
       "1. batch1-GEO\n",
       "2. batch1-GEO\n",
       "3. batch1-GEO\n",
       "4. batch1-GEO\n",
       "5. batch1-GEO\n",
       "6. batch1-GEO\n",
       "7. batch1-GEO\n",
       "8. batch1-GEO\n",
       "9. batch1-GEO\n",
       "10. batch1-GEO\n",
       "11. batch1-GEO\n",
       "12. batch1-GEO\n",
       "13. batch1-GEO\n",
       "14. batch1-GEO\n",
       "15. batch1-GEO\n",
       "16. batch1-GEO\n",
       "17. batch1-GEO\n",
       "18. batch1-GEO\n",
       "19. batch1-GEO\n",
       "\n",
       "\n",
       "\n",
       "**Levels**: 'batch1-GEO'"
      ],
      "text/plain": [
       " [1] batch1-GEO batch1-GEO batch1-GEO batch1-GEO batch1-GEO batch1-GEO\n",
       " [7] batch1-GEO batch1-GEO batch1-GEO batch1-GEO batch1-GEO batch1-GEO\n",
       "[13] batch1-GEO batch1-GEO batch1-GEO batch1-GEO batch1-GEO batch1-GEO\n",
       "[19] batch1-GEO\n",
       "Levels: batch1-GEO"
      ]
     },
     "metadata": {},
     "output_type": "display_data"
    }
   ],
   "source": [
    "batches$V1"
   ]
  },
  {
   "cell_type": "code",
   "execution_count": 7,
   "id": "a5806bb9",
   "metadata": {
    "ExecuteTime": {
     "end_time": "2023-03-22T15:29:54.463285Z",
     "start_time": "2023-03-22T15:29:51.817Z"
    }
   },
   "outputs": [],
   "source": [
    "group = batches$V1"
   ]
  },
  {
   "cell_type": "code",
   "execution_count": 8,
   "id": "23d4fc57",
   "metadata": {
    "ExecuteTime": {
     "end_time": "2023-03-22T15:29:54.613607Z",
     "start_time": "2023-03-22T15:29:51.819Z"
    },
    "scrolled": true
   },
   "outputs": [
    {
     "data": {
      "text/html": [
       "<table>\n",
       "<thead><tr><th></th><th scope=col>length</th></tr></thead>\n",
       "<tbody>\n",
       "\t<tr><th scope=row>ENSG00000186092</th><td>2618</td></tr>\n",
       "\t<tr><th scope=row>ENSG00000284733</th><td> 939</td></tr>\n",
       "\t<tr><th scope=row>ENSG00000284662</th><td> 995</td></tr>\n",
       "\t<tr><th scope=row>ENSG00000187634</th><td>4172</td></tr>\n",
       "\t<tr><th scope=row>ENSG00000188976</th><td>5540</td></tr>\n",
       "\t<tr><th scope=row>ENSG00000187961</th><td>3402</td></tr>\n",
       "</tbody>\n",
       "</table>\n"
      ],
      "text/latex": [
       "\\begin{tabular}{r|l}\n",
       "  & length\\\\\n",
       "\\hline\n",
       "\tENSG00000186092 & 2618\\\\\n",
       "\tENSG00000284733 &  939\\\\\n",
       "\tENSG00000284662 &  995\\\\\n",
       "\tENSG00000187634 & 4172\\\\\n",
       "\tENSG00000188976 & 5540\\\\\n",
       "\tENSG00000187961 & 3402\\\\\n",
       "\\end{tabular}\n"
      ],
      "text/markdown": [
       "\n",
       "| <!--/--> | length |\n",
       "|---|---|\n",
       "| ENSG00000186092 | 2618 |\n",
       "| ENSG00000284733 |  939 |\n",
       "| ENSG00000284662 |  995 |\n",
       "| ENSG00000187634 | 4172 |\n",
       "| ENSG00000188976 | 5540 |\n",
       "| ENSG00000187961 | 3402 |\n",
       "\n"
      ],
      "text/plain": [
       "                length\n",
       "ENSG00000186092 2618  \n",
       "ENSG00000284733  939  \n",
       "ENSG00000284662  995  \n",
       "ENSG00000187634 4172  \n",
       "ENSG00000188976 5540  \n",
       "ENSG00000187961 3402  "
      ]
     },
     "metadata": {},
     "output_type": "display_data"
    }
   ],
   "source": [
    "genes <- read.csv(\"./data/finalgenelength.csv\", row.names = 1, header= TRUE, check.names = FALSE)\n",
    "head(genes)"
   ]
  },
  {
   "cell_type": "code",
   "execution_count": 9,
   "id": "af227d81",
   "metadata": {
    "ExecuteTime": {
     "end_time": "2023-03-22T15:29:54.634388Z",
     "start_time": "2023-03-22T15:29:51.821Z"
    }
   },
   "outputs": [
    {
     "data": {
      "text/html": [
       "<ol class=list-inline>\n",
       "\t<li>19774</li>\n",
       "\t<li>1</li>\n",
       "</ol>\n"
      ],
      "text/latex": [
       "\\begin{enumerate*}\n",
       "\\item 19774\n",
       "\\item 1\n",
       "\\end{enumerate*}\n"
      ],
      "text/markdown": [
       "1. 19774\n",
       "2. 1\n",
       "\n",
       "\n"
      ],
      "text/plain": [
       "[1] 19774     1"
      ]
     },
     "metadata": {},
     "output_type": "display_data"
    }
   ],
   "source": [
    "dim(genes)"
   ]
  },
  {
   "cell_type": "code",
   "execution_count": 10,
   "id": "bf7fc681",
   "metadata": {
    "ExecuteTime": {
     "end_time": "2023-03-22T15:29:54.656632Z",
     "start_time": "2023-03-22T15:29:51.822Z"
    }
   },
   "outputs": [
    {
     "data": {
      "text/html": [
       "19774"
      ],
      "text/latex": [
       "19774"
      ],
      "text/markdown": [
       "19774"
      ],
      "text/plain": [
       "[1] 19774"
      ]
     },
     "metadata": {},
     "output_type": "display_data"
    }
   ],
   "source": [
    "sum(rownames(genes) == rownames(x))"
   ]
  },
  {
   "cell_type": "code",
   "execution_count": 11,
   "id": "ec2467be",
   "metadata": {
    "ExecuteTime": {
     "end_time": "2023-03-22T15:29:54.683088Z",
     "start_time": "2023-03-22T15:29:51.823Z"
    },
    "scrolled": true
   },
   "outputs": [
    {
     "data": {
      "text/html": [
       "<table>\n",
       "<thead><tr><th></th><th scope=col>SJHBBBM4X52</th><th scope=col>SJHBBBM4JQZ</th><th scope=col>SJHBBBM5SGJ</th><th scope=col>SJHBBBM5TXY</th><th scope=col>SJHBBBM2GV5</th><th scope=col>SJHBBBM39BT</th><th scope=col>SJHBBBM67H6</th><th scope=col>SJHBBBM2BBR</th><th scope=col>SJHBBBN9RBJ</th><th scope=col>SJHBBBM4PX3</th><th scope=col>SJHBBBN9RDM</th><th scope=col>SJHBBBN9R9H</th><th scope=col>SJHBBBM588V</th><th scope=col>SJHBBBN9RFN</th><th scope=col>SJHBBBM55F5</th><th scope=col>SJHBBBM5GW9</th><th scope=col>SJHBBBM5PY5</th><th scope=col>SJHBBBM52XR</th><th scope=col>SJHBBBM5YWS</th></tr></thead>\n",
       "<tbody>\n",
       "\t<tr><th scope=row>ENSG00000186092</th><td>   0 </td><td>   0 </td><td>   0 </td><td>   0 </td><td>    0</td><td>   0 </td><td>   0 </td><td>   0 </td><td>   0 </td><td>   0 </td><td>   0 </td><td>   0 </td><td>   0 </td><td>   0 </td><td>   0 </td><td>   0 </td><td>   0 </td><td>   0 </td><td>   0 </td></tr>\n",
       "\t<tr><th scope=row>ENSG00000284733</th><td>   0 </td><td>   0 </td><td>   0 </td><td>   0 </td><td>    0</td><td>   0 </td><td>   0 </td><td>   0 </td><td>   0 </td><td>   0 </td><td>   0 </td><td>   0 </td><td>   0 </td><td>   0 </td><td>   0 </td><td>   0 </td><td>   0 </td><td>   0 </td><td>   0 </td></tr>\n",
       "\t<tr><th scope=row>ENSG00000284662</th><td>   0 </td><td>   0 </td><td>   0 </td><td>   0 </td><td>    0</td><td>   0 </td><td>   0 </td><td>   0 </td><td>   0 </td><td>   0 </td><td>   0 </td><td>   0 </td><td>   0 </td><td>   0 </td><td>   0 </td><td>   0 </td><td>   0 </td><td>   0 </td><td>   0 </td></tr>\n",
       "\t<tr><th scope=row>ENSG00000187634</th><td>   3 </td><td>   0 </td><td>   0 </td><td>   6 </td><td>    9</td><td>   1 </td><td>  24 </td><td>   2 </td><td>  24 </td><td>   2 </td><td>   3 </td><td>   2 </td><td>   3 </td><td>   5 </td><td>  11 </td><td>   0 </td><td>   7 </td><td>   3 </td><td>   1 </td></tr>\n",
       "\t<tr><th scope=row>ENSG00000188976</th><td>3785 </td><td>3524 </td><td>3861 </td><td>2710 </td><td>11324</td><td>4393 </td><td>4119 </td><td>8499 </td><td>3053 </td><td>2708 </td><td>1970 </td><td>3239 </td><td>1506 </td><td>3098 </td><td>2188 </td><td>4012 </td><td>1707 </td><td>5557 </td><td>2273 </td></tr>\n",
       "\t<tr><th scope=row>ENSG00000187961</th><td> 756 </td><td> 495 </td><td> 193 </td><td> 898 </td><td> 2269</td><td> 883 </td><td> 934 </td><td>1311 </td><td> 514 </td><td> 412 </td><td> 336 </td><td> 542 </td><td> 238 </td><td> 329 </td><td> 188 </td><td> 871 </td><td> 196 </td><td>1225 </td><td> 400 </td></tr>\n",
       "</tbody>\n",
       "</table>\n"
      ],
      "text/latex": [
       "\\begin{tabular}{r|lllllllllllllllllll}\n",
       "  & SJHBBBM4X52 & SJHBBBM4JQZ & SJHBBBM5SGJ & SJHBBBM5TXY & SJHBBBM2GV5 & SJHBBBM39BT & SJHBBBM67H6 & SJHBBBM2BBR & SJHBBBN9RBJ & SJHBBBM4PX3 & SJHBBBN9RDM & SJHBBBN9R9H & SJHBBBM588V & SJHBBBN9RFN & SJHBBBM55F5 & SJHBBBM5GW9 & SJHBBBM5PY5 & SJHBBBM52XR & SJHBBBM5YWS\\\\\n",
       "\\hline\n",
       "\tENSG00000186092 &    0  &    0  &    0  &    0  &     0 &    0  &    0  &    0  &    0  &    0  &    0  &    0  &    0  &    0  &    0  &    0  &    0  &    0  &    0 \\\\\n",
       "\tENSG00000284733 &    0  &    0  &    0  &    0  &     0 &    0  &    0  &    0  &    0  &    0  &    0  &    0  &    0  &    0  &    0  &    0  &    0  &    0  &    0 \\\\\n",
       "\tENSG00000284662 &    0  &    0  &    0  &    0  &     0 &    0  &    0  &    0  &    0  &    0  &    0  &    0  &    0  &    0  &    0  &    0  &    0  &    0  &    0 \\\\\n",
       "\tENSG00000187634 &    3  &    0  &    0  &    6  &     9 &    1  &   24  &    2  &   24  &    2  &    3  &    2  &    3  &    5  &   11  &    0  &    7  &    3  &    1 \\\\\n",
       "\tENSG00000188976 & 3785  & 3524  & 3861  & 2710  & 11324 & 4393  & 4119  & 8499  & 3053  & 2708  & 1970  & 3239  & 1506  & 3098  & 2188  & 4012  & 1707  & 5557  & 2273 \\\\\n",
       "\tENSG00000187961 &  756  &  495  &  193  &  898  &  2269 &  883  &  934  & 1311  &  514  &  412  &  336  &  542  &  238  &  329  &  188  &  871  &  196  & 1225  &  400 \\\\\n",
       "\\end{tabular}\n"
      ],
      "text/markdown": [
       "\n",
       "| <!--/--> | SJHBBBM4X52 | SJHBBBM4JQZ | SJHBBBM5SGJ | SJHBBBM5TXY | SJHBBBM2GV5 | SJHBBBM39BT | SJHBBBM67H6 | SJHBBBM2BBR | SJHBBBN9RBJ | SJHBBBM4PX3 | SJHBBBN9RDM | SJHBBBN9R9H | SJHBBBM588V | SJHBBBN9RFN | SJHBBBM55F5 | SJHBBBM5GW9 | SJHBBBM5PY5 | SJHBBBM52XR | SJHBBBM5YWS |\n",
       "|---|---|---|---|---|---|---|---|---|---|---|---|---|---|---|---|---|---|---|---|\n",
       "| ENSG00000186092 |    0  |    0  |    0  |    0  |     0 |    0  |    0  |    0  |    0  |    0  |    0  |    0  |    0  |    0  |    0  |    0  |    0  |    0  |    0  |\n",
       "| ENSG00000284733 |    0  |    0  |    0  |    0  |     0 |    0  |    0  |    0  |    0  |    0  |    0  |    0  |    0  |    0  |    0  |    0  |    0  |    0  |    0  |\n",
       "| ENSG00000284662 |    0  |    0  |    0  |    0  |     0 |    0  |    0  |    0  |    0  |    0  |    0  |    0  |    0  |    0  |    0  |    0  |    0  |    0  |    0  |\n",
       "| ENSG00000187634 |    3  |    0  |    0  |    6  |     9 |    1  |   24  |    2  |   24  |    2  |    3  |    2  |    3  |    5  |   11  |    0  |    7  |    3  |    1  |\n",
       "| ENSG00000188976 | 3785  | 3524  | 3861  | 2710  | 11324 | 4393  | 4119  | 8499  | 3053  | 2708  | 1970  | 3239  | 1506  | 3098  | 2188  | 4012  | 1707  | 5557  | 2273  |\n",
       "| ENSG00000187961 |  756  |  495  |  193  |  898  |  2269 |  883  |  934  | 1311  |  514  |  412  |  336  |  542  |  238  |  329  |  188  |  871  |  196  | 1225  |  400  |\n",
       "\n"
      ],
      "text/plain": [
       "                SJHBBBM4X52 SJHBBBM4JQZ SJHBBBM5SGJ SJHBBBM5TXY SJHBBBM2GV5\n",
       "ENSG00000186092    0           0           0           0            0      \n",
       "ENSG00000284733    0           0           0           0            0      \n",
       "ENSG00000284662    0           0           0           0            0      \n",
       "ENSG00000187634    3           0           0           6            9      \n",
       "ENSG00000188976 3785        3524        3861        2710        11324      \n",
       "ENSG00000187961  756         495         193         898         2269      \n",
       "                SJHBBBM39BT SJHBBBM67H6 SJHBBBM2BBR SJHBBBN9RBJ SJHBBBM4PX3\n",
       "ENSG00000186092    0           0           0           0           0       \n",
       "ENSG00000284733    0           0           0           0           0       \n",
       "ENSG00000284662    0           0           0           0           0       \n",
       "ENSG00000187634    1          24           2          24           2       \n",
       "ENSG00000188976 4393        4119        8499        3053        2708       \n",
       "ENSG00000187961  883         934        1311         514         412       \n",
       "                SJHBBBN9RDM SJHBBBN9R9H SJHBBBM588V SJHBBBN9RFN SJHBBBM55F5\n",
       "ENSG00000186092    0           0           0           0           0       \n",
       "ENSG00000284733    0           0           0           0           0       \n",
       "ENSG00000284662    0           0           0           0           0       \n",
       "ENSG00000187634    3           2           3           5          11       \n",
       "ENSG00000188976 1970        3239        1506        3098        2188       \n",
       "ENSG00000187961  336         542         238         329         188       \n",
       "                SJHBBBM5GW9 SJHBBBM5PY5 SJHBBBM52XR SJHBBBM5YWS\n",
       "ENSG00000186092    0           0           0           0       \n",
       "ENSG00000284733    0           0           0           0       \n",
       "ENSG00000284662    0           0           0           0       \n",
       "ENSG00000187634    0           7           3           1       \n",
       "ENSG00000188976 4012        1707        5557        2273       \n",
       "ENSG00000187961  871         196        1225         400       "
      ]
     },
     "metadata": {},
     "output_type": "display_data"
    }
   ],
   "source": [
    "head(x)"
   ]
  },
  {
   "cell_type": "markdown",
   "id": "a64d5fd2",
   "metadata": {},
   "source": [
    "#### gene length in kb (x/(lenght/1000))"
   ]
  },
  {
   "cell_type": "code",
   "execution_count": 12,
   "id": "585f6bee",
   "metadata": {
    "ExecuteTime": {
     "end_time": "2023-03-22T15:29:54.964540Z",
     "start_time": "2023-03-22T15:29:51.825Z"
    },
    "scrolled": true
   },
   "outputs": [
    {
     "data": {
      "text/html": [
       "<table>\n",
       "<thead><tr><th></th><th scope=col>SJHBBBM4X52</th><th scope=col>SJHBBBM4JQZ</th><th scope=col>SJHBBBM5SGJ</th><th scope=col>SJHBBBM5TXY</th><th scope=col>SJHBBBM2GV5</th><th scope=col>SJHBBBM39BT</th><th scope=col>SJHBBBM67H6</th><th scope=col>SJHBBBM2BBR</th><th scope=col>SJHBBBN9RBJ</th><th scope=col>SJHBBBM4PX3</th><th scope=col>SJHBBBN9RDM</th><th scope=col>SJHBBBN9R9H</th><th scope=col>SJHBBBM588V</th><th scope=col>SJHBBBN9RFN</th><th scope=col>SJHBBBM55F5</th><th scope=col>SJHBBBM5GW9</th><th scope=col>SJHBBBM5PY5</th><th scope=col>SJHBBBM52XR</th><th scope=col>SJHBBBM5YWS</th></tr></thead>\n",
       "<tbody>\n",
       "\t<tr><th scope=row>ENSG00000186092</th><td>  0.0000000 </td><td>  0.0000    </td><td>  0.00000   </td><td>  0.000000  </td><td>   0.000000 </td><td>  0.0000000 </td><td>  0.000000  </td><td>   0.0000000</td><td>  0.000000  </td><td>  0.0000000 </td><td>  0.0000000 </td><td>  0.0000000 </td><td>  0.0000000 </td><td>  0.000000  </td><td>  0.000000  </td><td>  0.0000    </td><td>  0.000000  </td><td>   0.0000000</td><td>  0.0000000 </td></tr>\n",
       "\t<tr><th scope=row>ENSG00000284733</th><td>  0.0000000 </td><td>  0.0000    </td><td>  0.00000   </td><td>  0.000000  </td><td>   0.000000 </td><td>  0.0000000 </td><td>  0.000000  </td><td>   0.0000000</td><td>  0.000000  </td><td>  0.0000000 </td><td>  0.0000000 </td><td>  0.0000000 </td><td>  0.0000000 </td><td>  0.000000  </td><td>  0.000000  </td><td>  0.0000    </td><td>  0.000000  </td><td>   0.0000000</td><td>  0.0000000 </td></tr>\n",
       "\t<tr><th scope=row>ENSG00000284662</th><td>  0.0000000 </td><td>  0.0000    </td><td>  0.00000   </td><td>  0.000000  </td><td>   0.000000 </td><td>  0.0000000 </td><td>  0.000000  </td><td>   0.0000000</td><td>  0.000000  </td><td>  0.0000000 </td><td>  0.0000000 </td><td>  0.0000000 </td><td>  0.0000000 </td><td>  0.000000  </td><td>  0.000000  </td><td>  0.0000    </td><td>  0.000000  </td><td>   0.0000000</td><td>  0.0000000 </td></tr>\n",
       "\t<tr><th scope=row>ENSG00000187634</th><td>  0.7190796 </td><td>  0.0000    </td><td>  0.00000   </td><td>  1.438159  </td><td>   2.157239 </td><td>  0.2396932 </td><td>  5.752637  </td><td>   0.4793864</td><td>  5.752637  </td><td>  0.4793864 </td><td>  0.7190796 </td><td>  0.4793864 </td><td>  0.7190796 </td><td>  1.198466  </td><td>  2.636625  </td><td>  0.0000    </td><td>  1.677852  </td><td>   0.7190796</td><td>  0.2396932 </td></tr>\n",
       "\t<tr><th scope=row>ENSG00000188976</th><td>683.2129964 </td><td>636.1011    </td><td>696.93141   </td><td>489.169675  </td><td>2044.043321 </td><td>792.9602888 </td><td>743.501805  </td><td>1534.1155235</td><td>551.083032  </td><td>488.8086643 </td><td>355.5956679 </td><td>584.6570397 </td><td>271.8411552 </td><td>559.205776  </td><td>394.945848  </td><td>724.1877    </td><td>308.122744  </td><td>1003.0685921</td><td>410.2888087 </td></tr>\n",
       "\t<tr><th scope=row>ENSG00000187961</th><td>222.2222222 </td><td>145.5026    </td><td> 56.73133   </td><td>263.962375  </td><td> 666.960611 </td><td>259.5532040 </td><td>274.544386  </td><td> 385.3615520</td><td>151.087596  </td><td>121.1052322 </td><td> 98.7654321 </td><td>159.3180482 </td><td> 69.9588477 </td><td> 96.707819  </td><td> 55.261611  </td><td>256.0259    </td><td> 57.613169  </td><td> 360.0823045</td><td>117.5778954 </td></tr>\n",
       "</tbody>\n",
       "</table>\n"
      ],
      "text/latex": [
       "\\begin{tabular}{r|lllllllllllllllllll}\n",
       "  & SJHBBBM4X52 & SJHBBBM4JQZ & SJHBBBM5SGJ & SJHBBBM5TXY & SJHBBBM2GV5 & SJHBBBM39BT & SJHBBBM67H6 & SJHBBBM2BBR & SJHBBBN9RBJ & SJHBBBM4PX3 & SJHBBBN9RDM & SJHBBBN9R9H & SJHBBBM588V & SJHBBBN9RFN & SJHBBBM55F5 & SJHBBBM5GW9 & SJHBBBM5PY5 & SJHBBBM52XR & SJHBBBM5YWS\\\\\n",
       "\\hline\n",
       "\tENSG00000186092 &   0.0000000  &   0.0000     &   0.00000    &   0.000000   &    0.000000  &   0.0000000  &   0.000000   &    0.0000000 &   0.000000   &   0.0000000  &   0.0000000  &   0.0000000  &   0.0000000  &   0.000000   &   0.000000   &   0.0000     &   0.000000   &    0.0000000 &   0.0000000 \\\\\n",
       "\tENSG00000284733 &   0.0000000  &   0.0000     &   0.00000    &   0.000000   &    0.000000  &   0.0000000  &   0.000000   &    0.0000000 &   0.000000   &   0.0000000  &   0.0000000  &   0.0000000  &   0.0000000  &   0.000000   &   0.000000   &   0.0000     &   0.000000   &    0.0000000 &   0.0000000 \\\\\n",
       "\tENSG00000284662 &   0.0000000  &   0.0000     &   0.00000    &   0.000000   &    0.000000  &   0.0000000  &   0.000000   &    0.0000000 &   0.000000   &   0.0000000  &   0.0000000  &   0.0000000  &   0.0000000  &   0.000000   &   0.000000   &   0.0000     &   0.000000   &    0.0000000 &   0.0000000 \\\\\n",
       "\tENSG00000187634 &   0.7190796  &   0.0000     &   0.00000    &   1.438159   &    2.157239  &   0.2396932  &   5.752637   &    0.4793864 &   5.752637   &   0.4793864  &   0.7190796  &   0.4793864  &   0.7190796  &   1.198466   &   2.636625   &   0.0000     &   1.677852   &    0.7190796 &   0.2396932 \\\\\n",
       "\tENSG00000188976 & 683.2129964  & 636.1011     & 696.93141    & 489.169675   & 2044.043321  & 792.9602888  & 743.501805   & 1534.1155235 & 551.083032   & 488.8086643  & 355.5956679  & 584.6570397  & 271.8411552  & 559.205776   & 394.945848   & 724.1877     & 308.122744   & 1003.0685921 & 410.2888087 \\\\\n",
       "\tENSG00000187961 & 222.2222222  & 145.5026     &  56.73133    & 263.962375   &  666.960611  & 259.5532040  & 274.544386   &  385.3615520 & 151.087596   & 121.1052322  &  98.7654321  & 159.3180482  &  69.9588477  &  96.707819   &  55.261611   & 256.0259     &  57.613169   &  360.0823045 & 117.5778954 \\\\\n",
       "\\end{tabular}\n"
      ],
      "text/markdown": [
       "\n",
       "| <!--/--> | SJHBBBM4X52 | SJHBBBM4JQZ | SJHBBBM5SGJ | SJHBBBM5TXY | SJHBBBM2GV5 | SJHBBBM39BT | SJHBBBM67H6 | SJHBBBM2BBR | SJHBBBN9RBJ | SJHBBBM4PX3 | SJHBBBN9RDM | SJHBBBN9R9H | SJHBBBM588V | SJHBBBN9RFN | SJHBBBM55F5 | SJHBBBM5GW9 | SJHBBBM5PY5 | SJHBBBM52XR | SJHBBBM5YWS |\n",
       "|---|---|---|---|---|---|---|---|---|---|---|---|---|---|---|---|---|---|---|---|\n",
       "| ENSG00000186092 |   0.0000000  |   0.0000     |   0.00000    |   0.000000   |    0.000000  |   0.0000000  |   0.000000   |    0.0000000 |   0.000000   |   0.0000000  |   0.0000000  |   0.0000000  |   0.0000000  |   0.000000   |   0.000000   |   0.0000     |   0.000000   |    0.0000000 |   0.0000000  |\n",
       "| ENSG00000284733 |   0.0000000  |   0.0000     |   0.00000    |   0.000000   |    0.000000  |   0.0000000  |   0.000000   |    0.0000000 |   0.000000   |   0.0000000  |   0.0000000  |   0.0000000  |   0.0000000  |   0.000000   |   0.000000   |   0.0000     |   0.000000   |    0.0000000 |   0.0000000  |\n",
       "| ENSG00000284662 |   0.0000000  |   0.0000     |   0.00000    |   0.000000   |    0.000000  |   0.0000000  |   0.000000   |    0.0000000 |   0.000000   |   0.0000000  |   0.0000000  |   0.0000000  |   0.0000000  |   0.000000   |   0.000000   |   0.0000     |   0.000000   |    0.0000000 |   0.0000000  |\n",
       "| ENSG00000187634 |   0.7190796  |   0.0000     |   0.00000    |   1.438159   |    2.157239  |   0.2396932  |   5.752637   |    0.4793864 |   5.752637   |   0.4793864  |   0.7190796  |   0.4793864  |   0.7190796  |   1.198466   |   2.636625   |   0.0000     |   1.677852   |    0.7190796 |   0.2396932  |\n",
       "| ENSG00000188976 | 683.2129964  | 636.1011     | 696.93141    | 489.169675   | 2044.043321  | 792.9602888  | 743.501805   | 1534.1155235 | 551.083032   | 488.8086643  | 355.5956679  | 584.6570397  | 271.8411552  | 559.205776   | 394.945848   | 724.1877     | 308.122744   | 1003.0685921 | 410.2888087  |\n",
       "| ENSG00000187961 | 222.2222222  | 145.5026     |  56.73133    | 263.962375   |  666.960611  | 259.5532040  | 274.544386   |  385.3615520 | 151.087596   | 121.1052322  |  98.7654321  | 159.3180482  |  69.9588477  |  96.707819   |  55.261611   | 256.0259     |  57.613169   |  360.0823045 | 117.5778954  |\n",
       "\n"
      ],
      "text/plain": [
       "                SJHBBBM4X52 SJHBBBM4JQZ SJHBBBM5SGJ SJHBBBM5TXY SJHBBBM2GV5\n",
       "ENSG00000186092   0.0000000   0.0000      0.00000     0.000000     0.000000\n",
       "ENSG00000284733   0.0000000   0.0000      0.00000     0.000000     0.000000\n",
       "ENSG00000284662   0.0000000   0.0000      0.00000     0.000000     0.000000\n",
       "ENSG00000187634   0.7190796   0.0000      0.00000     1.438159     2.157239\n",
       "ENSG00000188976 683.2129964 636.1011    696.93141   489.169675  2044.043321\n",
       "ENSG00000187961 222.2222222 145.5026     56.73133   263.962375   666.960611\n",
       "                SJHBBBM39BT SJHBBBM67H6 SJHBBBM2BBR  SJHBBBN9RBJ SJHBBBM4PX3\n",
       "ENSG00000186092   0.0000000   0.000000     0.0000000   0.000000    0.0000000\n",
       "ENSG00000284733   0.0000000   0.000000     0.0000000   0.000000    0.0000000\n",
       "ENSG00000284662   0.0000000   0.000000     0.0000000   0.000000    0.0000000\n",
       "ENSG00000187634   0.2396932   5.752637     0.4793864   5.752637    0.4793864\n",
       "ENSG00000188976 792.9602888 743.501805  1534.1155235 551.083032  488.8086643\n",
       "ENSG00000187961 259.5532040 274.544386   385.3615520 151.087596  121.1052322\n",
       "                SJHBBBN9RDM SJHBBBN9R9H SJHBBBM588V SJHBBBN9RFN SJHBBBM55F5\n",
       "ENSG00000186092   0.0000000   0.0000000   0.0000000   0.000000    0.000000 \n",
       "ENSG00000284733   0.0000000   0.0000000   0.0000000   0.000000    0.000000 \n",
       "ENSG00000284662   0.0000000   0.0000000   0.0000000   0.000000    0.000000 \n",
       "ENSG00000187634   0.7190796   0.4793864   0.7190796   1.198466    2.636625 \n",
       "ENSG00000188976 355.5956679 584.6570397 271.8411552 559.205776  394.945848 \n",
       "ENSG00000187961  98.7654321 159.3180482  69.9588477  96.707819   55.261611 \n",
       "                SJHBBBM5GW9 SJHBBBM5PY5 SJHBBBM52XR  SJHBBBM5YWS\n",
       "ENSG00000186092   0.0000      0.000000     0.0000000   0.0000000\n",
       "ENSG00000284733   0.0000      0.000000     0.0000000   0.0000000\n",
       "ENSG00000284662   0.0000      0.000000     0.0000000   0.0000000\n",
       "ENSG00000187634   0.0000      1.677852     0.7190796   0.2396932\n",
       "ENSG00000188976 724.1877    308.122744  1003.0685921 410.2888087\n",
       "ENSG00000187961 256.0259     57.613169   360.0823045 117.5778954"
      ]
     },
     "metadata": {},
     "output_type": "display_data"
    }
   ],
   "source": [
    "data <- ( (x*10^3 )/genes$length)\n",
    "head(data)"
   ]
  },
  {
   "cell_type": "code",
   "execution_count": 13,
   "id": "dbbef662",
   "metadata": {
    "ExecuteTime": {
     "end_time": "2023-03-22T15:29:54.997911Z",
     "start_time": "2023-03-22T15:29:51.825Z"
    }
   },
   "outputs": [],
   "source": [
    "d <- DGEList(counts=data, group=group)"
   ]
  },
  {
   "cell_type": "code",
   "execution_count": 14,
   "id": "c2291cf9",
   "metadata": {
    "ExecuteTime": {
     "end_time": "2023-03-22T15:29:55.032556Z",
     "start_time": "2023-03-22T15:29:51.827Z"
    }
   },
   "outputs": [
    {
     "data": {
      "text/html": [
       "<dl>\n",
       "\t<dt>$counts</dt>\n",
       "\t\t<dd><table>\n",
       "<thead><tr><th></th><th scope=col>SJHBBBM4X52</th><th scope=col>SJHBBBM4JQZ</th><th scope=col>SJHBBBM5SGJ</th><th scope=col>SJHBBBM5TXY</th><th scope=col>SJHBBBM2GV5</th><th scope=col>SJHBBBM39BT</th><th scope=col>SJHBBBM67H6</th><th scope=col>SJHBBBM2BBR</th><th scope=col>SJHBBBN9RBJ</th><th scope=col>SJHBBBM4PX3</th><th scope=col>SJHBBBN9RDM</th><th scope=col>SJHBBBN9R9H</th><th scope=col>SJHBBBM588V</th><th scope=col>SJHBBBN9RFN</th><th scope=col>SJHBBBM55F5</th><th scope=col>SJHBBBM5GW9</th><th scope=col>SJHBBBM5PY5</th><th scope=col>SJHBBBM52XR</th><th scope=col>SJHBBBM5YWS</th></tr></thead>\n",
       "<tbody>\n",
       "\t<tr><th scope=row>ENSG00000186092</th><td>  0.0000000 </td><td>  0.0000    </td><td>  0.00000   </td><td>  0.000000  </td><td>   0.000000 </td><td>  0.0000000 </td><td>  0.000000  </td><td>   0.0000000</td><td>  0.000000  </td><td>  0.0000000 </td><td>  0.0000000 </td><td>  0.0000000 </td><td>  0.0000000 </td><td>  0.000000  </td><td>  0.000000  </td><td>  0.0000    </td><td>  0.000000  </td><td>   0.0000000</td><td>  0.0000000 </td></tr>\n",
       "\t<tr><th scope=row>ENSG00000284733</th><td>  0.0000000 </td><td>  0.0000    </td><td>  0.00000   </td><td>  0.000000  </td><td>   0.000000 </td><td>  0.0000000 </td><td>  0.000000  </td><td>   0.0000000</td><td>  0.000000  </td><td>  0.0000000 </td><td>  0.0000000 </td><td>  0.0000000 </td><td>  0.0000000 </td><td>  0.000000  </td><td>  0.000000  </td><td>  0.0000    </td><td>  0.000000  </td><td>   0.0000000</td><td>  0.0000000 </td></tr>\n",
       "\t<tr><th scope=row>ENSG00000284662</th><td>  0.0000000 </td><td>  0.0000    </td><td>  0.00000   </td><td>  0.000000  </td><td>   0.000000 </td><td>  0.0000000 </td><td>  0.000000  </td><td>   0.0000000</td><td>  0.000000  </td><td>  0.0000000 </td><td>  0.0000000 </td><td>  0.0000000 </td><td>  0.0000000 </td><td>  0.000000  </td><td>  0.000000  </td><td>  0.0000    </td><td>  0.000000  </td><td>   0.0000000</td><td>  0.0000000 </td></tr>\n",
       "\t<tr><th scope=row>ENSG00000187634</th><td>  0.7190796 </td><td>  0.0000    </td><td>  0.00000   </td><td>  1.438159  </td><td>   2.157239 </td><td>  0.2396932 </td><td>  5.752637  </td><td>   0.4793864</td><td>  5.752637  </td><td>  0.4793864 </td><td>  0.7190796 </td><td>  0.4793864 </td><td>  0.7190796 </td><td>  1.198466  </td><td>  2.636625  </td><td>  0.0000    </td><td>  1.677852  </td><td>   0.7190796</td><td>  0.2396932 </td></tr>\n",
       "\t<tr><th scope=row>ENSG00000188976</th><td>683.2129964 </td><td>636.1011    </td><td>696.93141   </td><td>489.169675  </td><td>2044.043321 </td><td>792.9602888 </td><td>743.501805  </td><td>1534.1155235</td><td>551.083032  </td><td>488.8086643 </td><td>355.5956679 </td><td>584.6570397 </td><td>271.8411552 </td><td>559.205776  </td><td>394.945848  </td><td>724.1877    </td><td>308.122744  </td><td>1003.0685921</td><td>410.2888087 </td></tr>\n",
       "\t<tr><th scope=row>ENSG00000187961</th><td>222.2222222 </td><td>145.5026    </td><td> 56.73133   </td><td>263.962375  </td><td> 666.960611 </td><td>259.5532040 </td><td>274.544386  </td><td> 385.3615520</td><td>151.087596  </td><td>121.1052322 </td><td> 98.7654321 </td><td>159.3180482 </td><td> 69.9588477 </td><td> 96.707819  </td><td> 55.261611  </td><td>256.0259    </td><td> 57.613169  </td><td> 360.0823045</td><td>117.5778954 </td></tr>\n",
       "</tbody>\n",
       "</table>\n",
       "</dd>\n",
       "\t<dt>$samples</dt>\n",
       "\t\t<dd><table>\n",
       "<thead><tr><th></th><th scope=col>group</th><th scope=col>lib.size</th><th scope=col>norm.factors</th></tr></thead>\n",
       "<tbody>\n",
       "\t<tr><th scope=row>SJHBBBM4X52</th><td>batch1-GEO</td><td> 8188287  </td><td>1         </td></tr>\n",
       "\t<tr><th scope=row>SJHBBBM4JQZ</th><td>batch1-GEO</td><td> 8525097  </td><td>1         </td></tr>\n",
       "\t<tr><th scope=row>SJHBBBM5SGJ</th><td>batch1-GEO</td><td> 8318486  </td><td>1         </td></tr>\n",
       "\t<tr><th scope=row>SJHBBBM5TXY</th><td>batch1-GEO</td><td> 8634618  </td><td>1         </td></tr>\n",
       "\t<tr><th scope=row>SJHBBBM2GV5</th><td>batch1-GEO</td><td>16643999  </td><td>1         </td></tr>\n",
       "\t<tr><th scope=row>SJHBBBM39BT</th><td>batch1-GEO</td><td> 8710307  </td><td>1         </td></tr>\n",
       "\t<tr><th scope=row>SJHBBBM67H6</th><td>batch1-GEO</td><td>11095218  </td><td>1         </td></tr>\n",
       "\t<tr><th scope=row>SJHBBBM2BBR</th><td>batch1-GEO</td><td>15924844  </td><td>1         </td></tr>\n",
       "\t<tr><th scope=row>SJHBBBN9RBJ</th><td>batch1-GEO</td><td> 7571423  </td><td>1         </td></tr>\n",
       "\t<tr><th scope=row>SJHBBBM4PX3</th><td>batch1-GEO</td><td> 5747665  </td><td>1         </td></tr>\n",
       "\t<tr><th scope=row>SJHBBBN9RDM</th><td>batch1-GEO</td><td> 8729807  </td><td>1         </td></tr>\n",
       "\t<tr><th scope=row>SJHBBBN9R9H</th><td>batch1-GEO</td><td> 8983642  </td><td>1         </td></tr>\n",
       "\t<tr><th scope=row>SJHBBBM588V</th><td>batch1-GEO</td><td> 3294579  </td><td>1         </td></tr>\n",
       "\t<tr><th scope=row>SJHBBBN9RFN</th><td>batch1-GEO</td><td> 6849946  </td><td>1         </td></tr>\n",
       "\t<tr><th scope=row>SJHBBBM55F5</th><td>batch1-GEO</td><td> 4166449  </td><td>1         </td></tr>\n",
       "\t<tr><th scope=row>SJHBBBM5GW9</th><td>batch1-GEO</td><td> 7716204  </td><td>1         </td></tr>\n",
       "\t<tr><th scope=row>SJHBBBM5PY5</th><td>batch1-GEO</td><td> 5729558  </td><td>1         </td></tr>\n",
       "\t<tr><th scope=row>SJHBBBM52XR</th><td>batch1-GEO</td><td> 8512263  </td><td>1         </td></tr>\n",
       "\t<tr><th scope=row>SJHBBBM5YWS</th><td>batch1-GEO</td><td> 5173769  </td><td>1         </td></tr>\n",
       "</tbody>\n",
       "</table>\n",
       "</dd>\n",
       "</dl>\n"
      ],
      "text/latex": [
       "\\begin{description}\n",
       "\\item[\\$counts] \\begin{tabular}{r|lllllllllllllllllll}\n",
       "  & SJHBBBM4X52 & SJHBBBM4JQZ & SJHBBBM5SGJ & SJHBBBM5TXY & SJHBBBM2GV5 & SJHBBBM39BT & SJHBBBM67H6 & SJHBBBM2BBR & SJHBBBN9RBJ & SJHBBBM4PX3 & SJHBBBN9RDM & SJHBBBN9R9H & SJHBBBM588V & SJHBBBN9RFN & SJHBBBM55F5 & SJHBBBM5GW9 & SJHBBBM5PY5 & SJHBBBM52XR & SJHBBBM5YWS\\\\\n",
       "\\hline\n",
       "\tENSG00000186092 &   0.0000000  &   0.0000     &   0.00000    &   0.000000   &    0.000000  &   0.0000000  &   0.000000   &    0.0000000 &   0.000000   &   0.0000000  &   0.0000000  &   0.0000000  &   0.0000000  &   0.000000   &   0.000000   &   0.0000     &   0.000000   &    0.0000000 &   0.0000000 \\\\\n",
       "\tENSG00000284733 &   0.0000000  &   0.0000     &   0.00000    &   0.000000   &    0.000000  &   0.0000000  &   0.000000   &    0.0000000 &   0.000000   &   0.0000000  &   0.0000000  &   0.0000000  &   0.0000000  &   0.000000   &   0.000000   &   0.0000     &   0.000000   &    0.0000000 &   0.0000000 \\\\\n",
       "\tENSG00000284662 &   0.0000000  &   0.0000     &   0.00000    &   0.000000   &    0.000000  &   0.0000000  &   0.000000   &    0.0000000 &   0.000000   &   0.0000000  &   0.0000000  &   0.0000000  &   0.0000000  &   0.000000   &   0.000000   &   0.0000     &   0.000000   &    0.0000000 &   0.0000000 \\\\\n",
       "\tENSG00000187634 &   0.7190796  &   0.0000     &   0.00000    &   1.438159   &    2.157239  &   0.2396932  &   5.752637   &    0.4793864 &   5.752637   &   0.4793864  &   0.7190796  &   0.4793864  &   0.7190796  &   1.198466   &   2.636625   &   0.0000     &   1.677852   &    0.7190796 &   0.2396932 \\\\\n",
       "\tENSG00000188976 & 683.2129964  & 636.1011     & 696.93141    & 489.169675   & 2044.043321  & 792.9602888  & 743.501805   & 1534.1155235 & 551.083032   & 488.8086643  & 355.5956679  & 584.6570397  & 271.8411552  & 559.205776   & 394.945848   & 724.1877     & 308.122744   & 1003.0685921 & 410.2888087 \\\\\n",
       "\tENSG00000187961 & 222.2222222  & 145.5026     &  56.73133    & 263.962375   &  666.960611  & 259.5532040  & 274.544386   &  385.3615520 & 151.087596   & 121.1052322  &  98.7654321  & 159.3180482  &  69.9588477  &  96.707819   &  55.261611   & 256.0259     &  57.613169   &  360.0823045 & 117.5778954 \\\\\n",
       "\\end{tabular}\n",
       "\n",
       "\\item[\\$samples] \\begin{tabular}{r|lll}\n",
       "  & group & lib.size & norm.factors\\\\\n",
       "\\hline\n",
       "\tSJHBBBM4X52 & batch1-GEO &  8188287   & 1         \\\\\n",
       "\tSJHBBBM4JQZ & batch1-GEO &  8525097   & 1         \\\\\n",
       "\tSJHBBBM5SGJ & batch1-GEO &  8318486   & 1         \\\\\n",
       "\tSJHBBBM5TXY & batch1-GEO &  8634618   & 1         \\\\\n",
       "\tSJHBBBM2GV5 & batch1-GEO & 16643999   & 1         \\\\\n",
       "\tSJHBBBM39BT & batch1-GEO &  8710307   & 1         \\\\\n",
       "\tSJHBBBM67H6 & batch1-GEO & 11095218   & 1         \\\\\n",
       "\tSJHBBBM2BBR & batch1-GEO & 15924844   & 1         \\\\\n",
       "\tSJHBBBN9RBJ & batch1-GEO &  7571423   & 1         \\\\\n",
       "\tSJHBBBM4PX3 & batch1-GEO &  5747665   & 1         \\\\\n",
       "\tSJHBBBN9RDM & batch1-GEO &  8729807   & 1         \\\\\n",
       "\tSJHBBBN9R9H & batch1-GEO &  8983642   & 1         \\\\\n",
       "\tSJHBBBM588V & batch1-GEO &  3294579   & 1         \\\\\n",
       "\tSJHBBBN9RFN & batch1-GEO &  6849946   & 1         \\\\\n",
       "\tSJHBBBM55F5 & batch1-GEO &  4166449   & 1         \\\\\n",
       "\tSJHBBBM5GW9 & batch1-GEO &  7716204   & 1         \\\\\n",
       "\tSJHBBBM5PY5 & batch1-GEO &  5729558   & 1         \\\\\n",
       "\tSJHBBBM52XR & batch1-GEO &  8512263   & 1         \\\\\n",
       "\tSJHBBBM5YWS & batch1-GEO &  5173769   & 1         \\\\\n",
       "\\end{tabular}\n",
       "\n",
       "\\end{description}\n"
      ],
      "text/markdown": [
       "$counts\n",
       ":   \n",
       "| <!--/--> | SJHBBBM4X52 | SJHBBBM4JQZ | SJHBBBM5SGJ | SJHBBBM5TXY | SJHBBBM2GV5 | SJHBBBM39BT | SJHBBBM67H6 | SJHBBBM2BBR | SJHBBBN9RBJ | SJHBBBM4PX3 | SJHBBBN9RDM | SJHBBBN9R9H | SJHBBBM588V | SJHBBBN9RFN | SJHBBBM55F5 | SJHBBBM5GW9 | SJHBBBM5PY5 | SJHBBBM52XR | SJHBBBM5YWS |\n",
       "|---|---|---|---|---|---|---|---|---|---|---|---|---|---|---|---|---|---|---|---|\n",
       "| ENSG00000186092 |   0.0000000  |   0.0000     |   0.00000    |   0.000000   |    0.000000  |   0.0000000  |   0.000000   |    0.0000000 |   0.000000   |   0.0000000  |   0.0000000  |   0.0000000  |   0.0000000  |   0.000000   |   0.000000   |   0.0000     |   0.000000   |    0.0000000 |   0.0000000  |\n",
       "| ENSG00000284733 |   0.0000000  |   0.0000     |   0.00000    |   0.000000   |    0.000000  |   0.0000000  |   0.000000   |    0.0000000 |   0.000000   |   0.0000000  |   0.0000000  |   0.0000000  |   0.0000000  |   0.000000   |   0.000000   |   0.0000     |   0.000000   |    0.0000000 |   0.0000000  |\n",
       "| ENSG00000284662 |   0.0000000  |   0.0000     |   0.00000    |   0.000000   |    0.000000  |   0.0000000  |   0.000000   |    0.0000000 |   0.000000   |   0.0000000  |   0.0000000  |   0.0000000  |   0.0000000  |   0.000000   |   0.000000   |   0.0000     |   0.000000   |    0.0000000 |   0.0000000  |\n",
       "| ENSG00000187634 |   0.7190796  |   0.0000     |   0.00000    |   1.438159   |    2.157239  |   0.2396932  |   5.752637   |    0.4793864 |   5.752637   |   0.4793864  |   0.7190796  |   0.4793864  |   0.7190796  |   1.198466   |   2.636625   |   0.0000     |   1.677852   |    0.7190796 |   0.2396932  |\n",
       "| ENSG00000188976 | 683.2129964  | 636.1011     | 696.93141    | 489.169675   | 2044.043321  | 792.9602888  | 743.501805   | 1534.1155235 | 551.083032   | 488.8086643  | 355.5956679  | 584.6570397  | 271.8411552  | 559.205776   | 394.945848   | 724.1877     | 308.122744   | 1003.0685921 | 410.2888087  |\n",
       "| ENSG00000187961 | 222.2222222  | 145.5026     |  56.73133    | 263.962375   |  666.960611  | 259.5532040  | 274.544386   |  385.3615520 | 151.087596   | 121.1052322  |  98.7654321  | 159.3180482  |  69.9588477  |  96.707819   |  55.261611   | 256.0259     |  57.613169   |  360.0823045 | 117.5778954  |\n",
       "\n",
       "\n",
       "$samples\n",
       ":   \n",
       "| <!--/--> | group | lib.size | norm.factors |\n",
       "|---|---|---|---|\n",
       "| SJHBBBM4X52 | batch1-GEO |  8188287   | 1          |\n",
       "| SJHBBBM4JQZ | batch1-GEO |  8525097   | 1          |\n",
       "| SJHBBBM5SGJ | batch1-GEO |  8318486   | 1          |\n",
       "| SJHBBBM5TXY | batch1-GEO |  8634618   | 1          |\n",
       "| SJHBBBM2GV5 | batch1-GEO | 16643999   | 1          |\n",
       "| SJHBBBM39BT | batch1-GEO |  8710307   | 1          |\n",
       "| SJHBBBM67H6 | batch1-GEO | 11095218   | 1          |\n",
       "| SJHBBBM2BBR | batch1-GEO | 15924844   | 1          |\n",
       "| SJHBBBN9RBJ | batch1-GEO |  7571423   | 1          |\n",
       "| SJHBBBM4PX3 | batch1-GEO |  5747665   | 1          |\n",
       "| SJHBBBN9RDM | batch1-GEO |  8729807   | 1          |\n",
       "| SJHBBBN9R9H | batch1-GEO |  8983642   | 1          |\n",
       "| SJHBBBM588V | batch1-GEO |  3294579   | 1          |\n",
       "| SJHBBBN9RFN | batch1-GEO |  6849946   | 1          |\n",
       "| SJHBBBM55F5 | batch1-GEO |  4166449   | 1          |\n",
       "| SJHBBBM5GW9 | batch1-GEO |  7716204   | 1          |\n",
       "| SJHBBBM5PY5 | batch1-GEO |  5729558   | 1          |\n",
       "| SJHBBBM52XR | batch1-GEO |  8512263   | 1          |\n",
       "| SJHBBBM5YWS | batch1-GEO |  5173769   | 1          |\n",
       "\n",
       "\n",
       "\n",
       "\n"
      ],
      "text/plain": [
       "An object of class \"DGEList\"\n",
       "$counts\n",
       "                SJHBBBM4X52 SJHBBBM4JQZ SJHBBBM5SGJ SJHBBBM5TXY SJHBBBM2GV5\n",
       "ENSG00000186092   0.0000000      0.0000     0.00000    0.000000    0.000000\n",
       "ENSG00000284733   0.0000000      0.0000     0.00000    0.000000    0.000000\n",
       "ENSG00000284662   0.0000000      0.0000     0.00000    0.000000    0.000000\n",
       "ENSG00000187634   0.7190796      0.0000     0.00000    1.438159    2.157239\n",
       "ENSG00000188976 683.2129964    636.1011   696.93141  489.169675 2044.043321\n",
       "ENSG00000187961 222.2222222    145.5026    56.73133  263.962375  666.960611\n",
       "                SJHBBBM39BT SJHBBBM67H6  SJHBBBM2BBR SJHBBBN9RBJ SJHBBBM4PX3\n",
       "ENSG00000186092   0.0000000    0.000000    0.0000000    0.000000   0.0000000\n",
       "ENSG00000284733   0.0000000    0.000000    0.0000000    0.000000   0.0000000\n",
       "ENSG00000284662   0.0000000    0.000000    0.0000000    0.000000   0.0000000\n",
       "ENSG00000187634   0.2396932    5.752637    0.4793864    5.752637   0.4793864\n",
       "ENSG00000188976 792.9602888  743.501805 1534.1155235  551.083032 488.8086643\n",
       "ENSG00000187961 259.5532040  274.544386  385.3615520  151.087596 121.1052322\n",
       "                SJHBBBN9RDM SJHBBBN9R9H SJHBBBM588V SJHBBBN9RFN SJHBBBM55F5\n",
       "ENSG00000186092   0.0000000   0.0000000   0.0000000    0.000000    0.000000\n",
       "ENSG00000284733   0.0000000   0.0000000   0.0000000    0.000000    0.000000\n",
       "ENSG00000284662   0.0000000   0.0000000   0.0000000    0.000000    0.000000\n",
       "ENSG00000187634   0.7190796   0.4793864   0.7190796    1.198466    2.636625\n",
       "ENSG00000188976 355.5956679 584.6570397 271.8411552  559.205776  394.945848\n",
       "ENSG00000187961  98.7654321 159.3180482  69.9588477   96.707819   55.261611\n",
       "                SJHBBBM5GW9 SJHBBBM5PY5  SJHBBBM52XR SJHBBBM5YWS\n",
       "ENSG00000186092      0.0000    0.000000    0.0000000   0.0000000\n",
       "ENSG00000284733      0.0000    0.000000    0.0000000   0.0000000\n",
       "ENSG00000284662      0.0000    0.000000    0.0000000   0.0000000\n",
       "ENSG00000187634      0.0000    1.677852    0.7190796   0.2396932\n",
       "ENSG00000188976    724.1877  308.122744 1003.0685921 410.2888087\n",
       "ENSG00000187961    256.0259   57.613169  360.0823045 117.5778954\n",
       "\n",
       "$samples\n",
       "                 group lib.size norm.factors\n",
       "SJHBBBM4X52 batch1-GEO  8188287            1\n",
       "SJHBBBM4JQZ batch1-GEO  8525097            1\n",
       "SJHBBBM5SGJ batch1-GEO  8318486            1\n",
       "SJHBBBM5TXY batch1-GEO  8634618            1\n",
       "SJHBBBM2GV5 batch1-GEO 16643999            1\n",
       "14 more rows ...\n"
      ]
     },
     "metadata": {},
     "output_type": "display_data"
    }
   ],
   "source": [
    "head(d)"
   ]
  },
  {
   "cell_type": "code",
   "execution_count": 15,
   "id": "92bdd051",
   "metadata": {
    "ExecuteTime": {
     "end_time": "2023-03-22T15:29:55.264971Z",
     "start_time": "2023-03-22T15:29:51.827Z"
    }
   },
   "outputs": [],
   "source": [
    "TMM <- calcNormFactors(d, method=\"TMM\")"
   ]
  },
  {
   "cell_type": "code",
   "execution_count": 16,
   "id": "189076fc",
   "metadata": {
    "ExecuteTime": {
     "end_time": "2023-03-22T15:29:55.298328Z",
     "start_time": "2023-03-22T15:29:51.829Z"
    },
    "scrolled": true
   },
   "outputs": [
    {
     "data": {
      "text/html": [
       "<dl>\n",
       "\t<dt>$counts</dt>\n",
       "\t\t<dd><table>\n",
       "<thead><tr><th></th><th scope=col>SJHBBBM4X52</th><th scope=col>SJHBBBM4JQZ</th><th scope=col>SJHBBBM5SGJ</th><th scope=col>SJHBBBM5TXY</th><th scope=col>SJHBBBM2GV5</th><th scope=col>SJHBBBM39BT</th><th scope=col>SJHBBBM67H6</th><th scope=col>SJHBBBM2BBR</th><th scope=col>SJHBBBN9RBJ</th><th scope=col>SJHBBBM4PX3</th><th scope=col>SJHBBBN9RDM</th><th scope=col>SJHBBBN9R9H</th><th scope=col>SJHBBBM588V</th><th scope=col>SJHBBBN9RFN</th><th scope=col>SJHBBBM55F5</th><th scope=col>SJHBBBM5GW9</th><th scope=col>SJHBBBM5PY5</th><th scope=col>SJHBBBM52XR</th><th scope=col>SJHBBBM5YWS</th></tr></thead>\n",
       "<tbody>\n",
       "\t<tr><th scope=row>ENSG00000186092</th><td>  0.0000000 </td><td>  0.0000    </td><td>  0.00000   </td><td>  0.000000  </td><td>   0.000000 </td><td>  0.0000000 </td><td>  0.000000  </td><td>   0.0000000</td><td>  0.000000  </td><td>  0.0000000 </td><td>  0.0000000 </td><td>  0.0000000 </td><td>  0.0000000 </td><td>  0.000000  </td><td>  0.000000  </td><td>  0.0000    </td><td>  0.000000  </td><td>   0.0000000</td><td>  0.0000000 </td></tr>\n",
       "\t<tr><th scope=row>ENSG00000284733</th><td>  0.0000000 </td><td>  0.0000    </td><td>  0.00000   </td><td>  0.000000  </td><td>   0.000000 </td><td>  0.0000000 </td><td>  0.000000  </td><td>   0.0000000</td><td>  0.000000  </td><td>  0.0000000 </td><td>  0.0000000 </td><td>  0.0000000 </td><td>  0.0000000 </td><td>  0.000000  </td><td>  0.000000  </td><td>  0.0000    </td><td>  0.000000  </td><td>   0.0000000</td><td>  0.0000000 </td></tr>\n",
       "\t<tr><th scope=row>ENSG00000284662</th><td>  0.0000000 </td><td>  0.0000    </td><td>  0.00000   </td><td>  0.000000  </td><td>   0.000000 </td><td>  0.0000000 </td><td>  0.000000  </td><td>   0.0000000</td><td>  0.000000  </td><td>  0.0000000 </td><td>  0.0000000 </td><td>  0.0000000 </td><td>  0.0000000 </td><td>  0.000000  </td><td>  0.000000  </td><td>  0.0000    </td><td>  0.000000  </td><td>   0.0000000</td><td>  0.0000000 </td></tr>\n",
       "\t<tr><th scope=row>ENSG00000187634</th><td>  0.7190796 </td><td>  0.0000    </td><td>  0.00000   </td><td>  1.438159  </td><td>   2.157239 </td><td>  0.2396932 </td><td>  5.752637  </td><td>   0.4793864</td><td>  5.752637  </td><td>  0.4793864 </td><td>  0.7190796 </td><td>  0.4793864 </td><td>  0.7190796 </td><td>  1.198466  </td><td>  2.636625  </td><td>  0.0000    </td><td>  1.677852  </td><td>   0.7190796</td><td>  0.2396932 </td></tr>\n",
       "\t<tr><th scope=row>ENSG00000188976</th><td>683.2129964 </td><td>636.1011    </td><td>696.93141   </td><td>489.169675  </td><td>2044.043321 </td><td>792.9602888 </td><td>743.501805  </td><td>1534.1155235</td><td>551.083032  </td><td>488.8086643 </td><td>355.5956679 </td><td>584.6570397 </td><td>271.8411552 </td><td>559.205776  </td><td>394.945848  </td><td>724.1877    </td><td>308.122744  </td><td>1003.0685921</td><td>410.2888087 </td></tr>\n",
       "\t<tr><th scope=row>ENSG00000187961</th><td>222.2222222 </td><td>145.5026    </td><td> 56.73133   </td><td>263.962375  </td><td> 666.960611 </td><td>259.5532040 </td><td>274.544386  </td><td> 385.3615520</td><td>151.087596  </td><td>121.1052322 </td><td> 98.7654321 </td><td>159.3180482 </td><td> 69.9588477 </td><td> 96.707819  </td><td> 55.261611  </td><td>256.0259    </td><td> 57.613169  </td><td> 360.0823045</td><td>117.5778954 </td></tr>\n",
       "</tbody>\n",
       "</table>\n",
       "</dd>\n",
       "\t<dt>$samples</dt>\n",
       "\t\t<dd><table>\n",
       "<thead><tr><th></th><th scope=col>group</th><th scope=col>lib.size</th><th scope=col>norm.factors</th></tr></thead>\n",
       "<tbody>\n",
       "\t<tr><th scope=row>SJHBBBM4X52</th><td>batch1-GEO</td><td> 8188287  </td><td>1.2269139 </td></tr>\n",
       "\t<tr><th scope=row>SJHBBBM4JQZ</th><td>batch1-GEO</td><td> 8525097  </td><td>1.1846592 </td></tr>\n",
       "\t<tr><th scope=row>SJHBBBM5SGJ</th><td>batch1-GEO</td><td> 8318486  </td><td>1.1669898 </td></tr>\n",
       "\t<tr><th scope=row>SJHBBBM5TXY</th><td>batch1-GEO</td><td> 8634618  </td><td>1.0191678 </td></tr>\n",
       "\t<tr><th scope=row>SJHBBBM2GV5</th><td>batch1-GEO</td><td>16643999  </td><td>1.0483866 </td></tr>\n",
       "\t<tr><th scope=row>SJHBBBM39BT</th><td>batch1-GEO</td><td> 8710307  </td><td>1.1413318 </td></tr>\n",
       "\t<tr><th scope=row>SJHBBBM67H6</th><td>batch1-GEO</td><td>11095218  </td><td>0.9431965 </td></tr>\n",
       "\t<tr><th scope=row>SJHBBBM2BBR</th><td>batch1-GEO</td><td>15924844  </td><td>1.1195262 </td></tr>\n",
       "\t<tr><th scope=row>SJHBBBN9RBJ</th><td>batch1-GEO</td><td> 7571423  </td><td>0.8314089 </td></tr>\n",
       "\t<tr><th scope=row>SJHBBBM4PX3</th><td>batch1-GEO</td><td> 5747665  </td><td>1.0558703 </td></tr>\n",
       "\t<tr><th scope=row>SJHBBBN9RDM</th><td>batch1-GEO</td><td> 8729807  </td><td>0.8634473 </td></tr>\n",
       "\t<tr><th scope=row>SJHBBBN9R9H</th><td>batch1-GEO</td><td> 8983642  </td><td>0.8698944 </td></tr>\n",
       "\t<tr><th scope=row>SJHBBBM588V</th><td>batch1-GEO</td><td> 3294579  </td><td>1.0119203 </td></tr>\n",
       "\t<tr><th scope=row>SJHBBBN9RFN</th><td>batch1-GEO</td><td> 6849946  </td><td>0.7827484 </td></tr>\n",
       "\t<tr><th scope=row>SJHBBBM55F5</th><td>batch1-GEO</td><td> 4166449  </td><td>1.0999049 </td></tr>\n",
       "\t<tr><th scope=row>SJHBBBM5GW9</th><td>batch1-GEO</td><td> 7716204  </td><td>1.1509382 </td></tr>\n",
       "\t<tr><th scope=row>SJHBBBM5PY5</th><td>batch1-GEO</td><td> 5729558  </td><td>0.9013666 </td></tr>\n",
       "\t<tr><th scope=row>SJHBBBM52XR</th><td>batch1-GEO</td><td> 8512263  </td><td>0.9925842 </td></tr>\n",
       "\t<tr><th scope=row>SJHBBBM5YWS</th><td>batch1-GEO</td><td> 5173769  </td><td>0.7739945 </td></tr>\n",
       "</tbody>\n",
       "</table>\n",
       "</dd>\n",
       "</dl>\n"
      ],
      "text/latex": [
       "\\begin{description}\n",
       "\\item[\\$counts] \\begin{tabular}{r|lllllllllllllllllll}\n",
       "  & SJHBBBM4X52 & SJHBBBM4JQZ & SJHBBBM5SGJ & SJHBBBM5TXY & SJHBBBM2GV5 & SJHBBBM39BT & SJHBBBM67H6 & SJHBBBM2BBR & SJHBBBN9RBJ & SJHBBBM4PX3 & SJHBBBN9RDM & SJHBBBN9R9H & SJHBBBM588V & SJHBBBN9RFN & SJHBBBM55F5 & SJHBBBM5GW9 & SJHBBBM5PY5 & SJHBBBM52XR & SJHBBBM5YWS\\\\\n",
       "\\hline\n",
       "\tENSG00000186092 &   0.0000000  &   0.0000     &   0.00000    &   0.000000   &    0.000000  &   0.0000000  &   0.000000   &    0.0000000 &   0.000000   &   0.0000000  &   0.0000000  &   0.0000000  &   0.0000000  &   0.000000   &   0.000000   &   0.0000     &   0.000000   &    0.0000000 &   0.0000000 \\\\\n",
       "\tENSG00000284733 &   0.0000000  &   0.0000     &   0.00000    &   0.000000   &    0.000000  &   0.0000000  &   0.000000   &    0.0000000 &   0.000000   &   0.0000000  &   0.0000000  &   0.0000000  &   0.0000000  &   0.000000   &   0.000000   &   0.0000     &   0.000000   &    0.0000000 &   0.0000000 \\\\\n",
       "\tENSG00000284662 &   0.0000000  &   0.0000     &   0.00000    &   0.000000   &    0.000000  &   0.0000000  &   0.000000   &    0.0000000 &   0.000000   &   0.0000000  &   0.0000000  &   0.0000000  &   0.0000000  &   0.000000   &   0.000000   &   0.0000     &   0.000000   &    0.0000000 &   0.0000000 \\\\\n",
       "\tENSG00000187634 &   0.7190796  &   0.0000     &   0.00000    &   1.438159   &    2.157239  &   0.2396932  &   5.752637   &    0.4793864 &   5.752637   &   0.4793864  &   0.7190796  &   0.4793864  &   0.7190796  &   1.198466   &   2.636625   &   0.0000     &   1.677852   &    0.7190796 &   0.2396932 \\\\\n",
       "\tENSG00000188976 & 683.2129964  & 636.1011     & 696.93141    & 489.169675   & 2044.043321  & 792.9602888  & 743.501805   & 1534.1155235 & 551.083032   & 488.8086643  & 355.5956679  & 584.6570397  & 271.8411552  & 559.205776   & 394.945848   & 724.1877     & 308.122744   & 1003.0685921 & 410.2888087 \\\\\n",
       "\tENSG00000187961 & 222.2222222  & 145.5026     &  56.73133    & 263.962375   &  666.960611  & 259.5532040  & 274.544386   &  385.3615520 & 151.087596   & 121.1052322  &  98.7654321  & 159.3180482  &  69.9588477  &  96.707819   &  55.261611   & 256.0259     &  57.613169   &  360.0823045 & 117.5778954 \\\\\n",
       "\\end{tabular}\n",
       "\n",
       "\\item[\\$samples] \\begin{tabular}{r|lll}\n",
       "  & group & lib.size & norm.factors\\\\\n",
       "\\hline\n",
       "\tSJHBBBM4X52 & batch1-GEO &  8188287   & 1.2269139 \\\\\n",
       "\tSJHBBBM4JQZ & batch1-GEO &  8525097   & 1.1846592 \\\\\n",
       "\tSJHBBBM5SGJ & batch1-GEO &  8318486   & 1.1669898 \\\\\n",
       "\tSJHBBBM5TXY & batch1-GEO &  8634618   & 1.0191678 \\\\\n",
       "\tSJHBBBM2GV5 & batch1-GEO & 16643999   & 1.0483866 \\\\\n",
       "\tSJHBBBM39BT & batch1-GEO &  8710307   & 1.1413318 \\\\\n",
       "\tSJHBBBM67H6 & batch1-GEO & 11095218   & 0.9431965 \\\\\n",
       "\tSJHBBBM2BBR & batch1-GEO & 15924844   & 1.1195262 \\\\\n",
       "\tSJHBBBN9RBJ & batch1-GEO &  7571423   & 0.8314089 \\\\\n",
       "\tSJHBBBM4PX3 & batch1-GEO &  5747665   & 1.0558703 \\\\\n",
       "\tSJHBBBN9RDM & batch1-GEO &  8729807   & 0.8634473 \\\\\n",
       "\tSJHBBBN9R9H & batch1-GEO &  8983642   & 0.8698944 \\\\\n",
       "\tSJHBBBM588V & batch1-GEO &  3294579   & 1.0119203 \\\\\n",
       "\tSJHBBBN9RFN & batch1-GEO &  6849946   & 0.7827484 \\\\\n",
       "\tSJHBBBM55F5 & batch1-GEO &  4166449   & 1.0999049 \\\\\n",
       "\tSJHBBBM5GW9 & batch1-GEO &  7716204   & 1.1509382 \\\\\n",
       "\tSJHBBBM5PY5 & batch1-GEO &  5729558   & 0.9013666 \\\\\n",
       "\tSJHBBBM52XR & batch1-GEO &  8512263   & 0.9925842 \\\\\n",
       "\tSJHBBBM5YWS & batch1-GEO &  5173769   & 0.7739945 \\\\\n",
       "\\end{tabular}\n",
       "\n",
       "\\end{description}\n"
      ],
      "text/markdown": [
       "$counts\n",
       ":   \n",
       "| <!--/--> | SJHBBBM4X52 | SJHBBBM4JQZ | SJHBBBM5SGJ | SJHBBBM5TXY | SJHBBBM2GV5 | SJHBBBM39BT | SJHBBBM67H6 | SJHBBBM2BBR | SJHBBBN9RBJ | SJHBBBM4PX3 | SJHBBBN9RDM | SJHBBBN9R9H | SJHBBBM588V | SJHBBBN9RFN | SJHBBBM55F5 | SJHBBBM5GW9 | SJHBBBM5PY5 | SJHBBBM52XR | SJHBBBM5YWS |\n",
       "|---|---|---|---|---|---|---|---|---|---|---|---|---|---|---|---|---|---|---|---|\n",
       "| ENSG00000186092 |   0.0000000  |   0.0000     |   0.00000    |   0.000000   |    0.000000  |   0.0000000  |   0.000000   |    0.0000000 |   0.000000   |   0.0000000  |   0.0000000  |   0.0000000  |   0.0000000  |   0.000000   |   0.000000   |   0.0000     |   0.000000   |    0.0000000 |   0.0000000  |\n",
       "| ENSG00000284733 |   0.0000000  |   0.0000     |   0.00000    |   0.000000   |    0.000000  |   0.0000000  |   0.000000   |    0.0000000 |   0.000000   |   0.0000000  |   0.0000000  |   0.0000000  |   0.0000000  |   0.000000   |   0.000000   |   0.0000     |   0.000000   |    0.0000000 |   0.0000000  |\n",
       "| ENSG00000284662 |   0.0000000  |   0.0000     |   0.00000    |   0.000000   |    0.000000  |   0.0000000  |   0.000000   |    0.0000000 |   0.000000   |   0.0000000  |   0.0000000  |   0.0000000  |   0.0000000  |   0.000000   |   0.000000   |   0.0000     |   0.000000   |    0.0000000 |   0.0000000  |\n",
       "| ENSG00000187634 |   0.7190796  |   0.0000     |   0.00000    |   1.438159   |    2.157239  |   0.2396932  |   5.752637   |    0.4793864 |   5.752637   |   0.4793864  |   0.7190796  |   0.4793864  |   0.7190796  |   1.198466   |   2.636625   |   0.0000     |   1.677852   |    0.7190796 |   0.2396932  |\n",
       "| ENSG00000188976 | 683.2129964  | 636.1011     | 696.93141    | 489.169675   | 2044.043321  | 792.9602888  | 743.501805   | 1534.1155235 | 551.083032   | 488.8086643  | 355.5956679  | 584.6570397  | 271.8411552  | 559.205776   | 394.945848   | 724.1877     | 308.122744   | 1003.0685921 | 410.2888087  |\n",
       "| ENSG00000187961 | 222.2222222  | 145.5026     |  56.73133    | 263.962375   |  666.960611  | 259.5532040  | 274.544386   |  385.3615520 | 151.087596   | 121.1052322  |  98.7654321  | 159.3180482  |  69.9588477  |  96.707819   |  55.261611   | 256.0259     |  57.613169   |  360.0823045 | 117.5778954  |\n",
       "\n",
       "\n",
       "$samples\n",
       ":   \n",
       "| <!--/--> | group | lib.size | norm.factors |\n",
       "|---|---|---|---|\n",
       "| SJHBBBM4X52 | batch1-GEO |  8188287   | 1.2269139  |\n",
       "| SJHBBBM4JQZ | batch1-GEO |  8525097   | 1.1846592  |\n",
       "| SJHBBBM5SGJ | batch1-GEO |  8318486   | 1.1669898  |\n",
       "| SJHBBBM5TXY | batch1-GEO |  8634618   | 1.0191678  |\n",
       "| SJHBBBM2GV5 | batch1-GEO | 16643999   | 1.0483866  |\n",
       "| SJHBBBM39BT | batch1-GEO |  8710307   | 1.1413318  |\n",
       "| SJHBBBM67H6 | batch1-GEO | 11095218   | 0.9431965  |\n",
       "| SJHBBBM2BBR | batch1-GEO | 15924844   | 1.1195262  |\n",
       "| SJHBBBN9RBJ | batch1-GEO |  7571423   | 0.8314089  |\n",
       "| SJHBBBM4PX3 | batch1-GEO |  5747665   | 1.0558703  |\n",
       "| SJHBBBN9RDM | batch1-GEO |  8729807   | 0.8634473  |\n",
       "| SJHBBBN9R9H | batch1-GEO |  8983642   | 0.8698944  |\n",
       "| SJHBBBM588V | batch1-GEO |  3294579   | 1.0119203  |\n",
       "| SJHBBBN9RFN | batch1-GEO |  6849946   | 0.7827484  |\n",
       "| SJHBBBM55F5 | batch1-GEO |  4166449   | 1.0999049  |\n",
       "| SJHBBBM5GW9 | batch1-GEO |  7716204   | 1.1509382  |\n",
       "| SJHBBBM5PY5 | batch1-GEO |  5729558   | 0.9013666  |\n",
       "| SJHBBBM52XR | batch1-GEO |  8512263   | 0.9925842  |\n",
       "| SJHBBBM5YWS | batch1-GEO |  5173769   | 0.7739945  |\n",
       "\n",
       "\n",
       "\n",
       "\n"
      ],
      "text/plain": [
       "An object of class \"DGEList\"\n",
       "$counts\n",
       "                SJHBBBM4X52 SJHBBBM4JQZ SJHBBBM5SGJ SJHBBBM5TXY SJHBBBM2GV5\n",
       "ENSG00000186092   0.0000000      0.0000     0.00000    0.000000    0.000000\n",
       "ENSG00000284733   0.0000000      0.0000     0.00000    0.000000    0.000000\n",
       "ENSG00000284662   0.0000000      0.0000     0.00000    0.000000    0.000000\n",
       "ENSG00000187634   0.7190796      0.0000     0.00000    1.438159    2.157239\n",
       "ENSG00000188976 683.2129964    636.1011   696.93141  489.169675 2044.043321\n",
       "ENSG00000187961 222.2222222    145.5026    56.73133  263.962375  666.960611\n",
       "                SJHBBBM39BT SJHBBBM67H6  SJHBBBM2BBR SJHBBBN9RBJ SJHBBBM4PX3\n",
       "ENSG00000186092   0.0000000    0.000000    0.0000000    0.000000   0.0000000\n",
       "ENSG00000284733   0.0000000    0.000000    0.0000000    0.000000   0.0000000\n",
       "ENSG00000284662   0.0000000    0.000000    0.0000000    0.000000   0.0000000\n",
       "ENSG00000187634   0.2396932    5.752637    0.4793864    5.752637   0.4793864\n",
       "ENSG00000188976 792.9602888  743.501805 1534.1155235  551.083032 488.8086643\n",
       "ENSG00000187961 259.5532040  274.544386  385.3615520  151.087596 121.1052322\n",
       "                SJHBBBN9RDM SJHBBBN9R9H SJHBBBM588V SJHBBBN9RFN SJHBBBM55F5\n",
       "ENSG00000186092   0.0000000   0.0000000   0.0000000    0.000000    0.000000\n",
       "ENSG00000284733   0.0000000   0.0000000   0.0000000    0.000000    0.000000\n",
       "ENSG00000284662   0.0000000   0.0000000   0.0000000    0.000000    0.000000\n",
       "ENSG00000187634   0.7190796   0.4793864   0.7190796    1.198466    2.636625\n",
       "ENSG00000188976 355.5956679 584.6570397 271.8411552  559.205776  394.945848\n",
       "ENSG00000187961  98.7654321 159.3180482  69.9588477   96.707819   55.261611\n",
       "                SJHBBBM5GW9 SJHBBBM5PY5  SJHBBBM52XR SJHBBBM5YWS\n",
       "ENSG00000186092      0.0000    0.000000    0.0000000   0.0000000\n",
       "ENSG00000284733      0.0000    0.000000    0.0000000   0.0000000\n",
       "ENSG00000284662      0.0000    0.000000    0.0000000   0.0000000\n",
       "ENSG00000187634      0.0000    1.677852    0.7190796   0.2396932\n",
       "ENSG00000188976    724.1877  308.122744 1003.0685921 410.2888087\n",
       "ENSG00000187961    256.0259   57.613169  360.0823045 117.5778954\n",
       "\n",
       "$samples\n",
       "                 group lib.size norm.factors\n",
       "SJHBBBM4X52 batch1-GEO  8188287     1.226914\n",
       "SJHBBBM4JQZ batch1-GEO  8525097     1.184659\n",
       "SJHBBBM5SGJ batch1-GEO  8318486     1.166990\n",
       "SJHBBBM5TXY batch1-GEO  8634618     1.019168\n",
       "SJHBBBM2GV5 batch1-GEO 16643999     1.048387\n",
       "14 more rows ...\n"
      ]
     },
     "metadata": {},
     "output_type": "display_data"
    }
   ],
   "source": [
    "head(TMM)"
   ]
  },
  {
   "cell_type": "code",
   "execution_count": 17,
   "id": "83edf4fa",
   "metadata": {
    "ExecuteTime": {
     "end_time": "2023-03-22T15:29:55.319036Z",
     "start_time": "2023-03-22T15:29:51.829Z"
    }
   },
   "outputs": [
    {
     "data": {
      "text/html": [
       "<ol class=list-inline>\n",
       "\t<li>19774</li>\n",
       "\t<li>19</li>\n",
       "</ol>\n"
      ],
      "text/latex": [
       "\\begin{enumerate*}\n",
       "\\item 19774\n",
       "\\item 19\n",
       "\\end{enumerate*}\n"
      ],
      "text/markdown": [
       "1. 19774\n",
       "2. 19\n",
       "\n",
       "\n"
      ],
      "text/plain": [
       "[1] 19774    19"
      ]
     },
     "metadata": {},
     "output_type": "display_data"
    }
   ],
   "source": [
    "dim(TMM)"
   ]
  },
  {
   "cell_type": "code",
   "execution_count": 18,
   "id": "595ecb0f",
   "metadata": {
    "ExecuteTime": {
     "end_time": "2023-03-22T15:29:55.365829Z",
     "start_time": "2023-03-22T15:29:51.830Z"
    },
    "scrolled": true
   },
   "outputs": [
    {
     "data": {
      "text/html": [
       "<table>\n",
       "<thead><tr><th></th><th scope=col>SJHBBBM4X52</th><th scope=col>SJHBBBM4JQZ</th><th scope=col>SJHBBBM5SGJ</th><th scope=col>SJHBBBM5TXY</th><th scope=col>SJHBBBM2GV5</th><th scope=col>SJHBBBM39BT</th><th scope=col>SJHBBBM67H6</th><th scope=col>SJHBBBM2BBR</th><th scope=col>SJHBBBN9RBJ</th><th scope=col>SJHBBBM4PX3</th><th scope=col>SJHBBBN9RDM</th><th scope=col>SJHBBBN9R9H</th><th scope=col>SJHBBBM588V</th><th scope=col>SJHBBBN9RFN</th><th scope=col>SJHBBBM55F5</th><th scope=col>SJHBBBM5GW9</th><th scope=col>SJHBBBM5PY5</th><th scope=col>SJHBBBM52XR</th><th scope=col>SJHBBBM5YWS</th></tr></thead>\n",
       "<tbody>\n",
       "\t<tr><th scope=row>ENSG00000186092</th><td>-2.090416 </td><td>-2.090416 </td><td>-2.090416 </td><td>-2.090416 </td><td>-2.090416 </td><td>-2.090416 </td><td>-2.0904160</td><td>-2.090416 </td><td>-2.0904160</td><td>-2.090416 </td><td>-2.090416 </td><td>-2.090416 </td><td>-2.090416 </td><td>-2.090416 </td><td>-2.090416 </td><td>-2.090416 </td><td>-2.090416 </td><td>-2.090416 </td><td>-2.090416 </td></tr>\n",
       "\t<tr><th scope=row>ENSG00000284733</th><td>-2.090416 </td><td>-2.090416 </td><td>-2.090416 </td><td>-2.090416 </td><td>-2.090416 </td><td>-2.090416 </td><td>-2.0904160</td><td>-2.090416 </td><td>-2.0904160</td><td>-2.090416 </td><td>-2.090416 </td><td>-2.090416 </td><td>-2.090416 </td><td>-2.090416 </td><td>-2.090416 </td><td>-2.090416 </td><td>-2.090416 </td><td>-2.090416 </td><td>-2.090416 </td></tr>\n",
       "\t<tr><th scope=row>ENSG00000284662</th><td>-2.090416 </td><td>-2.090416 </td><td>-2.090416 </td><td>-2.090416 </td><td>-2.090416 </td><td>-2.090416 </td><td>-2.0904160</td><td>-2.090416 </td><td>-2.0904160</td><td>-2.090416 </td><td>-2.090416 </td><td>-2.090416 </td><td>-2.090416 </td><td>-2.090416 </td><td>-2.090416 </td><td>-2.090416 </td><td>-2.090416 </td><td>-2.090416 </td><td>-2.090416 </td></tr>\n",
       "\t<tr><th scope=row>ENSG00000187634</th><td>-1.706562 </td><td>-2.090416 </td><td>-2.090416 </td><td>-1.328298 </td><td>-1.480190 </td><td>-1.949401 </td><td>-0.3501239</td><td>-1.934003 </td><td> 0.1999545</td><td>-1.672060 </td><td>-1.598543 </td><td>-1.755570 </td><td>-1.150391 </td><td>-1.125532 </td><td>-0.303728 </td><td>-2.090416 </td><td>-0.837277 </td><td>-1.644218 </td><td>-1.762831 </td></tr>\n",
       "\t<tr><th scope=row>ENSG00000188976</th><td> 6.092568 </td><td> 5.982292 </td><td> 6.170470 </td><td> 5.802748 </td><td> 6.874997 </td><td> 6.321903 </td><td> 6.1554557</td><td> 6.431027 </td><td> 6.4557950</td><td> 6.335916 </td><td> 5.567127 </td><td> 6.229754 </td><td> 6.353578 </td><td> 6.707766 </td><td> 6.433239 </td><td> 6.353666 </td><td> 5.904418 </td><td> 6.894250 </td><td> 6.682187 </td></tr>\n",
       "\t<tr><th scope=row>ENSG00000187961</th><td> 4.482497 </td><td> 3.872037 </td><td> 2.603794 </td><td> 4.917914 </td><td> 5.265192 </td><td> 4.719361 </td><td> 4.7262540</td><td> 4.449561 </td><td> 4.5990917</td><td> 4.335585 </td><td> 3.737429 </td><td> 4.366075 </td><td> 4.407298 </td><td> 4.191508 </td><td> 3.619831 </td><td> 4.861147 </td><td> 3.509768 </td><td> 5.421305 </td><td> 4.887353 </td></tr>\n",
       "</tbody>\n",
       "</table>\n"
      ],
      "text/latex": [
       "\\begin{tabular}{r|lllllllllllllllllll}\n",
       "  & SJHBBBM4X52 & SJHBBBM4JQZ & SJHBBBM5SGJ & SJHBBBM5TXY & SJHBBBM2GV5 & SJHBBBM39BT & SJHBBBM67H6 & SJHBBBM2BBR & SJHBBBN9RBJ & SJHBBBM4PX3 & SJHBBBN9RDM & SJHBBBN9R9H & SJHBBBM588V & SJHBBBN9RFN & SJHBBBM55F5 & SJHBBBM5GW9 & SJHBBBM5PY5 & SJHBBBM52XR & SJHBBBM5YWS\\\\\n",
       "\\hline\n",
       "\tENSG00000186092 & -2.090416  & -2.090416  & -2.090416  & -2.090416  & -2.090416  & -2.090416  & -2.0904160 & -2.090416  & -2.0904160 & -2.090416  & -2.090416  & -2.090416  & -2.090416  & -2.090416  & -2.090416  & -2.090416  & -2.090416  & -2.090416  & -2.090416 \\\\\n",
       "\tENSG00000284733 & -2.090416  & -2.090416  & -2.090416  & -2.090416  & -2.090416  & -2.090416  & -2.0904160 & -2.090416  & -2.0904160 & -2.090416  & -2.090416  & -2.090416  & -2.090416  & -2.090416  & -2.090416  & -2.090416  & -2.090416  & -2.090416  & -2.090416 \\\\\n",
       "\tENSG00000284662 & -2.090416  & -2.090416  & -2.090416  & -2.090416  & -2.090416  & -2.090416  & -2.0904160 & -2.090416  & -2.0904160 & -2.090416  & -2.090416  & -2.090416  & -2.090416  & -2.090416  & -2.090416  & -2.090416  & -2.090416  & -2.090416  & -2.090416 \\\\\n",
       "\tENSG00000187634 & -1.706562  & -2.090416  & -2.090416  & -1.328298  & -1.480190  & -1.949401  & -0.3501239 & -1.934003  &  0.1999545 & -1.672060  & -1.598543  & -1.755570  & -1.150391  & -1.125532  & -0.303728  & -2.090416  & -0.837277  & -1.644218  & -1.762831 \\\\\n",
       "\tENSG00000188976 &  6.092568  &  5.982292  &  6.170470  &  5.802748  &  6.874997  &  6.321903  &  6.1554557 &  6.431027  &  6.4557950 &  6.335916  &  5.567127  &  6.229754  &  6.353578  &  6.707766  &  6.433239  &  6.353666  &  5.904418  &  6.894250  &  6.682187 \\\\\n",
       "\tENSG00000187961 &  4.482497  &  3.872037  &  2.603794  &  4.917914  &  5.265192  &  4.719361  &  4.7262540 &  4.449561  &  4.5990917 &  4.335585  &  3.737429  &  4.366075  &  4.407298  &  4.191508  &  3.619831  &  4.861147  &  3.509768  &  5.421305  &  4.887353 \\\\\n",
       "\\end{tabular}\n"
      ],
      "text/markdown": [
       "\n",
       "| <!--/--> | SJHBBBM4X52 | SJHBBBM4JQZ | SJHBBBM5SGJ | SJHBBBM5TXY | SJHBBBM2GV5 | SJHBBBM39BT | SJHBBBM67H6 | SJHBBBM2BBR | SJHBBBN9RBJ | SJHBBBM4PX3 | SJHBBBN9RDM | SJHBBBN9R9H | SJHBBBM588V | SJHBBBN9RFN | SJHBBBM55F5 | SJHBBBM5GW9 | SJHBBBM5PY5 | SJHBBBM52XR | SJHBBBM5YWS |\n",
       "|---|---|---|---|---|---|---|---|---|---|---|---|---|---|---|---|---|---|---|---|\n",
       "| ENSG00000186092 | -2.090416  | -2.090416  | -2.090416  | -2.090416  | -2.090416  | -2.090416  | -2.0904160 | -2.090416  | -2.0904160 | -2.090416  | -2.090416  | -2.090416  | -2.090416  | -2.090416  | -2.090416  | -2.090416  | -2.090416  | -2.090416  | -2.090416  |\n",
       "| ENSG00000284733 | -2.090416  | -2.090416  | -2.090416  | -2.090416  | -2.090416  | -2.090416  | -2.0904160 | -2.090416  | -2.0904160 | -2.090416  | -2.090416  | -2.090416  | -2.090416  | -2.090416  | -2.090416  | -2.090416  | -2.090416  | -2.090416  | -2.090416  |\n",
       "| ENSG00000284662 | -2.090416  | -2.090416  | -2.090416  | -2.090416  | -2.090416  | -2.090416  | -2.0904160 | -2.090416  | -2.0904160 | -2.090416  | -2.090416  | -2.090416  | -2.090416  | -2.090416  | -2.090416  | -2.090416  | -2.090416  | -2.090416  | -2.090416  |\n",
       "| ENSG00000187634 | -1.706562  | -2.090416  | -2.090416  | -1.328298  | -1.480190  | -1.949401  | -0.3501239 | -1.934003  |  0.1999545 | -1.672060  | -1.598543  | -1.755570  | -1.150391  | -1.125532  | -0.303728  | -2.090416  | -0.837277  | -1.644218  | -1.762831  |\n",
       "| ENSG00000188976 |  6.092568  |  5.982292  |  6.170470  |  5.802748  |  6.874997  |  6.321903  |  6.1554557 |  6.431027  |  6.4557950 |  6.335916  |  5.567127  |  6.229754  |  6.353578  |  6.707766  |  6.433239  |  6.353666  |  5.904418  |  6.894250  |  6.682187  |\n",
       "| ENSG00000187961 |  4.482497  |  3.872037  |  2.603794  |  4.917914  |  5.265192  |  4.719361  |  4.7262540 |  4.449561  |  4.5990917 |  4.335585  |  3.737429  |  4.366075  |  4.407298  |  4.191508  |  3.619831  |  4.861147  |  3.509768  |  5.421305  |  4.887353  |\n",
       "\n"
      ],
      "text/plain": [
       "                SJHBBBM4X52 SJHBBBM4JQZ SJHBBBM5SGJ SJHBBBM5TXY SJHBBBM2GV5\n",
       "ENSG00000186092 -2.090416   -2.090416   -2.090416   -2.090416   -2.090416  \n",
       "ENSG00000284733 -2.090416   -2.090416   -2.090416   -2.090416   -2.090416  \n",
       "ENSG00000284662 -2.090416   -2.090416   -2.090416   -2.090416   -2.090416  \n",
       "ENSG00000187634 -1.706562   -2.090416   -2.090416   -1.328298   -1.480190  \n",
       "ENSG00000188976  6.092568    5.982292    6.170470    5.802748    6.874997  \n",
       "ENSG00000187961  4.482497    3.872037    2.603794    4.917914    5.265192  \n",
       "                SJHBBBM39BT SJHBBBM67H6 SJHBBBM2BBR SJHBBBN9RBJ SJHBBBM4PX3\n",
       "ENSG00000186092 -2.090416   -2.0904160  -2.090416   -2.0904160  -2.090416  \n",
       "ENSG00000284733 -2.090416   -2.0904160  -2.090416   -2.0904160  -2.090416  \n",
       "ENSG00000284662 -2.090416   -2.0904160  -2.090416   -2.0904160  -2.090416  \n",
       "ENSG00000187634 -1.949401   -0.3501239  -1.934003    0.1999545  -1.672060  \n",
       "ENSG00000188976  6.321903    6.1554557   6.431027    6.4557950   6.335916  \n",
       "ENSG00000187961  4.719361    4.7262540   4.449561    4.5990917   4.335585  \n",
       "                SJHBBBN9RDM SJHBBBN9R9H SJHBBBM588V SJHBBBN9RFN SJHBBBM55F5\n",
       "ENSG00000186092 -2.090416   -2.090416   -2.090416   -2.090416   -2.090416  \n",
       "ENSG00000284733 -2.090416   -2.090416   -2.090416   -2.090416   -2.090416  \n",
       "ENSG00000284662 -2.090416   -2.090416   -2.090416   -2.090416   -2.090416  \n",
       "ENSG00000187634 -1.598543   -1.755570   -1.150391   -1.125532   -0.303728  \n",
       "ENSG00000188976  5.567127    6.229754    6.353578    6.707766    6.433239  \n",
       "ENSG00000187961  3.737429    4.366075    4.407298    4.191508    3.619831  \n",
       "                SJHBBBM5GW9 SJHBBBM5PY5 SJHBBBM52XR SJHBBBM5YWS\n",
       "ENSG00000186092 -2.090416   -2.090416   -2.090416   -2.090416  \n",
       "ENSG00000284733 -2.090416   -2.090416   -2.090416   -2.090416  \n",
       "ENSG00000284662 -2.090416   -2.090416   -2.090416   -2.090416  \n",
       "ENSG00000187634 -2.090416   -0.837277   -1.644218   -1.762831  \n",
       "ENSG00000188976  6.353666    5.904418    6.894250    6.682187  \n",
       "ENSG00000187961  4.861147    3.509768    5.421305    4.887353  "
      ]
     },
     "metadata": {},
     "output_type": "display_data"
    }
   ],
   "source": [
    "CPM <- cpm(TMM, log = TRUE)\n",
    "head(CPM)"
   ]
  },
  {
   "cell_type": "code",
   "execution_count": 19,
   "id": "2a553edf",
   "metadata": {
    "ExecuteTime": {
     "end_time": "2023-03-22T15:29:55.383623Z",
     "start_time": "2023-03-22T15:29:51.831Z"
    }
   },
   "outputs": [
    {
     "data": {
      "text/html": [
       "-2.09041598745456"
      ],
      "text/latex": [
       "-2.09041598745456"
      ],
      "text/markdown": [
       "-2.09041598745456"
      ],
      "text/plain": [
       "[1] -2.090416"
      ]
     },
     "metadata": {},
     "output_type": "display_data"
    }
   ],
   "source": [
    "min(CPM)\n"
   ]
  },
  {
   "cell_type": "code",
   "execution_count": 20,
   "id": "016979ed",
   "metadata": {
    "ExecuteTime": {
     "end_time": "2023-03-22T15:29:55.416771Z",
     "start_time": "2023-03-22T15:29:51.831Z"
    }
   },
   "outputs": [
    {
     "data": {
      "text/html": [
       "16.9630397836102"
      ],
      "text/latex": [
       "16.9630397836102"
      ],
      "text/markdown": [
       "16.9630397836102"
      ],
      "text/plain": [
       "[1] 16.96304"
      ]
     },
     "metadata": {},
     "output_type": "display_data"
    }
   ],
   "source": [
    "max(CPM)"
   ]
  },
  {
   "cell_type": "code",
   "execution_count": 21,
   "id": "ae16587e",
   "metadata": {
    "ExecuteTime": {
     "end_time": "2023-03-22T15:29:56.142313Z",
     "start_time": "2023-03-22T15:29:51.832Z"
    }
   },
   "outputs": [],
   "source": [
    "write.csv(CPM, './output_data/gex-GeTMM.csv')"
   ]
  }
 ],
 "metadata": {
  "kernelspec": {
   "display_name": "R",
   "language": "R",
   "name": "ir"
  },
  "language_info": {
   "codemirror_mode": "r",
   "file_extension": ".r",
   "mimetype": "text/x-r-source",
   "name": "R",
   "pygments_lexer": "r",
   "version": "3.6.1"
  }
 },
 "nbformat": 4,
 "nbformat_minor": 5
}
