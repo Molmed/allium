{
 "cells": [
  {
   "cell_type": "markdown",
   "metadata": {},
   "source": [
    "# Subtype prediction on the GSE56600 DNAm dataset from 227 pediatric B-cell ALL samples ([Lee et al., 2015](https://doi.org/10.1093/nar/gkv103))"
   ]
  },
  {
   "cell_type": "code",
   "execution_count": 1,
   "metadata": {
    "ExecuteTime": {
     "end_time": "2023-03-24T12:37:37.113928Z",
     "start_time": "2023-03-24T12:37:35.982637Z"
    }
   },
   "outputs": [],
   "source": [
    "import pandas as pd\n",
    "import numpy as np\n",
    "import matplotlib\n",
    "import matplotlib.pyplot as plt\n",
    "#plt.style.use('ggplot')\n",
    "import seaborn as sns\n",
    "import joblib\n",
    "import sys\n",
    "sys.path.append('../Train_Predict_modules/')\n",
    "from NSCmodelsV2 import *\n",
    "plt.rcParams['svg.fonttype'] = 'none'"
   ]
  },
  {
   "cell_type": "code",
   "execution_count": 2,
   "metadata": {
    "ExecuteTime": {
     "end_time": "2023-03-24T12:37:37.142846Z",
     "start_time": "2023-03-24T12:37:37.115892Z"
    }
   },
   "outputs": [],
   "source": [
    "path = '../test_data/DNAm/'\n",
    "testX =  joblib.load(path + 'DNAm_test_v2.pkl')\n",
    "testpheno = joblib.load(path + 'DNAm_pheno_test.pkl')\n"
   ]
  },
  {
   "cell_type": "markdown",
   "metadata": {},
   "source": [
    "# The CpG sites have been already filtered according to 519 sites selected by ALLIUM (to reduce file size as well)"
   ]
  },
  {
   "cell_type": "code",
   "execution_count": 3,
   "metadata": {
    "ExecuteTime": {
     "end_time": "2023-03-24T12:37:37.173487Z",
     "start_time": "2023-03-24T12:37:37.152488Z"
    }
   },
   "outputs": [
    {
     "data": {
      "text/plain": [
       "(227, 519)"
      ]
     },
     "execution_count": 3,
     "metadata": {},
     "output_type": "execute_result"
    }
   ],
   "source": [
    "testX.shape"
   ]
  },
  {
   "cell_type": "code",
   "execution_count": 4,
   "metadata": {
    "ExecuteTime": {
     "end_time": "2023-03-24T12:37:37.189479Z",
     "start_time": "2023-03-24T12:37:37.180487Z"
    }
   },
   "outputs": [],
   "source": [
    "pathsep = '../ALLIUM_signatures/'"
   ]
  },
  {
   "cell_type": "code",
   "execution_count": 5,
   "metadata": {
    "ExecuteTime": {
     "end_time": "2023-03-24T12:37:37.207357Z",
     "start_time": "2023-03-24T12:37:37.191542Z"
    }
   },
   "outputs": [],
   "source": [
    "unique_genedf = pd.read_csv(pathsep + 'CpGsSelectedNSCv2.csv')"
   ]
  },
  {
   "cell_type": "code",
   "execution_count": 6,
   "metadata": {
    "ExecuteTime": {
     "end_time": "2023-03-24T12:37:37.238356Z",
     "start_time": "2023-03-24T12:37:37.210356Z"
    }
   },
   "outputs": [
    {
     "data": {
      "text/html": [
       "<div>\n",
       "<style scoped>\n",
       "    .dataframe tbody tr th:only-of-type {\n",
       "        vertical-align: middle;\n",
       "    }\n",
       "\n",
       "    .dataframe tbody tr th {\n",
       "        vertical-align: top;\n",
       "    }\n",
       "\n",
       "    .dataframe thead th {\n",
       "        text-align: right;\n",
       "    }\n",
       "</style>\n",
       "<table border=\"1\" class=\"dataframe\">\n",
       "  <thead>\n",
       "    <tr style=\"text-align: right;\">\n",
       "      <th></th>\n",
       "      <th>Subtype</th>\n",
       "      <th>TargetID</th>\n",
       "      <th>Gene</th>\n",
       "      <th>CHR</th>\n",
       "    </tr>\n",
       "  </thead>\n",
       "  <tbody>\n",
       "    <tr>\n",
       "      <th>0</th>\n",
       "      <td>aneuploidy</td>\n",
       "      <td>cg02385230</td>\n",
       "      <td>IGFBP4</td>\n",
       "      <td>17.0</td>\n",
       "    </tr>\n",
       "    <tr>\n",
       "      <th>1</th>\n",
       "      <td>aneuploidy</td>\n",
       "      <td>cg02522367</td>\n",
       "      <td>LCN6</td>\n",
       "      <td>9.0</td>\n",
       "    </tr>\n",
       "    <tr>\n",
       "      <th>2</th>\n",
       "      <td>aneuploidy</td>\n",
       "      <td>cg02657865</td>\n",
       "      <td>TNXB</td>\n",
       "      <td>6.0</td>\n",
       "    </tr>\n",
       "    <tr>\n",
       "      <th>3</th>\n",
       "      <td>aneuploidy</td>\n",
       "      <td>cg03148927</td>\n",
       "      <td>LARS2</td>\n",
       "      <td>3.0</td>\n",
       "    </tr>\n",
       "    <tr>\n",
       "      <th>4</th>\n",
       "      <td>aneuploidy</td>\n",
       "      <td>cg03630596</td>\n",
       "      <td>C9orf139;FUT7</td>\n",
       "      <td>9.0</td>\n",
       "    </tr>\n",
       "    <tr>\n",
       "      <th>...</th>\n",
       "      <td>...</td>\n",
       "      <td>...</td>\n",
       "      <td>...</td>\n",
       "      <td>...</td>\n",
       "    </tr>\n",
       "    <tr>\n",
       "      <th>514</th>\n",
       "      <td>Control</td>\n",
       "      <td>cg25557432</td>\n",
       "      <td>MACROD2</td>\n",
       "      <td>20.0</td>\n",
       "    </tr>\n",
       "    <tr>\n",
       "      <th>515</th>\n",
       "      <td>Control</td>\n",
       "      <td>cg25627226</td>\n",
       "      <td>NaN</td>\n",
       "      <td>18.0</td>\n",
       "    </tr>\n",
       "    <tr>\n",
       "      <th>516</th>\n",
       "      <td>Control</td>\n",
       "      <td>cg26059153</td>\n",
       "      <td>MACROD2</td>\n",
       "      <td>20.0</td>\n",
       "    </tr>\n",
       "    <tr>\n",
       "      <th>517</th>\n",
       "      <td>Control</td>\n",
       "      <td>cg26115633</td>\n",
       "      <td>FOXI2</td>\n",
       "      <td>10.0</td>\n",
       "    </tr>\n",
       "    <tr>\n",
       "      <th>518</th>\n",
       "      <td>Control</td>\n",
       "      <td>cg26675876</td>\n",
       "      <td>XKR6</td>\n",
       "      <td>8.0</td>\n",
       "    </tr>\n",
       "  </tbody>\n",
       "</table>\n",
       "<p>519 rows × 4 columns</p>\n",
       "</div>"
      ],
      "text/plain": [
       "        Subtype    TargetID            Gene   CHR\n",
       "0    aneuploidy  cg02385230          IGFBP4  17.0\n",
       "1    aneuploidy  cg02522367            LCN6   9.0\n",
       "2    aneuploidy  cg02657865            TNXB   6.0\n",
       "3    aneuploidy  cg03148927           LARS2   3.0\n",
       "4    aneuploidy  cg03630596   C9orf139;FUT7   9.0\n",
       "..          ...         ...             ...   ...\n",
       "514     Control  cg25557432         MACROD2  20.0\n",
       "515     Control  cg25627226             NaN  18.0\n",
       "516     Control  cg26059153         MACROD2  20.0\n",
       "517     Control  cg26115633           FOXI2  10.0\n",
       "518     Control  cg26675876            XKR6   8.0\n",
       "\n",
       "[519 rows x 4 columns]"
      ]
     },
     "execution_count": 6,
     "metadata": {},
     "output_type": "execute_result"
    }
   ],
   "source": [
    "unique_genedf"
   ]
  },
  {
   "cell_type": "code",
   "execution_count": 7,
   "metadata": {
    "ExecuteTime": {
     "end_time": "2023-03-24T12:37:37.259714Z",
     "start_time": "2023-03-24T12:37:37.240356Z"
    }
   },
   "outputs": [
    {
     "data": {
      "text/plain": [
       "11q23/MLL                    38\n",
       "T-ALL                        37\n",
       "Hypo                         37\n",
       "ZNF384-r                     36\n",
       "HeH                          34\n",
       "ETV6-group                   33\n",
       "MEF2D-r                      32\n",
       "DUX4-r                       31\n",
       "PAX5alt                      27\n",
       "PAX5 p.Pro80Arg              27\n",
       "Control                      26\n",
       "aneuploidy                   25\n",
       "t(1;19)                      25\n",
       "NUTM1-r                      23\n",
       "low HeH                      21\n",
       "ph-group                     19\n",
       "t(9;22)_vs_ph-like           19\n",
       "t(12;21)_vs_t(12;21)-like    16\n",
       "iAMP21                       13\n",
       "Name: Subtype, dtype: int64"
      ]
     },
     "execution_count": 7,
     "metadata": {},
     "output_type": "execute_result"
    }
   ],
   "source": [
    "unique_genedf.Subtype.value_counts()"
   ]
  },
  {
   "cell_type": "code",
   "execution_count": 8,
   "metadata": {
    "ExecuteTime": {
     "end_time": "2023-03-24T12:37:37.275714Z",
     "start_time": "2023-03-24T12:37:37.260716Z"
    }
   },
   "outputs": [
    {
     "data": {
      "text/plain": [
       "11q23/MLL                    38\n",
       "T-ALL                        37\n",
       "Hypo                         37\n",
       "ZNF384-r                     36\n",
       "HeH                          34\n",
       "ETV6-group                   33\n",
       "MEF2D-r                      32\n",
       "DUX4-r                       31\n",
       "PAX5alt                      27\n",
       "PAX5 p.Pro80Arg              27\n",
       "Control                      26\n",
       "aneuploidy                   25\n",
       "t(1;19)                      25\n",
       "NUTM1-r                      23\n",
       "low HeH                      21\n",
       "ph-group                     19\n",
       "t(9;22)_vs_ph-like           19\n",
       "t(12;21)_vs_t(12;21)-like    16\n",
       "iAMP21                       13\n",
       "Name: Subtype, dtype: int64"
      ]
     },
     "execution_count": 8,
     "metadata": {},
     "output_type": "execute_result"
    }
   ],
   "source": [
    "finalsignatures = unique_genedf.copy()\n",
    "finalsignatures.Subtype.value_counts(dropna = False)"
   ]
  },
  {
   "cell_type": "code",
   "execution_count": 9,
   "metadata": {
    "ExecuteTime": {
     "end_time": "2023-03-24T12:37:37.291718Z",
     "start_time": "2023-03-24T12:37:37.278716Z"
    }
   },
   "outputs": [
    {
     "data": {
      "text/plain": [
       "(519, 4)"
      ]
     },
     "execution_count": 9,
     "metadata": {},
     "output_type": "execute_result"
    }
   ],
   "source": [
    "finalsignatures.shape"
   ]
  },
  {
   "cell_type": "code",
   "execution_count": 10,
   "metadata": {
    "ExecuteTime": {
     "end_time": "2023-03-24T12:37:37.307723Z",
     "start_time": "2023-03-24T12:37:37.294717Z"
    }
   },
   "outputs": [],
   "source": [
    "modelpath = '../ALLIUM_models/ALLIUM_DNAm/'"
   ]
  },
  {
   "cell_type": "code",
   "execution_count": 11,
   "metadata": {
    "ExecuteTime": {
     "end_time": "2023-03-24T12:37:37.323231Z",
     "start_time": "2023-03-24T12:37:37.309716Z"
    }
   },
   "outputs": [],
   "source": [
    "model = joblib.load(modelpath + '/model_NSCv2_dnam.pkl')\n",
    "imp = joblib.load(modelpath + 'NAimputerNSCv2_dnam.pkl') # same imputation applied as in our design cohort"
   ]
  },
  {
   "cell_type": "code",
   "execution_count": 12,
   "metadata": {
    "ExecuteTime": {
     "end_time": "2023-03-24T12:37:37.338354Z",
     "start_time": "2023-03-24T12:37:37.325234Z"
    }
   },
   "outputs": [
    {
     "data": {
      "text/plain": [
       "{'aneuploidy': NearestCentroid(),\n",
       " 'Overall_aneuploidy': NearestCentroid(),\n",
       " 'ph-group': NearestCentroid(),\n",
       " 't(9;22)_vs_ph-like': NearestCentroid(),\n",
       " 'ETV6-group': NearestCentroid(),\n",
       " 't(12;21)_vs_t(12;21)-like': NearestCentroid(),\n",
       " 'T-ALL': NearestCentroid(),\n",
       " 'DUX4-r': NearestCentroid(),\n",
       " 'PAX5alt': NearestCentroid(),\n",
       " '11q23/MLL': NearestCentroid(),\n",
       " 'ZNF384-r': NearestCentroid(),\n",
       " 't(1;19)': NearestCentroid(),\n",
       " 'MEF2D-r': NearestCentroid(),\n",
       " 'PAX5 p.Pro80Arg': NearestCentroid(),\n",
       " 'NUTM1-r': NearestCentroid(),\n",
       " 'Control': NearestCentroid()}"
      ]
     },
     "execution_count": 12,
     "metadata": {},
     "output_type": "execute_result"
    }
   ],
   "source": [
    "model"
   ]
  },
  {
   "cell_type": "markdown",
   "metadata": {},
   "source": [
    "# Predict the external validation cohort"
   ]
  },
  {
   "cell_type": "code",
   "execution_count": 13,
   "metadata": {
    "ExecuteTime": {
     "end_time": "2023-03-24T12:37:37.354229Z",
     "start_time": "2023-03-24T12:37:37.340232Z"
    }
   },
   "outputs": [
    {
     "data": {
      "text/plain": [
       "227"
      ]
     },
     "execution_count": 13,
     "metadata": {},
     "output_type": "execute_result"
    }
   ],
   "source": [
    "sum(testX.index == testpheno.index)"
   ]
  },
  {
   "cell_type": "code",
   "execution_count": 14,
   "metadata": {
    "ExecuteTime": {
     "end_time": "2023-03-24T12:37:37.371232Z",
     "start_time": "2023-03-24T12:37:37.356237Z"
    },
    "scrolled": true
   },
   "outputs": [
    {
     "data": {
      "text/html": [
       "<div>\n",
       "<style scoped>\n",
       "    .dataframe tbody tr th:only-of-type {\n",
       "        vertical-align: middle;\n",
       "    }\n",
       "\n",
       "    .dataframe tbody tr th {\n",
       "        vertical-align: top;\n",
       "    }\n",
       "\n",
       "    .dataframe thead th {\n",
       "        text-align: right;\n",
       "    }\n",
       "</style>\n",
       "<table border=\"1\" class=\"dataframe\">\n",
       "  <thead>\n",
       "    <tr style=\"text-align: right;\">\n",
       "      <th></th>\n",
       "      <th>tissue</th>\n",
       "      <th>subjects</th>\n",
       "      <th>age</th>\n",
       "      <th>gender</th>\n",
       "      <th>cytogenetics</th>\n",
       "      <th>Subtype_updated</th>\n",
       "    </tr>\n",
       "    <tr>\n",
       "      <th>public_id</th>\n",
       "      <th></th>\n",
       "      <th></th>\n",
       "      <th></th>\n",
       "      <th></th>\n",
       "      <th></th>\n",
       "      <th></th>\n",
       "    </tr>\n",
       "  </thead>\n",
       "  <tbody>\n",
       "    <tr>\n",
       "      <th>0121C</th>\n",
       "      <td>bone marrow / peripheral blood</td>\n",
       "      <td>children with B-ALL (California Childhood Canc...</td>\n",
       "      <td>2</td>\n",
       "      <td>F</td>\n",
       "      <td>hyperdiploid</td>\n",
       "      <td>HeH</td>\n",
       "    </tr>\n",
       "    <tr>\n",
       "      <th>0419C</th>\n",
       "      <td>bone marrow / peripheral blood</td>\n",
       "      <td>children with B-ALL (California Childhood Canc...</td>\n",
       "      <td>3.5</td>\n",
       "      <td>M</td>\n",
       "      <td>hyperdiploid</td>\n",
       "      <td>HeH</td>\n",
       "    </tr>\n",
       "    <tr>\n",
       "      <th>0544C</th>\n",
       "      <td>bone marrow / peripheral blood</td>\n",
       "      <td>children with B-ALL (California Childhood Canc...</td>\n",
       "      <td>5.2</td>\n",
       "      <td>F</td>\n",
       "      <td>hyperdiploid</td>\n",
       "      <td>HeH</td>\n",
       "    </tr>\n",
       "    <tr>\n",
       "      <th>0592C</th>\n",
       "      <td>bone marrow / peripheral blood</td>\n",
       "      <td>children with B-ALL (California Childhood Canc...</td>\n",
       "      <td>4.5</td>\n",
       "      <td>F</td>\n",
       "      <td>hyperdiploid</td>\n",
       "      <td>HeH</td>\n",
       "    </tr>\n",
       "    <tr>\n",
       "      <th>0166C</th>\n",
       "      <td>bone marrow / peripheral blood</td>\n",
       "      <td>children with B-ALL (California Childhood Canc...</td>\n",
       "      <td>2.4</td>\n",
       "      <td>M</td>\n",
       "      <td>hyperdiploid</td>\n",
       "      <td>HeH</td>\n",
       "    </tr>\n",
       "    <tr>\n",
       "      <th>...</th>\n",
       "      <td>...</td>\n",
       "      <td>...</td>\n",
       "      <td>...</td>\n",
       "      <td>...</td>\n",
       "      <td>...</td>\n",
       "      <td>...</td>\n",
       "    </tr>\n",
       "    <tr>\n",
       "      <th>U017C</th>\n",
       "      <td>bone marrow / peripheral blood</td>\n",
       "      <td>children with B-ALL (California Childhood Canc...</td>\n",
       "      <td>NA</td>\n",
       "      <td>NA</td>\n",
       "      <td>unknown</td>\n",
       "      <td>B-other</td>\n",
       "    </tr>\n",
       "    <tr>\n",
       "      <th>U018C</th>\n",
       "      <td>bone marrow / peripheral blood</td>\n",
       "      <td>children with B-ALL (California Childhood Canc...</td>\n",
       "      <td>NA</td>\n",
       "      <td>NA</td>\n",
       "      <td>unknown</td>\n",
       "      <td>B-other</td>\n",
       "    </tr>\n",
       "    <tr>\n",
       "      <th>U019C</th>\n",
       "      <td>bone marrow / peripheral blood</td>\n",
       "      <td>children with B-ALL (California Childhood Canc...</td>\n",
       "      <td>NA</td>\n",
       "      <td>NA</td>\n",
       "      <td>unknown</td>\n",
       "      <td>B-other</td>\n",
       "    </tr>\n",
       "    <tr>\n",
       "      <th>U020C</th>\n",
       "      <td>bone marrow / peripheral blood</td>\n",
       "      <td>children with B-ALL (California Childhood Canc...</td>\n",
       "      <td>NA</td>\n",
       "      <td>NA</td>\n",
       "      <td>unknown</td>\n",
       "      <td>B-other</td>\n",
       "    </tr>\n",
       "    <tr>\n",
       "      <th>U021C</th>\n",
       "      <td>bone marrow / peripheral blood</td>\n",
       "      <td>children with B-ALL (California Childhood Canc...</td>\n",
       "      <td>NA</td>\n",
       "      <td>NA</td>\n",
       "      <td>unknown</td>\n",
       "      <td>B-other</td>\n",
       "    </tr>\n",
       "  </tbody>\n",
       "</table>\n",
       "<p>227 rows × 6 columns</p>\n",
       "</div>"
      ],
      "text/plain": [
       "                                   tissue  \\\n",
       "public_id                                   \n",
       "0121C      bone marrow / peripheral blood   \n",
       "0419C      bone marrow / peripheral blood   \n",
       "0544C      bone marrow / peripheral blood   \n",
       "0592C      bone marrow / peripheral blood   \n",
       "0166C      bone marrow / peripheral blood   \n",
       "...                                   ...   \n",
       "U017C      bone marrow / peripheral blood   \n",
       "U018C      bone marrow / peripheral blood   \n",
       "U019C      bone marrow / peripheral blood   \n",
       "U020C      bone marrow / peripheral blood   \n",
       "U021C      bone marrow / peripheral blood   \n",
       "\n",
       "                                                    subjects  age gender  \\\n",
       "public_id                                                                  \n",
       "0121C      children with B-ALL (California Childhood Canc...    2      F   \n",
       "0419C      children with B-ALL (California Childhood Canc...  3.5      M   \n",
       "0544C      children with B-ALL (California Childhood Canc...  5.2      F   \n",
       "0592C      children with B-ALL (California Childhood Canc...  4.5      F   \n",
       "0166C      children with B-ALL (California Childhood Canc...  2.4      M   \n",
       "...                                                      ...  ...    ...   \n",
       "U017C      children with B-ALL (California Childhood Canc...   NA     NA   \n",
       "U018C      children with B-ALL (California Childhood Canc...   NA     NA   \n",
       "U019C      children with B-ALL (California Childhood Canc...   NA     NA   \n",
       "U020C      children with B-ALL (California Childhood Canc...   NA     NA   \n",
       "U021C      children with B-ALL (California Childhood Canc...   NA     NA   \n",
       "\n",
       "           cytogenetics Subtype_updated  \n",
       "public_id                                \n",
       "0121C      hyperdiploid             HeH  \n",
       "0419C      hyperdiploid             HeH  \n",
       "0544C      hyperdiploid             HeH  \n",
       "0592C      hyperdiploid             HeH  \n",
       "0166C      hyperdiploid             HeH  \n",
       "...                 ...             ...  \n",
       "U017C           unknown         B-other  \n",
       "U018C           unknown         B-other  \n",
       "U019C           unknown         B-other  \n",
       "U020C           unknown         B-other  \n",
       "U021C           unknown         B-other  \n",
       "\n",
       "[227 rows x 6 columns]"
      ]
     },
     "execution_count": 14,
     "metadata": {},
     "output_type": "execute_result"
    }
   ],
   "source": [
    "testpheno"
   ]
  },
  {
   "cell_type": "markdown",
   "metadata": {},
   "source": [
    "# DNAm predictions work with signature_mode as separate, meaning that each classifier using its own signatures "
   ]
  },
  {
   "cell_type": "code",
   "execution_count": 15,
   "metadata": {
    "ExecuteTime": {
     "end_time": "2023-03-24T12:37:37.634851Z",
     "start_time": "2023-03-24T12:37:37.374231Z"
    }
   },
   "outputs": [
    {
     "name": "stdout",
     "output_type": "stream",
     "text": [
      "Starting with subtype group aneuploidy\n",
      "-------Start multiclass approach-----------\n",
      "Starting with subtype group ph-group\n",
      "-------Start one vs one approach-----------\n",
      "---------------t(9;22) vs ph-like---------------\n",
      "Starting with subtype group ETV6-group\n",
      "-------Start one vs one approach-----------\n",
      "---------------t(12;21) vs t(12;21)-like---------------\n",
      "Starting with subtype group T-ALL\n",
      "Starting with subtype group DUX4-r\n",
      "Starting with subtype group PAX5alt\n",
      "Starting with subtype group 11q23/MLL\n",
      "Starting with subtype group ZNF384-r\n",
      "Starting with subtype group t(1;19)\n",
      "Starting with subtype group MEF2D-r\n",
      "Starting with subtype group PAX5 p.Pro80Arg\n",
      "Starting with subtype group NUTM1-r\n",
      "Starting with subtype group Control\n"
     ]
    }
   ],
   "source": [
    "valgen = predictionsNSC(model = model, discoverydf = testX, discoverypheno = testpheno, \n",
    "                        clinicaldatalist = ['Subtype_updated'],\n",
    "                        unique_genedf = finalsignatures, subtypecol = 'Subtype', \n",
    "                        ids = 'TargetID', name = 'DNAm_subtype', datatype = 'DNAm',  \n",
    "                        signature_mode = 'separate', imputation = imp)"
   ]
  },
  {
   "cell_type": "code",
   "execution_count": 16,
   "metadata": {
    "ExecuteTime": {
     "end_time": "2023-03-24T12:37:37.650852Z",
     "start_time": "2023-03-24T12:37:37.637853Z"
    }
   },
   "outputs": [
    {
     "data": {
      "text/plain": [
       "(11, 31)"
      ]
     },
     "execution_count": 16,
     "metadata": {},
     "output_type": "execute_result"
    }
   ],
   "source": [
    "multicases = valgen[(valgen.Subtype_updated != 'B-other') & (valgen['DNAm_subtype'] == 'multiclass')]\n",
    "multicases.shape"
   ]
  },
  {
   "cell_type": "code",
   "execution_count": 17,
   "metadata": {
    "ExecuteTime": {
     "end_time": "2023-03-24T12:37:37.671255Z",
     "start_time": "2023-03-24T12:37:37.653852Z"
    }
   },
   "outputs": [
    {
     "data": {
      "text/plain": [
       "9"
      ]
     },
     "execution_count": 17,
     "metadata": {},
     "output_type": "execute_result"
    }
   ],
   "source": [
    "sum(multicases['Subtype_updated'] == multicases['DNAm_subtype_V2'])"
   ]
  },
  {
   "cell_type": "code",
   "execution_count": 18,
   "metadata": {
    "ExecuteTime": {
     "end_time": "2023-03-24T12:37:37.717966Z",
     "start_time": "2023-03-24T12:37:37.673257Z"
    }
   },
   "outputs": [
    {
     "data": {
      "text/html": [
       "<div>\n",
       "<style scoped>\n",
       "    .dataframe tbody tr th:only-of-type {\n",
       "        vertical-align: middle;\n",
       "    }\n",
       "\n",
       "    .dataframe tbody tr th {\n",
       "        vertical-align: top;\n",
       "    }\n",
       "\n",
       "    .dataframe thead th {\n",
       "        text-align: right;\n",
       "    }\n",
       "</style>\n",
       "<table border=\"1\" class=\"dataframe\">\n",
       "  <thead>\n",
       "    <tr style=\"text-align: right;\">\n",
       "      <th></th>\n",
       "      <th>Subtype_updated</th>\n",
       "      <th>aneuploidy.classifier.proba</th>\n",
       "      <th>HeH.classifier.proba</th>\n",
       "      <th>low HeH.classifier.proba</th>\n",
       "      <th>iAMP21.classifier.proba</th>\n",
       "      <th>Hypo.classifier.proba</th>\n",
       "      <th>ph-group.classifier.proba</th>\n",
       "      <th>t(9;22).classifier.proba</th>\n",
       "      <th>ph-like.classifier.proba</th>\n",
       "      <th>ETV6-group.classifier.proba</th>\n",
       "      <th>...</th>\n",
       "      <th>Control.classifier.proba</th>\n",
       "      <th>#predicted.classes</th>\n",
       "      <th>DNAm_subtype</th>\n",
       "      <th>Subtype detailed_v1</th>\n",
       "      <th>Probability detailed_v1</th>\n",
       "      <th>DNAm_subtype_groups</th>\n",
       "      <th>#classes.updated</th>\n",
       "      <th>DNAm_probability_V2</th>\n",
       "      <th>DNAm_subtype_V2</th>\n",
       "      <th>DNAm_subtype_comments</th>\n",
       "    </tr>\n",
       "    <tr>\n",
       "      <th>public_id</th>\n",
       "      <th></th>\n",
       "      <th></th>\n",
       "      <th></th>\n",
       "      <th></th>\n",
       "      <th></th>\n",
       "      <th></th>\n",
       "      <th></th>\n",
       "      <th></th>\n",
       "      <th></th>\n",
       "      <th></th>\n",
       "      <th></th>\n",
       "      <th></th>\n",
       "      <th></th>\n",
       "      <th></th>\n",
       "      <th></th>\n",
       "      <th></th>\n",
       "      <th></th>\n",
       "      <th></th>\n",
       "      <th></th>\n",
       "      <th></th>\n",
       "      <th></th>\n",
       "    </tr>\n",
       "  </thead>\n",
       "  <tbody>\n",
       "    <tr>\n",
       "      <th>0121C</th>\n",
       "      <td>HeH</td>\n",
       "      <td>0.936674</td>\n",
       "      <td>0.567518</td>\n",
       "      <td>0.176588</td>\n",
       "      <td>0.120035</td>\n",
       "      <td>0.135859</td>\n",
       "      <td>0.237236</td>\n",
       "      <td>NaN</td>\n",
       "      <td>NaN</td>\n",
       "      <td>0.071391</td>\n",
       "      <td>...</td>\n",
       "      <td>0.068810</td>\n",
       "      <td>1</td>\n",
       "      <td>aneuploidy</td>\n",
       "      <td>aneuploidy</td>\n",
       "      <td>0.9367</td>\n",
       "      <td>aneuploidy</td>\n",
       "      <td>1</td>\n",
       "      <td>0.5675</td>\n",
       "      <td>HeH</td>\n",
       "      <td>Manual check is required</td>\n",
       "    </tr>\n",
       "    <tr>\n",
       "      <th>0419C</th>\n",
       "      <td>HeH</td>\n",
       "      <td>0.829489</td>\n",
       "      <td>0.805710</td>\n",
       "      <td>0.093412</td>\n",
       "      <td>0.037118</td>\n",
       "      <td>0.063760</td>\n",
       "      <td>0.159194</td>\n",
       "      <td>NaN</td>\n",
       "      <td>NaN</td>\n",
       "      <td>0.065255</td>\n",
       "      <td>...</td>\n",
       "      <td>0.038719</td>\n",
       "      <td>1</td>\n",
       "      <td>aneuploidy</td>\n",
       "      <td>aneuploidy</td>\n",
       "      <td>0.8295</td>\n",
       "      <td>aneuploidy</td>\n",
       "      <td>1</td>\n",
       "      <td>0.8057</td>\n",
       "      <td>HeH</td>\n",
       "      <td>Passed control</td>\n",
       "    </tr>\n",
       "    <tr>\n",
       "      <th>0544C</th>\n",
       "      <td>HeH</td>\n",
       "      <td>0.937782</td>\n",
       "      <td>0.743155</td>\n",
       "      <td>0.103960</td>\n",
       "      <td>0.056258</td>\n",
       "      <td>0.096627</td>\n",
       "      <td>0.499146</td>\n",
       "      <td>NaN</td>\n",
       "      <td>NaN</td>\n",
       "      <td>0.040394</td>\n",
       "      <td>...</td>\n",
       "      <td>0.025206</td>\n",
       "      <td>1</td>\n",
       "      <td>aneuploidy</td>\n",
       "      <td>aneuploidy</td>\n",
       "      <td>0.9378</td>\n",
       "      <td>aneuploidy</td>\n",
       "      <td>1</td>\n",
       "      <td>0.7432</td>\n",
       "      <td>HeH</td>\n",
       "      <td>Passed control</td>\n",
       "    </tr>\n",
       "    <tr>\n",
       "      <th>0592C</th>\n",
       "      <td>HeH</td>\n",
       "      <td>0.926232</td>\n",
       "      <td>0.809272</td>\n",
       "      <td>0.091553</td>\n",
       "      <td>0.038404</td>\n",
       "      <td>0.060771</td>\n",
       "      <td>0.301724</td>\n",
       "      <td>NaN</td>\n",
       "      <td>NaN</td>\n",
       "      <td>0.093421</td>\n",
       "      <td>...</td>\n",
       "      <td>0.033982</td>\n",
       "      <td>1</td>\n",
       "      <td>aneuploidy</td>\n",
       "      <td>aneuploidy</td>\n",
       "      <td>0.9262</td>\n",
       "      <td>aneuploidy</td>\n",
       "      <td>1</td>\n",
       "      <td>0.8093</td>\n",
       "      <td>HeH</td>\n",
       "      <td>Passed control</td>\n",
       "    </tr>\n",
       "    <tr>\n",
       "      <th>0166C</th>\n",
       "      <td>HeH</td>\n",
       "      <td>0.915251</td>\n",
       "      <td>0.413943</td>\n",
       "      <td>0.266825</td>\n",
       "      <td>0.136287</td>\n",
       "      <td>0.182944</td>\n",
       "      <td>0.187758</td>\n",
       "      <td>NaN</td>\n",
       "      <td>NaN</td>\n",
       "      <td>0.043262</td>\n",
       "      <td>...</td>\n",
       "      <td>0.029078</td>\n",
       "      <td>1</td>\n",
       "      <td>aneuploidy</td>\n",
       "      <td>aneuploidy</td>\n",
       "      <td>0.9153</td>\n",
       "      <td>aneuploidy</td>\n",
       "      <td>1</td>\n",
       "      <td>0.4139</td>\n",
       "      <td>HeH</td>\n",
       "      <td>Manual check is required</td>\n",
       "    </tr>\n",
       "    <tr>\n",
       "      <th>...</th>\n",
       "      <td>...</td>\n",
       "      <td>...</td>\n",
       "      <td>...</td>\n",
       "      <td>...</td>\n",
       "      <td>...</td>\n",
       "      <td>...</td>\n",
       "      <td>...</td>\n",
       "      <td>...</td>\n",
       "      <td>...</td>\n",
       "      <td>...</td>\n",
       "      <td>...</td>\n",
       "      <td>...</td>\n",
       "      <td>...</td>\n",
       "      <td>...</td>\n",
       "      <td>...</td>\n",
       "      <td>...</td>\n",
       "      <td>...</td>\n",
       "      <td>...</td>\n",
       "      <td>...</td>\n",
       "      <td>...</td>\n",
       "      <td>...</td>\n",
       "    </tr>\n",
       "    <tr>\n",
       "      <th>U017C</th>\n",
       "      <td>B-other</td>\n",
       "      <td>0.908898</td>\n",
       "      <td>0.355373</td>\n",
       "      <td>0.191114</td>\n",
       "      <td>0.212873</td>\n",
       "      <td>0.240640</td>\n",
       "      <td>0.273425</td>\n",
       "      <td>NaN</td>\n",
       "      <td>NaN</td>\n",
       "      <td>0.052702</td>\n",
       "      <td>...</td>\n",
       "      <td>0.027495</td>\n",
       "      <td>1</td>\n",
       "      <td>aneuploidy</td>\n",
       "      <td>aneuploidy</td>\n",
       "      <td>0.9089</td>\n",
       "      <td>aneuploidy</td>\n",
       "      <td>1</td>\n",
       "      <td>0.3554</td>\n",
       "      <td>HeH</td>\n",
       "      <td>Manual check is required</td>\n",
       "    </tr>\n",
       "    <tr>\n",
       "      <th>U018C</th>\n",
       "      <td>B-other</td>\n",
       "      <td>0.098718</td>\n",
       "      <td>NaN</td>\n",
       "      <td>NaN</td>\n",
       "      <td>NaN</td>\n",
       "      <td>NaN</td>\n",
       "      <td>0.133659</td>\n",
       "      <td>NaN</td>\n",
       "      <td>NaN</td>\n",
       "      <td>0.071968</td>\n",
       "      <td>...</td>\n",
       "      <td>0.059658</td>\n",
       "      <td>1</td>\n",
       "      <td>t(1;19)</td>\n",
       "      <td>t(1;19)</td>\n",
       "      <td>0.9323</td>\n",
       "      <td>t(1;19)</td>\n",
       "      <td>1</td>\n",
       "      <td>0.9323</td>\n",
       "      <td>t(1;19)</td>\n",
       "      <td>Passed control</td>\n",
       "    </tr>\n",
       "    <tr>\n",
       "      <th>U019C</th>\n",
       "      <td>B-other</td>\n",
       "      <td>0.377542</td>\n",
       "      <td>NaN</td>\n",
       "      <td>NaN</td>\n",
       "      <td>NaN</td>\n",
       "      <td>NaN</td>\n",
       "      <td>0.150010</td>\n",
       "      <td>NaN</td>\n",
       "      <td>NaN</td>\n",
       "      <td>0.059869</td>\n",
       "      <td>...</td>\n",
       "      <td>0.164044</td>\n",
       "      <td>0</td>\n",
       "      <td>no_class</td>\n",
       "      <td>no_class</td>\n",
       "      <td>&lt;0.5</td>\n",
       "      <td>no_class</td>\n",
       "      <td>0</td>\n",
       "      <td>&lt;0.5</td>\n",
       "      <td>no_class</td>\n",
       "      <td>No class prediction</td>\n",
       "    </tr>\n",
       "    <tr>\n",
       "      <th>U020C</th>\n",
       "      <td>B-other</td>\n",
       "      <td>0.067560</td>\n",
       "      <td>NaN</td>\n",
       "      <td>NaN</td>\n",
       "      <td>NaN</td>\n",
       "      <td>NaN</td>\n",
       "      <td>0.140392</td>\n",
       "      <td>NaN</td>\n",
       "      <td>NaN</td>\n",
       "      <td>0.653406</td>\n",
       "      <td>...</td>\n",
       "      <td>0.040244</td>\n",
       "      <td>1</td>\n",
       "      <td>ETV6-group</td>\n",
       "      <td>ETV6-group</td>\n",
       "      <td>0.6534</td>\n",
       "      <td>ETV6-group</td>\n",
       "      <td>1</td>\n",
       "      <td>0.7164</td>\n",
       "      <td>t(12;21)</td>\n",
       "      <td>Passed control</td>\n",
       "    </tr>\n",
       "    <tr>\n",
       "      <th>U021C</th>\n",
       "      <td>B-other</td>\n",
       "      <td>0.149305</td>\n",
       "      <td>NaN</td>\n",
       "      <td>NaN</td>\n",
       "      <td>NaN</td>\n",
       "      <td>NaN</td>\n",
       "      <td>0.267756</td>\n",
       "      <td>NaN</td>\n",
       "      <td>NaN</td>\n",
       "      <td>0.896265</td>\n",
       "      <td>...</td>\n",
       "      <td>0.028840</td>\n",
       "      <td>1</td>\n",
       "      <td>ETV6-group</td>\n",
       "      <td>ETV6-group</td>\n",
       "      <td>0.8963</td>\n",
       "      <td>ETV6-group</td>\n",
       "      <td>1</td>\n",
       "      <td>0.7764</td>\n",
       "      <td>t(12;21)-like</td>\n",
       "      <td>Passed control</td>\n",
       "    </tr>\n",
       "  </tbody>\n",
       "</table>\n",
       "<p>227 rows × 31 columns</p>\n",
       "</div>"
      ],
      "text/plain": [
       "          Subtype_updated  aneuploidy.classifier.proba  HeH.classifier.proba  \\\n",
       "public_id                                                                      \n",
       "0121C                 HeH                     0.936674              0.567518   \n",
       "0419C                 HeH                     0.829489              0.805710   \n",
       "0544C                 HeH                     0.937782              0.743155   \n",
       "0592C                 HeH                     0.926232              0.809272   \n",
       "0166C                 HeH                     0.915251              0.413943   \n",
       "...                   ...                          ...                   ...   \n",
       "U017C             B-other                     0.908898              0.355373   \n",
       "U018C             B-other                     0.098718                   NaN   \n",
       "U019C             B-other                     0.377542                   NaN   \n",
       "U020C             B-other                     0.067560                   NaN   \n",
       "U021C             B-other                     0.149305                   NaN   \n",
       "\n",
       "           low HeH.classifier.proba  iAMP21.classifier.proba  \\\n",
       "public_id                                                      \n",
       "0121C                      0.176588                 0.120035   \n",
       "0419C                      0.093412                 0.037118   \n",
       "0544C                      0.103960                 0.056258   \n",
       "0592C                      0.091553                 0.038404   \n",
       "0166C                      0.266825                 0.136287   \n",
       "...                             ...                      ...   \n",
       "U017C                      0.191114                 0.212873   \n",
       "U018C                           NaN                      NaN   \n",
       "U019C                           NaN                      NaN   \n",
       "U020C                           NaN                      NaN   \n",
       "U021C                           NaN                      NaN   \n",
       "\n",
       "           Hypo.classifier.proba  ph-group.classifier.proba  \\\n",
       "public_id                                                     \n",
       "0121C                   0.135859                   0.237236   \n",
       "0419C                   0.063760                   0.159194   \n",
       "0544C                   0.096627                   0.499146   \n",
       "0592C                   0.060771                   0.301724   \n",
       "0166C                   0.182944                   0.187758   \n",
       "...                          ...                        ...   \n",
       "U017C                   0.240640                   0.273425   \n",
       "U018C                        NaN                   0.133659   \n",
       "U019C                        NaN                   0.150010   \n",
       "U020C                        NaN                   0.140392   \n",
       "U021C                        NaN                   0.267756   \n",
       "\n",
       "           t(9;22).classifier.proba  ph-like.classifier.proba  \\\n",
       "public_id                                                       \n",
       "0121C                           NaN                       NaN   \n",
       "0419C                           NaN                       NaN   \n",
       "0544C                           NaN                       NaN   \n",
       "0592C                           NaN                       NaN   \n",
       "0166C                           NaN                       NaN   \n",
       "...                             ...                       ...   \n",
       "U017C                           NaN                       NaN   \n",
       "U018C                           NaN                       NaN   \n",
       "U019C                           NaN                       NaN   \n",
       "U020C                           NaN                       NaN   \n",
       "U021C                           NaN                       NaN   \n",
       "\n",
       "           ETV6-group.classifier.proba  ...  Control.classifier.proba  \\\n",
       "public_id                               ...                             \n",
       "0121C                         0.071391  ...                  0.068810   \n",
       "0419C                         0.065255  ...                  0.038719   \n",
       "0544C                         0.040394  ...                  0.025206   \n",
       "0592C                         0.093421  ...                  0.033982   \n",
       "0166C                         0.043262  ...                  0.029078   \n",
       "...                                ...  ...                       ...   \n",
       "U017C                         0.052702  ...                  0.027495   \n",
       "U018C                         0.071968  ...                  0.059658   \n",
       "U019C                         0.059869  ...                  0.164044   \n",
       "U020C                         0.653406  ...                  0.040244   \n",
       "U021C                         0.896265  ...                  0.028840   \n",
       "\n",
       "           #predicted.classes  DNAm_subtype  Subtype detailed_v1  \\\n",
       "public_id                                                          \n",
       "0121C                       1    aneuploidy           aneuploidy   \n",
       "0419C                       1    aneuploidy           aneuploidy   \n",
       "0544C                       1    aneuploidy           aneuploidy   \n",
       "0592C                       1    aneuploidy           aneuploidy   \n",
       "0166C                       1    aneuploidy           aneuploidy   \n",
       "...                       ...           ...                  ...   \n",
       "U017C                       1    aneuploidy           aneuploidy   \n",
       "U018C                       1       t(1;19)              t(1;19)   \n",
       "U019C                       0      no_class             no_class   \n",
       "U020C                       1    ETV6-group           ETV6-group   \n",
       "U021C                       1    ETV6-group           ETV6-group   \n",
       "\n",
       "           Probability detailed_v1  DNAm_subtype_groups  #classes.updated  \\\n",
       "public_id                                                                   \n",
       "0121C                       0.9367           aneuploidy                 1   \n",
       "0419C                       0.8295           aneuploidy                 1   \n",
       "0544C                       0.9378           aneuploidy                 1   \n",
       "0592C                       0.9262           aneuploidy                 1   \n",
       "0166C                       0.9153           aneuploidy                 1   \n",
       "...                            ...                  ...               ...   \n",
       "U017C                       0.9089           aneuploidy                 1   \n",
       "U018C                       0.9323              t(1;19)                 1   \n",
       "U019C                         <0.5             no_class                 0   \n",
       "U020C                       0.6534           ETV6-group                 1   \n",
       "U021C                       0.8963           ETV6-group                 1   \n",
       "\n",
       "           DNAm_probability_V2  DNAm_subtype_V2     DNAm_subtype_comments  \n",
       "public_id                                                                  \n",
       "0121C                   0.5675              HeH  Manual check is required  \n",
       "0419C                   0.8057              HeH            Passed control  \n",
       "0544C                   0.7432              HeH            Passed control  \n",
       "0592C                   0.8093              HeH            Passed control  \n",
       "0166C                   0.4139              HeH  Manual check is required  \n",
       "...                        ...              ...                       ...  \n",
       "U017C                   0.3554              HeH  Manual check is required  \n",
       "U018C                   0.9323          t(1;19)            Passed control  \n",
       "U019C                     <0.5         no_class       No class prediction  \n",
       "U020C                   0.7164         t(12;21)            Passed control  \n",
       "U021C                   0.7764    t(12;21)-like            Passed control  \n",
       "\n",
       "[227 rows x 31 columns]"
      ]
     },
     "execution_count": 18,
     "metadata": {},
     "output_type": "execute_result"
    }
   ],
   "source": [
    "valgen"
   ]
  },
  {
   "cell_type": "code",
   "execution_count": 19,
   "metadata": {
    "ExecuteTime": {
     "end_time": "2023-03-24T12:37:37.733002Z",
     "start_time": "2023-03-24T12:37:37.718967Z"
    }
   },
   "outputs": [],
   "source": [
    "valgen.to_csv('../outputs/DNAm_GEO_predictions.csv')"
   ]
  },
  {
   "cell_type": "code",
   "execution_count": 20,
   "metadata": {
    "ExecuteTime": {
     "end_time": "2023-03-24T12:37:37.748967Z",
     "start_time": "2023-03-24T12:37:37.733967Z"
    }
   },
   "outputs": [
    {
     "data": {
      "text/plain": [
       "112"
      ]
     },
     "execution_count": 20,
     "metadata": {},
     "output_type": "execute_result"
    }
   ],
   "source": [
    "sum(valgen.DNAm_subtype_V2 == testpheno.Subtype_updated)"
   ]
  },
  {
   "cell_type": "code",
   "execution_count": 21,
   "metadata": {
    "ExecuteTime": {
     "end_time": "2023-03-24T12:37:37.779983Z",
     "start_time": "2023-03-24T12:37:37.749967Z"
    },
    "scrolled": true
   },
   "outputs": [
    {
     "data": {
      "text/html": [
       "<div>\n",
       "<style scoped>\n",
       "    .dataframe tbody tr th:only-of-type {\n",
       "        vertical-align: middle;\n",
       "    }\n",
       "\n",
       "    .dataframe tbody tr th {\n",
       "        vertical-align: top;\n",
       "    }\n",
       "\n",
       "    .dataframe thead th {\n",
       "        text-align: right;\n",
       "    }\n",
       "</style>\n",
       "<table border=\"1\" class=\"dataframe\">\n",
       "  <thead>\n",
       "    <tr style=\"text-align: right;\">\n",
       "      <th></th>\n",
       "      <th>Subtype_updated</th>\n",
       "      <th>aneuploidy.classifier.proba</th>\n",
       "      <th>HeH.classifier.proba</th>\n",
       "      <th>low HeH.classifier.proba</th>\n",
       "      <th>iAMP21.classifier.proba</th>\n",
       "      <th>Hypo.classifier.proba</th>\n",
       "      <th>ph-group.classifier.proba</th>\n",
       "      <th>t(9;22).classifier.proba</th>\n",
       "      <th>ph-like.classifier.proba</th>\n",
       "      <th>ETV6-group.classifier.proba</th>\n",
       "      <th>...</th>\n",
       "      <th>Control.classifier.proba</th>\n",
       "      <th>#predicted.classes</th>\n",
       "      <th>DNAm_subtype</th>\n",
       "      <th>Subtype detailed_v1</th>\n",
       "      <th>Probability detailed_v1</th>\n",
       "      <th>DNAm_subtype_groups</th>\n",
       "      <th>#classes.updated</th>\n",
       "      <th>DNAm_probability_V2</th>\n",
       "      <th>DNAm_subtype_V2</th>\n",
       "      <th>DNAm_subtype_comments</th>\n",
       "    </tr>\n",
       "    <tr>\n",
       "      <th>public_id</th>\n",
       "      <th></th>\n",
       "      <th></th>\n",
       "      <th></th>\n",
       "      <th></th>\n",
       "      <th></th>\n",
       "      <th></th>\n",
       "      <th></th>\n",
       "      <th></th>\n",
       "      <th></th>\n",
       "      <th></th>\n",
       "      <th></th>\n",
       "      <th></th>\n",
       "      <th></th>\n",
       "      <th></th>\n",
       "      <th></th>\n",
       "      <th></th>\n",
       "      <th></th>\n",
       "      <th></th>\n",
       "      <th></th>\n",
       "      <th></th>\n",
       "      <th></th>\n",
       "    </tr>\n",
       "  </thead>\n",
       "  <tbody>\n",
       "    <tr>\n",
       "      <th>0689C</th>\n",
       "      <td>HeH</td>\n",
       "      <td>0.131501</td>\n",
       "      <td>NaN</td>\n",
       "      <td>NaN</td>\n",
       "      <td>NaN</td>\n",
       "      <td>NaN</td>\n",
       "      <td>0.170101</td>\n",
       "      <td>NaN</td>\n",
       "      <td>NaN</td>\n",
       "      <td>0.959326</td>\n",
       "      <td>...</td>\n",
       "      <td>0.042816</td>\n",
       "      <td>1</td>\n",
       "      <td>ETV6-group</td>\n",
       "      <td>ETV6-group</td>\n",
       "      <td>0.9593</td>\n",
       "      <td>ETV6-group</td>\n",
       "      <td>1</td>\n",
       "      <td>0.7622</td>\n",
       "      <td>t(12;21)</td>\n",
       "      <td>Passed control</td>\n",
       "    </tr>\n",
       "    <tr>\n",
       "      <th>0354C</th>\n",
       "      <td>HeH</td>\n",
       "      <td>0.180812</td>\n",
       "      <td>NaN</td>\n",
       "      <td>NaN</td>\n",
       "      <td>NaN</td>\n",
       "      <td>NaN</td>\n",
       "      <td>0.187929</td>\n",
       "      <td>NaN</td>\n",
       "      <td>NaN</td>\n",
       "      <td>0.079473</td>\n",
       "      <td>...</td>\n",
       "      <td>0.941285</td>\n",
       "      <td>1</td>\n",
       "      <td>Control</td>\n",
       "      <td>Control</td>\n",
       "      <td>0.9413</td>\n",
       "      <td>Control</td>\n",
       "      <td>1</td>\n",
       "      <td>0.9413</td>\n",
       "      <td>Control</td>\n",
       "      <td>Passed control</td>\n",
       "    </tr>\n",
       "    <tr>\n",
       "      <th>0388C</th>\n",
       "      <td>HeH</td>\n",
       "      <td>0.325274</td>\n",
       "      <td>NaN</td>\n",
       "      <td>NaN</td>\n",
       "      <td>NaN</td>\n",
       "      <td>NaN</td>\n",
       "      <td>0.195994</td>\n",
       "      <td>NaN</td>\n",
       "      <td>NaN</td>\n",
       "      <td>0.051499</td>\n",
       "      <td>...</td>\n",
       "      <td>0.476890</td>\n",
       "      <td>0</td>\n",
       "      <td>no_class</td>\n",
       "      <td>no_class</td>\n",
       "      <td>&lt;0.5</td>\n",
       "      <td>no_class</td>\n",
       "      <td>0</td>\n",
       "      <td>&lt;0.5</td>\n",
       "      <td>no_class</td>\n",
       "      <td>No class prediction</td>\n",
       "    </tr>\n",
       "    <tr>\n",
       "      <th>1662C</th>\n",
       "      <td>HeH</td>\n",
       "      <td>0.180371</td>\n",
       "      <td>NaN</td>\n",
       "      <td>NaN</td>\n",
       "      <td>NaN</td>\n",
       "      <td>NaN</td>\n",
       "      <td>0.169511</td>\n",
       "      <td>NaN</td>\n",
       "      <td>NaN</td>\n",
       "      <td>0.050894</td>\n",
       "      <td>...</td>\n",
       "      <td>0.737507</td>\n",
       "      <td>1</td>\n",
       "      <td>Control</td>\n",
       "      <td>Control</td>\n",
       "      <td>0.7375</td>\n",
       "      <td>Control</td>\n",
       "      <td>1</td>\n",
       "      <td>0.7375</td>\n",
       "      <td>Control</td>\n",
       "      <td>Passed control</td>\n",
       "    </tr>\n",
       "    <tr>\n",
       "      <th>0591C</th>\n",
       "      <td>HeH</td>\n",
       "      <td>0.857256</td>\n",
       "      <td>0.174401</td>\n",
       "      <td>0.274070</td>\n",
       "      <td>0.398330</td>\n",
       "      <td>0.153199</td>\n",
       "      <td>0.811202</td>\n",
       "      <td>0.62894</td>\n",
       "      <td>0.37106</td>\n",
       "      <td>0.054221</td>\n",
       "      <td>...</td>\n",
       "      <td>0.056172</td>\n",
       "      <td>2</td>\n",
       "      <td>multiclass</td>\n",
       "      <td>aneuploidy, ph-group</td>\n",
       "      <td>0.8573, 0.8112</td>\n",
       "      <td>aneuploidy</td>\n",
       "      <td>1</td>\n",
       "      <td>0.3983</td>\n",
       "      <td>iAMP21</td>\n",
       "      <td>Manual check is required</td>\n",
       "    </tr>\n",
       "    <tr>\n",
       "      <th>0580C</th>\n",
       "      <td>HeH</td>\n",
       "      <td>0.469465</td>\n",
       "      <td>NaN</td>\n",
       "      <td>NaN</td>\n",
       "      <td>NaN</td>\n",
       "      <td>NaN</td>\n",
       "      <td>0.496909</td>\n",
       "      <td>NaN</td>\n",
       "      <td>NaN</td>\n",
       "      <td>0.235348</td>\n",
       "      <td>...</td>\n",
       "      <td>0.723396</td>\n",
       "      <td>1</td>\n",
       "      <td>Control</td>\n",
       "      <td>Control</td>\n",
       "      <td>0.7234</td>\n",
       "      <td>Control</td>\n",
       "      <td>1</td>\n",
       "      <td>0.7234</td>\n",
       "      <td>Control</td>\n",
       "      <td>Passed control</td>\n",
       "    </tr>\n",
       "    <tr>\n",
       "      <th>0741C</th>\n",
       "      <td>HeH</td>\n",
       "      <td>0.094843</td>\n",
       "      <td>NaN</td>\n",
       "      <td>NaN</td>\n",
       "      <td>NaN</td>\n",
       "      <td>NaN</td>\n",
       "      <td>0.153806</td>\n",
       "      <td>NaN</td>\n",
       "      <td>NaN</td>\n",
       "      <td>0.089360</td>\n",
       "      <td>...</td>\n",
       "      <td>0.037851</td>\n",
       "      <td>1</td>\n",
       "      <td>t(1;19)</td>\n",
       "      <td>t(1;19)</td>\n",
       "      <td>0.9448</td>\n",
       "      <td>t(1;19)</td>\n",
       "      <td>1</td>\n",
       "      <td>0.9448</td>\n",
       "      <td>t(1;19)</td>\n",
       "      <td>Passed control</td>\n",
       "    </tr>\n",
       "    <tr>\n",
       "      <th>0953C</th>\n",
       "      <td>HeH</td>\n",
       "      <td>0.145752</td>\n",
       "      <td>NaN</td>\n",
       "      <td>NaN</td>\n",
       "      <td>NaN</td>\n",
       "      <td>NaN</td>\n",
       "      <td>0.164782</td>\n",
       "      <td>NaN</td>\n",
       "      <td>NaN</td>\n",
       "      <td>0.060737</td>\n",
       "      <td>...</td>\n",
       "      <td>0.848564</td>\n",
       "      <td>1</td>\n",
       "      <td>Control</td>\n",
       "      <td>Control</td>\n",
       "      <td>0.8486</td>\n",
       "      <td>Control</td>\n",
       "      <td>1</td>\n",
       "      <td>0.8486</td>\n",
       "      <td>Control</td>\n",
       "      <td>Passed control</td>\n",
       "    </tr>\n",
       "    <tr>\n",
       "      <th>0873C</th>\n",
       "      <td>HeH</td>\n",
       "      <td>0.302430</td>\n",
       "      <td>NaN</td>\n",
       "      <td>NaN</td>\n",
       "      <td>NaN</td>\n",
       "      <td>NaN</td>\n",
       "      <td>0.472447</td>\n",
       "      <td>NaN</td>\n",
       "      <td>NaN</td>\n",
       "      <td>0.236183</td>\n",
       "      <td>...</td>\n",
       "      <td>0.157372</td>\n",
       "      <td>1</td>\n",
       "      <td>MEF2D-r</td>\n",
       "      <td>MEF2D-r</td>\n",
       "      <td>0.6857</td>\n",
       "      <td>MEF2D-r</td>\n",
       "      <td>1</td>\n",
       "      <td>0.6857</td>\n",
       "      <td>MEF2D-r</td>\n",
       "      <td>Manual check is required</td>\n",
       "    </tr>\n",
       "    <tr>\n",
       "      <th>1272C</th>\n",
       "      <td>HeH</td>\n",
       "      <td>0.443272</td>\n",
       "      <td>NaN</td>\n",
       "      <td>NaN</td>\n",
       "      <td>NaN</td>\n",
       "      <td>NaN</td>\n",
       "      <td>0.270744</td>\n",
       "      <td>NaN</td>\n",
       "      <td>NaN</td>\n",
       "      <td>0.076826</td>\n",
       "      <td>...</td>\n",
       "      <td>0.841220</td>\n",
       "      <td>1</td>\n",
       "      <td>Control</td>\n",
       "      <td>Control</td>\n",
       "      <td>0.8412</td>\n",
       "      <td>Control</td>\n",
       "      <td>1</td>\n",
       "      <td>0.8412</td>\n",
       "      <td>Control</td>\n",
       "      <td>Passed control</td>\n",
       "    </tr>\n",
       "    <tr>\n",
       "      <th>0670C</th>\n",
       "      <td>HeH</td>\n",
       "      <td>0.197096</td>\n",
       "      <td>NaN</td>\n",
       "      <td>NaN</td>\n",
       "      <td>NaN</td>\n",
       "      <td>NaN</td>\n",
       "      <td>0.209049</td>\n",
       "      <td>NaN</td>\n",
       "      <td>NaN</td>\n",
       "      <td>0.064542</td>\n",
       "      <td>...</td>\n",
       "      <td>0.918465</td>\n",
       "      <td>1</td>\n",
       "      <td>Control</td>\n",
       "      <td>Control</td>\n",
       "      <td>0.9185</td>\n",
       "      <td>Control</td>\n",
       "      <td>1</td>\n",
       "      <td>0.9185</td>\n",
       "      <td>Control</td>\n",
       "      <td>Passed control</td>\n",
       "    </tr>\n",
       "    <tr>\n",
       "      <th>0370C</th>\n",
       "      <td>t(12;21)</td>\n",
       "      <td>0.075381</td>\n",
       "      <td>NaN</td>\n",
       "      <td>NaN</td>\n",
       "      <td>NaN</td>\n",
       "      <td>NaN</td>\n",
       "      <td>0.127452</td>\n",
       "      <td>NaN</td>\n",
       "      <td>NaN</td>\n",
       "      <td>0.916416</td>\n",
       "      <td>...</td>\n",
       "      <td>0.036293</td>\n",
       "      <td>1</td>\n",
       "      <td>ETV6-group</td>\n",
       "      <td>ETV6-group</td>\n",
       "      <td>0.9164</td>\n",
       "      <td>ETV6-group</td>\n",
       "      <td>1</td>\n",
       "      <td>0.6843</td>\n",
       "      <td>t(12;21)-like</td>\n",
       "      <td>Manual check is required</td>\n",
       "    </tr>\n",
       "    <tr>\n",
       "      <th>1595C</th>\n",
       "      <td>t(12;21)</td>\n",
       "      <td>0.062790</td>\n",
       "      <td>NaN</td>\n",
       "      <td>NaN</td>\n",
       "      <td>NaN</td>\n",
       "      <td>NaN</td>\n",
       "      <td>0.137935</td>\n",
       "      <td>NaN</td>\n",
       "      <td>NaN</td>\n",
       "      <td>0.261001</td>\n",
       "      <td>...</td>\n",
       "      <td>0.508200</td>\n",
       "      <td>1</td>\n",
       "      <td>Control</td>\n",
       "      <td>Control</td>\n",
       "      <td>0.5082</td>\n",
       "      <td>Control</td>\n",
       "      <td>1</td>\n",
       "      <td>0.5082</td>\n",
       "      <td>Control</td>\n",
       "      <td>Manual check is required</td>\n",
       "    </tr>\n",
       "    <tr>\n",
       "      <th>0565C</th>\n",
       "      <td>t(12;21)</td>\n",
       "      <td>0.107220</td>\n",
       "      <td>NaN</td>\n",
       "      <td>NaN</td>\n",
       "      <td>NaN</td>\n",
       "      <td>NaN</td>\n",
       "      <td>0.204574</td>\n",
       "      <td>NaN</td>\n",
       "      <td>NaN</td>\n",
       "      <td>0.281389</td>\n",
       "      <td>...</td>\n",
       "      <td>0.705989</td>\n",
       "      <td>1</td>\n",
       "      <td>Control</td>\n",
       "      <td>Control</td>\n",
       "      <td>0.706</td>\n",
       "      <td>Control</td>\n",
       "      <td>1</td>\n",
       "      <td>0.706</td>\n",
       "      <td>Control</td>\n",
       "      <td>Passed control</td>\n",
       "    </tr>\n",
       "    <tr>\n",
       "      <th>0543C</th>\n",
       "      <td>t(12;21)</td>\n",
       "      <td>0.069373</td>\n",
       "      <td>NaN</td>\n",
       "      <td>NaN</td>\n",
       "      <td>NaN</td>\n",
       "      <td>NaN</td>\n",
       "      <td>0.149649</td>\n",
       "      <td>NaN</td>\n",
       "      <td>NaN</td>\n",
       "      <td>0.353594</td>\n",
       "      <td>...</td>\n",
       "      <td>0.665380</td>\n",
       "      <td>1</td>\n",
       "      <td>Control</td>\n",
       "      <td>Control</td>\n",
       "      <td>0.6654</td>\n",
       "      <td>Control</td>\n",
       "      <td>1</td>\n",
       "      <td>0.6654</td>\n",
       "      <td>Control</td>\n",
       "      <td>Manual check is required</td>\n",
       "    </tr>\n",
       "    <tr>\n",
       "      <th>0718C</th>\n",
       "      <td>t(12;21)</td>\n",
       "      <td>0.063959</td>\n",
       "      <td>NaN</td>\n",
       "      <td>NaN</td>\n",
       "      <td>NaN</td>\n",
       "      <td>NaN</td>\n",
       "      <td>0.190958</td>\n",
       "      <td>NaN</td>\n",
       "      <td>NaN</td>\n",
       "      <td>0.085006</td>\n",
       "      <td>...</td>\n",
       "      <td>0.920196</td>\n",
       "      <td>1</td>\n",
       "      <td>Control</td>\n",
       "      <td>Control</td>\n",
       "      <td>0.9202</td>\n",
       "      <td>Control</td>\n",
       "      <td>1</td>\n",
       "      <td>0.9202</td>\n",
       "      <td>Control</td>\n",
       "      <td>Passed control</td>\n",
       "    </tr>\n",
       "    <tr>\n",
       "      <th>0690C</th>\n",
       "      <td>t(12;21)</td>\n",
       "      <td>0.201401</td>\n",
       "      <td>NaN</td>\n",
       "      <td>NaN</td>\n",
       "      <td>NaN</td>\n",
       "      <td>NaN</td>\n",
       "      <td>0.251908</td>\n",
       "      <td>NaN</td>\n",
       "      <td>NaN</td>\n",
       "      <td>0.061590</td>\n",
       "      <td>...</td>\n",
       "      <td>0.827912</td>\n",
       "      <td>1</td>\n",
       "      <td>Control</td>\n",
       "      <td>Control</td>\n",
       "      <td>0.8279</td>\n",
       "      <td>Control</td>\n",
       "      <td>1</td>\n",
       "      <td>0.8279</td>\n",
       "      <td>Control</td>\n",
       "      <td>Passed control</td>\n",
       "    </tr>\n",
       "    <tr>\n",
       "      <th>1544C</th>\n",
       "      <td>t(12;21)</td>\n",
       "      <td>0.066982</td>\n",
       "      <td>NaN</td>\n",
       "      <td>NaN</td>\n",
       "      <td>NaN</td>\n",
       "      <td>NaN</td>\n",
       "      <td>0.135380</td>\n",
       "      <td>NaN</td>\n",
       "      <td>NaN</td>\n",
       "      <td>0.271629</td>\n",
       "      <td>...</td>\n",
       "      <td>0.527499</td>\n",
       "      <td>1</td>\n",
       "      <td>Control</td>\n",
       "      <td>Control</td>\n",
       "      <td>0.5275</td>\n",
       "      <td>Control</td>\n",
       "      <td>1</td>\n",
       "      <td>0.5275</td>\n",
       "      <td>Control</td>\n",
       "      <td>Manual check is required</td>\n",
       "    </tr>\n",
       "    <tr>\n",
       "      <th>1558C</th>\n",
       "      <td>t(12;21)</td>\n",
       "      <td>0.095748</td>\n",
       "      <td>NaN</td>\n",
       "      <td>NaN</td>\n",
       "      <td>NaN</td>\n",
       "      <td>NaN</td>\n",
       "      <td>0.289515</td>\n",
       "      <td>NaN</td>\n",
       "      <td>NaN</td>\n",
       "      <td>0.349581</td>\n",
       "      <td>...</td>\n",
       "      <td>0.668536</td>\n",
       "      <td>1</td>\n",
       "      <td>Control</td>\n",
       "      <td>Control</td>\n",
       "      <td>0.6685</td>\n",
       "      <td>Control</td>\n",
       "      <td>1</td>\n",
       "      <td>0.6685</td>\n",
       "      <td>Control</td>\n",
       "      <td>Manual check is required</td>\n",
       "    </tr>\n",
       "    <tr>\n",
       "      <th>0711C</th>\n",
       "      <td>t(1;19)</td>\n",
       "      <td>0.922805</td>\n",
       "      <td>0.432737</td>\n",
       "      <td>0.092926</td>\n",
       "      <td>0.079338</td>\n",
       "      <td>0.395000</td>\n",
       "      <td>0.200400</td>\n",
       "      <td>NaN</td>\n",
       "      <td>NaN</td>\n",
       "      <td>0.050527</td>\n",
       "      <td>...</td>\n",
       "      <td>0.085528</td>\n",
       "      <td>1</td>\n",
       "      <td>aneuploidy</td>\n",
       "      <td>aneuploidy</td>\n",
       "      <td>0.9228</td>\n",
       "      <td>aneuploidy</td>\n",
       "      <td>1</td>\n",
       "      <td>0.4327</td>\n",
       "      <td>HeH</td>\n",
       "      <td>Manual check is required</td>\n",
       "    </tr>\n",
       "    <tr>\n",
       "      <th>0878C</th>\n",
       "      <td>11q23/MLL</td>\n",
       "      <td>0.078795</td>\n",
       "      <td>NaN</td>\n",
       "      <td>NaN</td>\n",
       "      <td>NaN</td>\n",
       "      <td>NaN</td>\n",
       "      <td>0.181348</td>\n",
       "      <td>NaN</td>\n",
       "      <td>NaN</td>\n",
       "      <td>0.062447</td>\n",
       "      <td>...</td>\n",
       "      <td>0.031355</td>\n",
       "      <td>2</td>\n",
       "      <td>multiclass</td>\n",
       "      <td>11q23/MLL, t(1;19)</td>\n",
       "      <td>0.5025, 0.5644</td>\n",
       "      <td>t(1;19)</td>\n",
       "      <td>1</td>\n",
       "      <td>0.5644</td>\n",
       "      <td>t(1;19)</td>\n",
       "      <td>Manual check is required</td>\n",
       "    </tr>\n",
       "  </tbody>\n",
       "</table>\n",
       "<p>21 rows × 31 columns</p>\n",
       "</div>"
      ],
      "text/plain": [
       "          Subtype_updated  aneuploidy.classifier.proba  HeH.classifier.proba  \\\n",
       "public_id                                                                      \n",
       "0689C                 HeH                     0.131501                   NaN   \n",
       "0354C                 HeH                     0.180812                   NaN   \n",
       "0388C                 HeH                     0.325274                   NaN   \n",
       "1662C                 HeH                     0.180371                   NaN   \n",
       "0591C                 HeH                     0.857256              0.174401   \n",
       "0580C                 HeH                     0.469465                   NaN   \n",
       "0741C                 HeH                     0.094843                   NaN   \n",
       "0953C                 HeH                     0.145752                   NaN   \n",
       "0873C                 HeH                     0.302430                   NaN   \n",
       "1272C                 HeH                     0.443272                   NaN   \n",
       "0670C                 HeH                     0.197096                   NaN   \n",
       "0370C            t(12;21)                     0.075381                   NaN   \n",
       "1595C            t(12;21)                     0.062790                   NaN   \n",
       "0565C            t(12;21)                     0.107220                   NaN   \n",
       "0543C            t(12;21)                     0.069373                   NaN   \n",
       "0718C            t(12;21)                     0.063959                   NaN   \n",
       "0690C            t(12;21)                     0.201401                   NaN   \n",
       "1544C            t(12;21)                     0.066982                   NaN   \n",
       "1558C            t(12;21)                     0.095748                   NaN   \n",
       "0711C             t(1;19)                     0.922805              0.432737   \n",
       "0878C           11q23/MLL                     0.078795                   NaN   \n",
       "\n",
       "           low HeH.classifier.proba  iAMP21.classifier.proba  \\\n",
       "public_id                                                      \n",
       "0689C                           NaN                      NaN   \n",
       "0354C                           NaN                      NaN   \n",
       "0388C                           NaN                      NaN   \n",
       "1662C                           NaN                      NaN   \n",
       "0591C                      0.274070                 0.398330   \n",
       "0580C                           NaN                      NaN   \n",
       "0741C                           NaN                      NaN   \n",
       "0953C                           NaN                      NaN   \n",
       "0873C                           NaN                      NaN   \n",
       "1272C                           NaN                      NaN   \n",
       "0670C                           NaN                      NaN   \n",
       "0370C                           NaN                      NaN   \n",
       "1595C                           NaN                      NaN   \n",
       "0565C                           NaN                      NaN   \n",
       "0543C                           NaN                      NaN   \n",
       "0718C                           NaN                      NaN   \n",
       "0690C                           NaN                      NaN   \n",
       "1544C                           NaN                      NaN   \n",
       "1558C                           NaN                      NaN   \n",
       "0711C                      0.092926                 0.079338   \n",
       "0878C                           NaN                      NaN   \n",
       "\n",
       "           Hypo.classifier.proba  ph-group.classifier.proba  \\\n",
       "public_id                                                     \n",
       "0689C                        NaN                   0.170101   \n",
       "0354C                        NaN                   0.187929   \n",
       "0388C                        NaN                   0.195994   \n",
       "1662C                        NaN                   0.169511   \n",
       "0591C                   0.153199                   0.811202   \n",
       "0580C                        NaN                   0.496909   \n",
       "0741C                        NaN                   0.153806   \n",
       "0953C                        NaN                   0.164782   \n",
       "0873C                        NaN                   0.472447   \n",
       "1272C                        NaN                   0.270744   \n",
       "0670C                        NaN                   0.209049   \n",
       "0370C                        NaN                   0.127452   \n",
       "1595C                        NaN                   0.137935   \n",
       "0565C                        NaN                   0.204574   \n",
       "0543C                        NaN                   0.149649   \n",
       "0718C                        NaN                   0.190958   \n",
       "0690C                        NaN                   0.251908   \n",
       "1544C                        NaN                   0.135380   \n",
       "1558C                        NaN                   0.289515   \n",
       "0711C                   0.395000                   0.200400   \n",
       "0878C                        NaN                   0.181348   \n",
       "\n",
       "           t(9;22).classifier.proba  ph-like.classifier.proba  \\\n",
       "public_id                                                       \n",
       "0689C                           NaN                       NaN   \n",
       "0354C                           NaN                       NaN   \n",
       "0388C                           NaN                       NaN   \n",
       "1662C                           NaN                       NaN   \n",
       "0591C                       0.62894                   0.37106   \n",
       "0580C                           NaN                       NaN   \n",
       "0741C                           NaN                       NaN   \n",
       "0953C                           NaN                       NaN   \n",
       "0873C                           NaN                       NaN   \n",
       "1272C                           NaN                       NaN   \n",
       "0670C                           NaN                       NaN   \n",
       "0370C                           NaN                       NaN   \n",
       "1595C                           NaN                       NaN   \n",
       "0565C                           NaN                       NaN   \n",
       "0543C                           NaN                       NaN   \n",
       "0718C                           NaN                       NaN   \n",
       "0690C                           NaN                       NaN   \n",
       "1544C                           NaN                       NaN   \n",
       "1558C                           NaN                       NaN   \n",
       "0711C                           NaN                       NaN   \n",
       "0878C                           NaN                       NaN   \n",
       "\n",
       "           ETV6-group.classifier.proba  ...  Control.classifier.proba  \\\n",
       "public_id                               ...                             \n",
       "0689C                         0.959326  ...                  0.042816   \n",
       "0354C                         0.079473  ...                  0.941285   \n",
       "0388C                         0.051499  ...                  0.476890   \n",
       "1662C                         0.050894  ...                  0.737507   \n",
       "0591C                         0.054221  ...                  0.056172   \n",
       "0580C                         0.235348  ...                  0.723396   \n",
       "0741C                         0.089360  ...                  0.037851   \n",
       "0953C                         0.060737  ...                  0.848564   \n",
       "0873C                         0.236183  ...                  0.157372   \n",
       "1272C                         0.076826  ...                  0.841220   \n",
       "0670C                         0.064542  ...                  0.918465   \n",
       "0370C                         0.916416  ...                  0.036293   \n",
       "1595C                         0.261001  ...                  0.508200   \n",
       "0565C                         0.281389  ...                  0.705989   \n",
       "0543C                         0.353594  ...                  0.665380   \n",
       "0718C                         0.085006  ...                  0.920196   \n",
       "0690C                         0.061590  ...                  0.827912   \n",
       "1544C                         0.271629  ...                  0.527499   \n",
       "1558C                         0.349581  ...                  0.668536   \n",
       "0711C                         0.050527  ...                  0.085528   \n",
       "0878C                         0.062447  ...                  0.031355   \n",
       "\n",
       "           #predicted.classes  DNAm_subtype   Subtype detailed_v1  \\\n",
       "public_id                                                           \n",
       "0689C                       1    ETV6-group            ETV6-group   \n",
       "0354C                       1       Control               Control   \n",
       "0388C                       0      no_class              no_class   \n",
       "1662C                       1       Control               Control   \n",
       "0591C                       2    multiclass  aneuploidy, ph-group   \n",
       "0580C                       1       Control               Control   \n",
       "0741C                       1       t(1;19)               t(1;19)   \n",
       "0953C                       1       Control               Control   \n",
       "0873C                       1       MEF2D-r               MEF2D-r   \n",
       "1272C                       1       Control               Control   \n",
       "0670C                       1       Control               Control   \n",
       "0370C                       1    ETV6-group            ETV6-group   \n",
       "1595C                       1       Control               Control   \n",
       "0565C                       1       Control               Control   \n",
       "0543C                       1       Control               Control   \n",
       "0718C                       1       Control               Control   \n",
       "0690C                       1       Control               Control   \n",
       "1544C                       1       Control               Control   \n",
       "1558C                       1       Control               Control   \n",
       "0711C                       1    aneuploidy            aneuploidy   \n",
       "0878C                       2    multiclass    11q23/MLL, t(1;19)   \n",
       "\n",
       "           Probability detailed_v1  DNAm_subtype_groups  #classes.updated  \\\n",
       "public_id                                                                   \n",
       "0689C                       0.9593           ETV6-group                 1   \n",
       "0354C                       0.9413              Control                 1   \n",
       "0388C                         <0.5             no_class                 0   \n",
       "1662C                       0.7375              Control                 1   \n",
       "0591C               0.8573, 0.8112           aneuploidy                 1   \n",
       "0580C                       0.7234              Control                 1   \n",
       "0741C                       0.9448              t(1;19)                 1   \n",
       "0953C                       0.8486              Control                 1   \n",
       "0873C                       0.6857              MEF2D-r                 1   \n",
       "1272C                       0.8412              Control                 1   \n",
       "0670C                       0.9185              Control                 1   \n",
       "0370C                       0.9164           ETV6-group                 1   \n",
       "1595C                       0.5082              Control                 1   \n",
       "0565C                        0.706              Control                 1   \n",
       "0543C                       0.6654              Control                 1   \n",
       "0718C                       0.9202              Control                 1   \n",
       "0690C                       0.8279              Control                 1   \n",
       "1544C                       0.5275              Control                 1   \n",
       "1558C                       0.6685              Control                 1   \n",
       "0711C                       0.9228           aneuploidy                 1   \n",
       "0878C               0.5025, 0.5644              t(1;19)                 1   \n",
       "\n",
       "           DNAm_probability_V2  DNAm_subtype_V2     DNAm_subtype_comments  \n",
       "public_id                                                                  \n",
       "0689C                   0.7622         t(12;21)            Passed control  \n",
       "0354C                   0.9413          Control            Passed control  \n",
       "0388C                     <0.5         no_class       No class prediction  \n",
       "1662C                   0.7375          Control            Passed control  \n",
       "0591C                   0.3983           iAMP21  Manual check is required  \n",
       "0580C                   0.7234          Control            Passed control  \n",
       "0741C                   0.9448          t(1;19)            Passed control  \n",
       "0953C                   0.8486          Control            Passed control  \n",
       "0873C                   0.6857          MEF2D-r  Manual check is required  \n",
       "1272C                   0.8412          Control            Passed control  \n",
       "0670C                   0.9185          Control            Passed control  \n",
       "0370C                   0.6843    t(12;21)-like  Manual check is required  \n",
       "1595C                   0.5082          Control  Manual check is required  \n",
       "0565C                    0.706          Control            Passed control  \n",
       "0543C                   0.6654          Control  Manual check is required  \n",
       "0718C                   0.9202          Control            Passed control  \n",
       "0690C                   0.8279          Control            Passed control  \n",
       "1544C                   0.5275          Control  Manual check is required  \n",
       "1558C                   0.6685          Control  Manual check is required  \n",
       "0711C                   0.4327              HeH  Manual check is required  \n",
       "0878C                   0.5644          t(1;19)  Manual check is required  \n",
       "\n",
       "[21 rows x 31 columns]"
      ]
     },
     "execution_count": 21,
     "metadata": {},
     "output_type": "execute_result"
    }
   ],
   "source": [
    "valgen[(valgen.DNAm_subtype_V2 != testpheno.Subtype_updated) &(valgen.Subtype_updated != 'B-other')]"
   ]
  },
  {
   "cell_type": "code",
   "execution_count": 22,
   "metadata": {
    "ExecuteTime": {
     "end_time": "2023-03-24T12:37:37.795966Z",
     "start_time": "2023-03-24T12:37:37.781969Z"
    }
   },
   "outputs": [
    {
     "data": {
      "text/plain": [
       "Control          13\n",
       "t(1;19)           2\n",
       "t(12;21)          1\n",
       "iAMP21            1\n",
       "HeH               1\n",
       "t(12;21)-like     1\n",
       "no_class          1\n",
       "MEF2D-r           1\n",
       "Name: DNAm_subtype_V2, dtype: int64"
      ]
     },
     "execution_count": 22,
     "metadata": {},
     "output_type": "execute_result"
    }
   ],
   "source": [
    "valgen[(valgen.DNAm_subtype_V2 != testpheno.Subtype_updated) &(valgen.Subtype_updated != 'B-other')].DNAm_subtype_V2.value_counts()"
   ]
  },
  {
   "cell_type": "code",
   "execution_count": 23,
   "metadata": {
    "ExecuteTime": {
     "end_time": "2023-03-24T12:37:37.811002Z",
     "start_time": "2023-03-24T12:37:37.797969Z"
    }
   },
   "outputs": [
    {
     "data": {
      "text/plain": [
       "no_class           16\n",
       "PAX5alt            13\n",
       "Control            10\n",
       "t(1;19)            10\n",
       "t(12;21)            9\n",
       "ph-like             8\n",
       "DUX4-r              7\n",
       "HeH                 6\n",
       "iAMP21              3\n",
       "t(12;21)-like       3\n",
       "ZNF384-r            3\n",
       "MEF2D-r             3\n",
       "t(9;22)             1\n",
       "T-ALL               1\n",
       "PAX5 p.Pro80Arg     1\n",
       "Name: DNAm_subtype_V2, dtype: int64"
      ]
     },
     "execution_count": 23,
     "metadata": {},
     "output_type": "execute_result"
    }
   ],
   "source": [
    "valgen[valgen.Subtype_updated == 'B-other'].DNAm_subtype_V2.value_counts()"
   ]
  },
  {
   "cell_type": "code",
   "execution_count": 24,
   "metadata": {
    "ExecuteTime": {
     "end_time": "2023-03-24T12:37:37.826716Z",
     "start_time": "2023-03-24T12:37:37.813971Z"
    }
   },
   "outputs": [
    {
     "data": {
      "text/plain": [
       "(94, 31)"
      ]
     },
     "execution_count": 24,
     "metadata": {},
     "output_type": "execute_result"
    }
   ],
   "source": [
    "valgen[valgen.Subtype_updated == 'B-other'].shape"
   ]
  },
  {
   "cell_type": "markdown",
   "metadata": {},
   "source": [
    "# Construct confusion matrix for the samples of known subtype (n = 133)"
   ]
  },
  {
   "cell_type": "code",
   "execution_count": 25,
   "metadata": {
    "ExecuteTime": {
     "end_time": "2023-03-24T12:37:37.847420Z",
     "start_time": "2023-03-24T12:37:37.828716Z"
    }
   },
   "outputs": [],
   "source": [
    "testdf = valgen[valgen.Subtype_updated != 'B-other']"
   ]
  },
  {
   "cell_type": "code",
   "execution_count": 26,
   "metadata": {
    "ExecuteTime": {
     "end_time": "2023-03-24T12:37:37.864554Z",
     "start_time": "2023-03-24T12:37:37.849486Z"
    }
   },
   "outputs": [
    {
     "data": {
      "text/plain": [
       "(133, 31)"
      ]
     },
     "execution_count": 26,
     "metadata": {},
     "output_type": "execute_result"
    }
   ],
   "source": [
    "testdf.shape"
   ]
  },
  {
   "cell_type": "code",
   "execution_count": 27,
   "metadata": {
    "ExecuteTime": {
     "end_time": "2023-03-24T12:37:37.882976Z",
     "start_time": "2023-03-24T12:37:37.867342Z"
    }
   },
   "outputs": [
    {
     "data": {
      "text/plain": [
       "HeH              63\n",
       "t(12;21)         45\n",
       "Control          13\n",
       "t(1;19)           7\n",
       "iAMP21            1\n",
       "11q23/MLL         1\n",
       "t(12;21)-like     1\n",
       "no_class          1\n",
       "MEF2D-r           1\n",
       "Name: DNAm_subtype_V2, dtype: int64"
      ]
     },
     "execution_count": 27,
     "metadata": {},
     "output_type": "execute_result"
    }
   ],
   "source": [
    "testdf.DNAm_subtype_V2.value_counts()"
   ]
  },
  {
   "cell_type": "code",
   "execution_count": 28,
   "metadata": {
    "ExecuteTime": {
     "end_time": "2023-03-24T12:37:37.897975Z",
     "start_time": "2023-03-24T12:37:37.884975Z"
    }
   },
   "outputs": [
    {
     "data": {
      "text/plain": [
       "HeH          73\n",
       "t(12;21)     52\n",
       "t(1;19)       6\n",
       "11q23/MLL     2\n",
       "Name: Subtype_updated, dtype: int64"
      ]
     },
     "execution_count": 28,
     "metadata": {},
     "output_type": "execute_result"
    }
   ],
   "source": [
    "testdf.Subtype_updated.value_counts()"
   ]
  },
  {
   "cell_type": "code",
   "execution_count": 29,
   "metadata": {
    "ExecuteTime": {
     "end_time": "2023-03-24T12:37:37.911942Z",
     "start_time": "2023-03-24T12:37:37.898975Z"
    }
   },
   "outputs": [
    {
     "data": {
      "text/plain": [
       "{'11q23/MLL',\n",
       " 'Control',\n",
       " 'HeH',\n",
       " 'MEF2D-r',\n",
       " 'iAMP21',\n",
       " 'no_class',\n",
       " 't(12;21)',\n",
       " 't(12;21)-like',\n",
       " 't(1;19)'}"
      ]
     },
     "execution_count": 29,
     "metadata": {},
     "output_type": "execute_result"
    }
   ],
   "source": [
    "subs = set(testdf.DNAm_subtype_V2.value_counts().index).union(testdf.Subtype_updated.value_counts().index)\n",
    "subs"
   ]
  },
  {
   "cell_type": "code",
   "execution_count": 30,
   "metadata": {
    "ExecuteTime": {
     "end_time": "2023-03-24T12:37:37.930119Z",
     "start_time": "2023-03-24T12:37:37.914657Z"
    }
   },
   "outputs": [
    {
     "data": {
      "text/plain": [
       "['HeH',\n",
       " 'iAMP21',\n",
       " 't(12;21)',\n",
       " 't(12;21)-like',\n",
       " '11q23/MLL',\n",
       " 't(1;19)',\n",
       " 'MEF2D-r',\n",
       " 'Control']"
      ]
     },
     "execution_count": 30,
     "metadata": {},
     "output_type": "execute_result"
    }
   ],
   "source": [
    "subtypeord = joblib.load('sub_colors.pkl')\n",
    "subtypeord2 = subtypeord.copy()\n",
    "for s in subtypeord.keys():\n",
    "    if s not in subs:\n",
    "        del subtypeord2[s]\n",
    "\n",
    "subtypeorder = list(subtypeord2.keys())\n",
    "subtypeorder"
   ]
  },
  {
   "cell_type": "code",
   "execution_count": 31,
   "metadata": {
    "ExecuteTime": {
     "end_time": "2023-03-24T12:37:37.947408Z",
     "start_time": "2023-03-24T12:37:37.932422Z"
    }
   },
   "outputs": [],
   "source": [
    "from sklearn.metrics import confusion_matrix"
   ]
  },
  {
   "cell_type": "code",
   "execution_count": 32,
   "metadata": {
    "ExecuteTime": {
     "end_time": "2023-03-24T12:37:37.963360Z",
     "start_time": "2023-03-24T12:37:37.950050Z"
    }
   },
   "outputs": [
    {
     "data": {
      "text/html": [
       "<div>\n",
       "<style scoped>\n",
       "    .dataframe tbody tr th:only-of-type {\n",
       "        vertical-align: middle;\n",
       "    }\n",
       "\n",
       "    .dataframe tbody tr th {\n",
       "        vertical-align: top;\n",
       "    }\n",
       "\n",
       "    .dataframe thead th {\n",
       "        text-align: right;\n",
       "    }\n",
       "</style>\n",
       "<table border=\"1\" class=\"dataframe\">\n",
       "  <thead>\n",
       "    <tr style=\"text-align: right;\">\n",
       "      <th></th>\n",
       "      <th>correct_preds</th>\n",
       "      <th>id</th>\n",
       "    </tr>\n",
       "  </thead>\n",
       "  <tbody>\n",
       "    <tr>\n",
       "      <th>HeH</th>\n",
       "      <td>62</td>\n",
       "      <td>HeH</td>\n",
       "    </tr>\n",
       "    <tr>\n",
       "      <th>t(12;21)</th>\n",
       "      <td>44</td>\n",
       "      <td>t(12;21)</td>\n",
       "    </tr>\n",
       "    <tr>\n",
       "      <th>t(1;19)</th>\n",
       "      <td>5</td>\n",
       "      <td>t(1;19)</td>\n",
       "    </tr>\n",
       "    <tr>\n",
       "      <th>11q23/MLL</th>\n",
       "      <td>1</td>\n",
       "      <td>11q23/MLL</td>\n",
       "    </tr>\n",
       "  </tbody>\n",
       "</table>\n",
       "</div>"
      ],
      "text/plain": [
       "           correct_preds         id\n",
       "HeH                   62        HeH\n",
       "t(12;21)              44   t(12;21)\n",
       "t(1;19)                5    t(1;19)\n",
       "11q23/MLL              1  11q23/MLL"
      ]
     },
     "execution_count": 32,
     "metadata": {},
     "output_type": "execute_result"
    }
   ],
   "source": [
    "corrects = pd.DataFrame(testdf[testdf.Subtype_updated == testdf.DNAm_subtype_V2].Subtype_updated.value_counts())\n",
    "corrects.rename(columns = {'Subtype_updated': 'correct_preds'}, inplace = True)\n",
    "corrects['id'] = corrects.index\n",
    "corrects"
   ]
  },
  {
   "cell_type": "code",
   "execution_count": 33,
   "metadata": {
    "ExecuteTime": {
     "end_time": "2023-03-24T12:37:37.980072Z",
     "start_time": "2023-03-24T12:37:37.964029Z"
    }
   },
   "outputs": [
    {
     "data": {
      "text/html": [
       "<div>\n",
       "<style scoped>\n",
       "    .dataframe tbody tr th:only-of-type {\n",
       "        vertical-align: middle;\n",
       "    }\n",
       "\n",
       "    .dataframe tbody tr th {\n",
       "        vertical-align: top;\n",
       "    }\n",
       "\n",
       "    .dataframe thead th {\n",
       "        text-align: right;\n",
       "    }\n",
       "</style>\n",
       "<table border=\"1\" class=\"dataframe\">\n",
       "  <thead>\n",
       "    <tr style=\"text-align: right;\">\n",
       "      <th></th>\n",
       "      <th>all_counts</th>\n",
       "      <th>id</th>\n",
       "    </tr>\n",
       "  </thead>\n",
       "  <tbody>\n",
       "    <tr>\n",
       "      <th>HeH</th>\n",
       "      <td>73</td>\n",
       "      <td>HeH</td>\n",
       "    </tr>\n",
       "    <tr>\n",
       "      <th>t(12;21)</th>\n",
       "      <td>52</td>\n",
       "      <td>t(12;21)</td>\n",
       "    </tr>\n",
       "    <tr>\n",
       "      <th>t(1;19)</th>\n",
       "      <td>6</td>\n",
       "      <td>t(1;19)</td>\n",
       "    </tr>\n",
       "    <tr>\n",
       "      <th>11q23/MLL</th>\n",
       "      <td>2</td>\n",
       "      <td>11q23/MLL</td>\n",
       "    </tr>\n",
       "  </tbody>\n",
       "</table>\n",
       "</div>"
      ],
      "text/plain": [
       "           all_counts         id\n",
       "HeH                73        HeH\n",
       "t(12;21)           52   t(12;21)\n",
       "t(1;19)             6    t(1;19)\n",
       "11q23/MLL           2  11q23/MLL"
      ]
     },
     "execution_count": 33,
     "metadata": {},
     "output_type": "execute_result"
    }
   ],
   "source": [
    "allsubs =  pd.DataFrame(testdf.Subtype_updated.value_counts())\n",
    "allsubs.rename(columns = {'Subtype_updated': 'all_counts'}, inplace = True)\n",
    "allsubs['id'] = allsubs.index\n",
    "allsubs"
   ]
  },
  {
   "cell_type": "code",
   "execution_count": 34,
   "metadata": {
    "ExecuteTime": {
     "end_time": "2023-03-24T12:37:38.000680Z",
     "start_time": "2023-03-24T12:37:37.983091Z"
    }
   },
   "outputs": [
    {
     "data": {
      "text/html": [
       "<div>\n",
       "<style scoped>\n",
       "    .dataframe tbody tr th:only-of-type {\n",
       "        vertical-align: middle;\n",
       "    }\n",
       "\n",
       "    .dataframe tbody tr th {\n",
       "        vertical-align: top;\n",
       "    }\n",
       "\n",
       "    .dataframe thead th {\n",
       "        text-align: right;\n",
       "    }\n",
       "</style>\n",
       "<table border=\"1\" class=\"dataframe\">\n",
       "  <thead>\n",
       "    <tr style=\"text-align: right;\">\n",
       "      <th></th>\n",
       "      <th>all_counts</th>\n",
       "      <th>correct_preds</th>\n",
       "    </tr>\n",
       "    <tr>\n",
       "      <th>id</th>\n",
       "      <th></th>\n",
       "      <th></th>\n",
       "    </tr>\n",
       "  </thead>\n",
       "  <tbody>\n",
       "    <tr>\n",
       "      <th>HeH</th>\n",
       "      <td>73</td>\n",
       "      <td>62</td>\n",
       "    </tr>\n",
       "    <tr>\n",
       "      <th>t(12;21)</th>\n",
       "      <td>52</td>\n",
       "      <td>44</td>\n",
       "    </tr>\n",
       "    <tr>\n",
       "      <th>t(1;19)</th>\n",
       "      <td>6</td>\n",
       "      <td>5</td>\n",
       "    </tr>\n",
       "    <tr>\n",
       "      <th>11q23/MLL</th>\n",
       "      <td>2</td>\n",
       "      <td>1</td>\n",
       "    </tr>\n",
       "  </tbody>\n",
       "</table>\n",
       "</div>"
      ],
      "text/plain": [
       "           all_counts  correct_preds\n",
       "id                                  \n",
       "HeH                73             62\n",
       "t(12;21)           52             44\n",
       "t(1;19)             6              5\n",
       "11q23/MLL           2              1"
      ]
     },
     "execution_count": 34,
     "metadata": {},
     "output_type": "execute_result"
    }
   ],
   "source": [
    "finalcounts = allsubs.merge(corrects, how = 'outer')\n",
    "finalcounts.set_index('id', inplace = True)\n",
    "finalcounts"
   ]
  },
  {
   "cell_type": "code",
   "execution_count": 35,
   "metadata": {
    "ExecuteTime": {
     "end_time": "2023-03-24T12:37:38.016689Z",
     "start_time": "2023-03-24T12:37:38.002674Z"
    }
   },
   "outputs": [
    {
     "data": {
      "text/html": [
       "<div>\n",
       "<style scoped>\n",
       "    .dataframe tbody tr th:only-of-type {\n",
       "        vertical-align: middle;\n",
       "    }\n",
       "\n",
       "    .dataframe tbody tr th {\n",
       "        vertical-align: top;\n",
       "    }\n",
       "\n",
       "    .dataframe thead th {\n",
       "        text-align: right;\n",
       "    }\n",
       "</style>\n",
       "<table border=\"1\" class=\"dataframe\">\n",
       "  <thead>\n",
       "    <tr style=\"text-align: right;\">\n",
       "      <th></th>\n",
       "      <th>all_counts</th>\n",
       "      <th>correct_preds</th>\n",
       "    </tr>\n",
       "    <tr>\n",
       "      <th>id</th>\n",
       "      <th></th>\n",
       "      <th></th>\n",
       "    </tr>\n",
       "  </thead>\n",
       "  <tbody>\n",
       "    <tr>\n",
       "      <th>HeH</th>\n",
       "      <td>73.0</td>\n",
       "      <td>62.0</td>\n",
       "    </tr>\n",
       "    <tr>\n",
       "      <th>iAMP21</th>\n",
       "      <td>NaN</td>\n",
       "      <td>NaN</td>\n",
       "    </tr>\n",
       "    <tr>\n",
       "      <th>t(12;21)</th>\n",
       "      <td>52.0</td>\n",
       "      <td>44.0</td>\n",
       "    </tr>\n",
       "    <tr>\n",
       "      <th>t(12;21)-like</th>\n",
       "      <td>NaN</td>\n",
       "      <td>NaN</td>\n",
       "    </tr>\n",
       "    <tr>\n",
       "      <th>11q23/MLL</th>\n",
       "      <td>2.0</td>\n",
       "      <td>1.0</td>\n",
       "    </tr>\n",
       "    <tr>\n",
       "      <th>t(1;19)</th>\n",
       "      <td>6.0</td>\n",
       "      <td>5.0</td>\n",
       "    </tr>\n",
       "    <tr>\n",
       "      <th>MEF2D-r</th>\n",
       "      <td>NaN</td>\n",
       "      <td>NaN</td>\n",
       "    </tr>\n",
       "    <tr>\n",
       "      <th>Control</th>\n",
       "      <td>NaN</td>\n",
       "      <td>NaN</td>\n",
       "    </tr>\n",
       "  </tbody>\n",
       "</table>\n",
       "</div>"
      ],
      "text/plain": [
       "               all_counts  correct_preds\n",
       "id                                      \n",
       "HeH                  73.0           62.0\n",
       "iAMP21                NaN            NaN\n",
       "t(12;21)             52.0           44.0\n",
       "t(12;21)-like         NaN            NaN\n",
       "11q23/MLL             2.0            1.0\n",
       "t(1;19)               6.0            5.0\n",
       "MEF2D-r               NaN            NaN\n",
       "Control               NaN            NaN"
      ]
     },
     "execution_count": 35,
     "metadata": {},
     "output_type": "execute_result"
    }
   ],
   "source": [
    "finalcounts = finalcounts.reindex(subtypeorder)\n",
    "\n",
    "finalcounts"
   ]
  },
  {
   "cell_type": "code",
   "execution_count": 36,
   "metadata": {
    "ExecuteTime": {
     "end_time": "2023-03-24T12:37:38.031683Z",
     "start_time": "2023-03-24T12:37:38.018683Z"
    }
   },
   "outputs": [],
   "source": [
    "finalcounts['props'] =  round(finalcounts.correct_preds/finalcounts.all_counts,2) * 100"
   ]
  },
  {
   "cell_type": "code",
   "execution_count": 37,
   "metadata": {
    "ExecuteTime": {
     "end_time": "2023-03-24T12:37:38.047856Z",
     "start_time": "2023-03-24T12:37:38.033684Z"
    }
   },
   "outputs": [
    {
     "data": {
      "text/html": [
       "<div>\n",
       "<style scoped>\n",
       "    .dataframe tbody tr th:only-of-type {\n",
       "        vertical-align: middle;\n",
       "    }\n",
       "\n",
       "    .dataframe tbody tr th {\n",
       "        vertical-align: top;\n",
       "    }\n",
       "\n",
       "    .dataframe thead th {\n",
       "        text-align: right;\n",
       "    }\n",
       "</style>\n",
       "<table border=\"1\" class=\"dataframe\">\n",
       "  <thead>\n",
       "    <tr style=\"text-align: right;\">\n",
       "      <th></th>\n",
       "      <th>all_counts</th>\n",
       "      <th>correct_preds</th>\n",
       "      <th>props</th>\n",
       "    </tr>\n",
       "    <tr>\n",
       "      <th>id</th>\n",
       "      <th></th>\n",
       "      <th></th>\n",
       "      <th></th>\n",
       "    </tr>\n",
       "  </thead>\n",
       "  <tbody>\n",
       "    <tr>\n",
       "      <th>HeH</th>\n",
       "      <td>73.0</td>\n",
       "      <td>62.0</td>\n",
       "      <td>85.0</td>\n",
       "    </tr>\n",
       "    <tr>\n",
       "      <th>iAMP21</th>\n",
       "      <td>0.0</td>\n",
       "      <td>0.0</td>\n",
       "      <td>0.0</td>\n",
       "    </tr>\n",
       "    <tr>\n",
       "      <th>t(12;21)</th>\n",
       "      <td>52.0</td>\n",
       "      <td>44.0</td>\n",
       "      <td>85.0</td>\n",
       "    </tr>\n",
       "    <tr>\n",
       "      <th>t(12;21)-like</th>\n",
       "      <td>0.0</td>\n",
       "      <td>0.0</td>\n",
       "      <td>0.0</td>\n",
       "    </tr>\n",
       "    <tr>\n",
       "      <th>11q23/MLL</th>\n",
       "      <td>2.0</td>\n",
       "      <td>1.0</td>\n",
       "      <td>50.0</td>\n",
       "    </tr>\n",
       "    <tr>\n",
       "      <th>t(1;19)</th>\n",
       "      <td>6.0</td>\n",
       "      <td>5.0</td>\n",
       "      <td>83.0</td>\n",
       "    </tr>\n",
       "    <tr>\n",
       "      <th>MEF2D-r</th>\n",
       "      <td>0.0</td>\n",
       "      <td>0.0</td>\n",
       "      <td>0.0</td>\n",
       "    </tr>\n",
       "    <tr>\n",
       "      <th>Control</th>\n",
       "      <td>0.0</td>\n",
       "      <td>0.0</td>\n",
       "      <td>0.0</td>\n",
       "    </tr>\n",
       "  </tbody>\n",
       "</table>\n",
       "</div>"
      ],
      "text/plain": [
       "               all_counts  correct_preds  props\n",
       "id                                             \n",
       "HeH                  73.0           62.0   85.0\n",
       "iAMP21                0.0            0.0    0.0\n",
       "t(12;21)             52.0           44.0   85.0\n",
       "t(12;21)-like         0.0            0.0    0.0\n",
       "11q23/MLL             2.0            1.0   50.0\n",
       "t(1;19)               6.0            5.0   83.0\n",
       "MEF2D-r               0.0            0.0    0.0\n",
       "Control               0.0            0.0    0.0"
      ]
     },
     "execution_count": 37,
     "metadata": {},
     "output_type": "execute_result"
    }
   ],
   "source": [
    "finalcounts.fillna(0, inplace = True)\n",
    "finalcounts"
   ]
  },
  {
   "cell_type": "code",
   "execution_count": 38,
   "metadata": {
    "ExecuteTime": {
     "end_time": "2023-03-24T12:37:38.063144Z",
     "start_time": "2023-03-24T12:37:38.049683Z"
    }
   },
   "outputs": [],
   "source": [
    "newnames = ['HeH',\n",
    " 'iAMP21',\n",
    " 'ETV6::RUNX1',\n",
    " 'ETV6::RUNX1-like',\n",
    " 'KMT2A-r',\n",
    " 'TCF3::PBX1',\n",
    " 'MEF2D-r',\n",
    " 'Control']"
   ]
  },
  {
   "cell_type": "code",
   "execution_count": 39,
   "metadata": {
    "ExecuteTime": {
     "end_time": "2023-03-24T12:37:38.081199Z",
     "start_time": "2023-03-24T12:37:38.065137Z"
    }
   },
   "outputs": [],
   "source": [
    "finalcounts['Subtype_renamed'] =  newnames"
   ]
  },
  {
   "cell_type": "code",
   "execution_count": 40,
   "metadata": {
    "ExecuteTime": {
     "end_time": "2023-03-24T12:37:38.097311Z",
     "start_time": "2023-03-24T12:37:38.083190Z"
    }
   },
   "outputs": [
    {
     "data": {
      "text/html": [
       "<div>\n",
       "<style scoped>\n",
       "    .dataframe tbody tr th:only-of-type {\n",
       "        vertical-align: middle;\n",
       "    }\n",
       "\n",
       "    .dataframe tbody tr th {\n",
       "        vertical-align: top;\n",
       "    }\n",
       "\n",
       "    .dataframe thead th {\n",
       "        text-align: right;\n",
       "    }\n",
       "</style>\n",
       "<table border=\"1\" class=\"dataframe\">\n",
       "  <thead>\n",
       "    <tr style=\"text-align: right;\">\n",
       "      <th></th>\n",
       "      <th>all_counts</th>\n",
       "      <th>correct_preds</th>\n",
       "      <th>props</th>\n",
       "      <th>Subtype_renamed</th>\n",
       "    </tr>\n",
       "    <tr>\n",
       "      <th>id</th>\n",
       "      <th></th>\n",
       "      <th></th>\n",
       "      <th></th>\n",
       "      <th></th>\n",
       "    </tr>\n",
       "  </thead>\n",
       "  <tbody>\n",
       "    <tr>\n",
       "      <th>HeH</th>\n",
       "      <td>73.0</td>\n",
       "      <td>62.0</td>\n",
       "      <td>85.0</td>\n",
       "      <td>HeH</td>\n",
       "    </tr>\n",
       "    <tr>\n",
       "      <th>iAMP21</th>\n",
       "      <td>0.0</td>\n",
       "      <td>0.0</td>\n",
       "      <td>0.0</td>\n",
       "      <td>iAMP21</td>\n",
       "    </tr>\n",
       "    <tr>\n",
       "      <th>t(12;21)</th>\n",
       "      <td>52.0</td>\n",
       "      <td>44.0</td>\n",
       "      <td>85.0</td>\n",
       "      <td>ETV6::RUNX1</td>\n",
       "    </tr>\n",
       "    <tr>\n",
       "      <th>t(12;21)-like</th>\n",
       "      <td>0.0</td>\n",
       "      <td>0.0</td>\n",
       "      <td>0.0</td>\n",
       "      <td>ETV6::RUNX1-like</td>\n",
       "    </tr>\n",
       "    <tr>\n",
       "      <th>11q23/MLL</th>\n",
       "      <td>2.0</td>\n",
       "      <td>1.0</td>\n",
       "      <td>50.0</td>\n",
       "      <td>KMT2A-r</td>\n",
       "    </tr>\n",
       "    <tr>\n",
       "      <th>t(1;19)</th>\n",
       "      <td>6.0</td>\n",
       "      <td>5.0</td>\n",
       "      <td>83.0</td>\n",
       "      <td>TCF3::PBX1</td>\n",
       "    </tr>\n",
       "    <tr>\n",
       "      <th>MEF2D-r</th>\n",
       "      <td>0.0</td>\n",
       "      <td>0.0</td>\n",
       "      <td>0.0</td>\n",
       "      <td>MEF2D-r</td>\n",
       "    </tr>\n",
       "    <tr>\n",
       "      <th>Control</th>\n",
       "      <td>0.0</td>\n",
       "      <td>0.0</td>\n",
       "      <td>0.0</td>\n",
       "      <td>Control</td>\n",
       "    </tr>\n",
       "  </tbody>\n",
       "</table>\n",
       "</div>"
      ],
      "text/plain": [
       "               all_counts  correct_preds  props   Subtype_renamed\n",
       "id                                                               \n",
       "HeH                  73.0           62.0   85.0               HeH\n",
       "iAMP21                0.0            0.0    0.0            iAMP21\n",
       "t(12;21)             52.0           44.0   85.0       ETV6::RUNX1\n",
       "t(12;21)-like         0.0            0.0    0.0  ETV6::RUNX1-like\n",
       "11q23/MLL             2.0            1.0   50.0           KMT2A-r\n",
       "t(1;19)               6.0            5.0   83.0        TCF3::PBX1\n",
       "MEF2D-r               0.0            0.0    0.0           MEF2D-r\n",
       "Control               0.0            0.0    0.0           Control"
      ]
     },
     "execution_count": 40,
     "metadata": {},
     "output_type": "execute_result"
    }
   ],
   "source": [
    "finalcounts"
   ]
  },
  {
   "cell_type": "code",
   "execution_count": 41,
   "metadata": {
    "ExecuteTime": {
     "end_time": "2023-03-24T12:37:38.111849Z",
     "start_time": "2023-03-24T12:37:38.099366Z"
    }
   },
   "outputs": [
    {
     "data": {
      "text/plain": [
       "['HeH: 85%',\n",
       " 'iAMP21: 0%',\n",
       " 'ETV6::RUNX1: 85%',\n",
       " 'ETV6::RUNX1-like: 0%',\n",
       " 'KMT2A-r: 50%',\n",
       " 'TCF3::PBX1: 83%',\n",
       " 'MEF2D-r: 0%',\n",
       " 'Control: 0%',\n",
       " 'no class']"
      ]
     },
     "execution_count": 41,
     "metadata": {},
     "output_type": "execute_result"
    }
   ],
   "source": [
    "ylabels = [l + ': ' + str(int(pr)) + '%' for l, pr in zip(finalcounts.Subtype_renamed, finalcounts.props)]\n",
    "ylabels.append('no class')\n",
    "ylabels"
   ]
  },
  {
   "cell_type": "code",
   "execution_count": 42,
   "metadata": {
    "ExecuteTime": {
     "end_time": "2023-03-24T12:37:38.127827Z",
     "start_time": "2023-03-24T12:37:38.114107Z"
    }
   },
   "outputs": [
    {
     "data": {
      "text/plain": [
       "112"
      ]
     },
     "execution_count": 42,
     "metadata": {},
     "output_type": "execute_result"
    }
   ],
   "source": [
    "sum(testdf.Subtype_updated == testdf.DNAm_subtype_V2)"
   ]
  },
  {
   "cell_type": "code",
   "execution_count": 43,
   "metadata": {
    "ExecuteTime": {
     "end_time": "2023-03-24T12:37:38.143158Z",
     "start_time": "2023-03-24T12:37:38.129822Z"
    }
   },
   "outputs": [
    {
     "data": {
      "text/plain": [
       "84.21052631578947"
      ]
     },
     "execution_count": 43,
     "metadata": {},
     "output_type": "execute_result"
    }
   ],
   "source": [
    "(sum(testdf.Subtype_updated == testdf.DNAm_subtype_V2)/testdf.shape[0])*100"
   ]
  },
  {
   "cell_type": "code",
   "execution_count": 44,
   "metadata": {
    "ExecuteTime": {
     "end_time": "2023-03-24T12:37:38.600127Z",
     "start_time": "2023-03-24T12:37:38.145153Z"
    },
    "scrolled": true
   },
   "outputs": [
    {
     "data": {
      "image/png": "[encoded data removed]",
      "text/plain": [
       "<Figure size 1440x1440 with 1 Axes>"
      ]
     },
     "metadata": {
      "needs_background": "light"
     },
     "output_type": "display_data"
    }
   ],
   "source": [
    "classes = subtypeorder.copy()\n",
    "classes.append('no_class')\n",
    "cm = confusion_matrix(testdf.Subtype_updated, testdf.DNAm_subtype_V2, labels = classes)\n",
    "cm_norm = confusion_matrix(testdf.Subtype_updated, testdf.DNAm_subtype_V2, labels = classes, normalize = 'true')\n",
    "labels = newnames\n",
    "labels.append('no class')\n",
    "hor, ver = cm.shape\n",
    "xticks = [float(h)+0.5 for h in list(range(hor))]\n",
    "yticks = [float(v)+0.5 for v in list(range(ver))]\n",
    "plt.figure(figsize = (20,20))\n",
    "sns.heatmap(cm_norm, annot=cm, linewidths=.5, square = True, cmap = 'Purples',  annot_kws = {'fontsize' : 50}, fmt = 'g', cbar = False)\n",
    "plt.ylabel('True ALL subtype', fontsize = 20)\n",
    "plt.xlabel('DNAm subtype', fontsize = 20)\n",
    "plt.xticks(xticks, labels[:hor], rotation = 45, fontsize = 20, ha='right')\n",
    "plt.yticks(yticks, ylabels, rotation = 0, fontsize = 20)\n",
    "plt.tight_layout()\n",
    "\n",
    "plt.show()"
   ]
  },
  {
   "cell_type": "code",
   "execution_count": null,
   "metadata": {},
   "outputs": [],
   "source": []
  }
 ],
 "metadata": {
  "kernelspec": {
   "display_name": "visual",
   "language": "python",
   "name": "visualenv"
  },
  "language_info": {
   "codemirror_mode": {
    "name": "ipython",
    "version": 3
   },
   "file_extension": ".py",
   "mimetype": "text/x-python",
   "name": "python",
   "nbconvert_exporter": "python",
   "pygments_lexer": "ipython3",
   "version": "3.8.5"
  }
 },
 "nbformat": 4,
 "nbformat_minor": 4
}
