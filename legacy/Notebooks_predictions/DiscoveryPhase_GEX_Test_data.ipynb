{
 "cells": [
  {
   "cell_type": "markdown",
   "metadata": {},
   "source": [
    "# Subtype prediction on the GSE16150 GEX dataset from 19 pediatric B-cell ALL samples ([Diedrich et al., 2021](https://doi.org/10.1038/s41375-021-01209-1))"
   ]
  },
  {
   "cell_type": "code",
   "execution_count": 1,
   "metadata": {
    "ExecuteTime": {
     "end_time": "2023-03-22T13:05:52.206668Z",
     "start_time": "2023-03-22T13:05:51.006574Z"
    }
   },
   "outputs": [],
   "source": [
    "import pandas as pd\n",
    "import numpy as np\n",
    "import matplotlib\n",
    "import matplotlib.pyplot as plt\n",
    "#plt.style.use('ggplot')\n",
    "import seaborn as sns\n",
    "import joblib\n",
    "import sys\n",
    "sys.path.append('../Train_Predict_modules/')\n",
    "from NSCmodelsV2 import *\n",
    "plt.rcParams['svg.fonttype'] = 'none'"
   ]
  },
  {
   "cell_type": "code",
   "execution_count": 2,
   "metadata": {
    "ExecuteTime": {
     "end_time": "2023-03-22T13:05:52.239622Z",
     "start_time": "2023-03-22T13:05:52.208669Z"
    }
   },
   "outputs": [],
   "source": [
    "path = '../test_data/GEX/'\n",
    "testX =  joblib.load(path + 'gex_final.pkl')\n",
    "testpheno = pd.read_csv(path + 'phenodf.csv', index_col = 'Sample SJ ID')"
   ]
  },
  {
   "cell_type": "code",
   "execution_count": 3,
   "metadata": {
    "ExecuteTime": {
     "end_time": "2023-03-22T13:05:52.255622Z",
     "start_time": "2023-03-22T13:05:52.242621Z"
    }
   },
   "outputs": [
    {
     "data": {
      "text/plain": [
       "(19, 19774)"
      ]
     },
     "execution_count": 3,
     "metadata": {},
     "output_type": "execute_result"
    }
   ],
   "source": [
    "testX.shape"
   ]
  },
  {
   "cell_type": "code",
   "execution_count": 4,
   "metadata": {
    "ExecuteTime": {
     "end_time": "2023-03-22T13:05:52.270621Z",
     "start_time": "2023-03-22T13:05:52.257638Z"
    }
   },
   "outputs": [],
   "source": [
    "pathsep = '../ALLIUM_signatures/'"
   ]
  },
  {
   "cell_type": "code",
   "execution_count": 5,
   "metadata": {
    "ExecuteTime": {
     "end_time": "2023-03-22T13:05:52.286623Z",
     "start_time": "2023-03-22T13:05:52.271621Z"
    }
   },
   "outputs": [],
   "source": [
    "unique_genedf = pd.read_csv(pathsep + 'GenesSelectedNSCv2.csv')"
   ]
  },
  {
   "cell_type": "code",
   "execution_count": 6,
   "metadata": {
    "ExecuteTime": {
     "end_time": "2023-03-22T13:05:52.302623Z",
     "start_time": "2023-03-22T13:05:52.288623Z"
    }
   },
   "outputs": [
    {
     "data": {
      "text/html": [
       "<div>\n",
       "<style scoped>\n",
       "    .dataframe tbody tr th:only-of-type {\n",
       "        vertical-align: middle;\n",
       "    }\n",
       "\n",
       "    .dataframe tbody tr th {\n",
       "        vertical-align: top;\n",
       "    }\n",
       "\n",
       "    .dataframe thead th {\n",
       "        text-align: right;\n",
       "    }\n",
       "</style>\n",
       "<table border=\"1\" class=\"dataframe\">\n",
       "  <thead>\n",
       "    <tr style=\"text-align: right;\">\n",
       "      <th></th>\n",
       "      <th>Subtype</th>\n",
       "      <th>Gene ID</th>\n",
       "      <th>Gene</th>\n",
       "      <th>CHR</th>\n",
       "    </tr>\n",
       "  </thead>\n",
       "  <tbody>\n",
       "    <tr>\n",
       "      <th>0</th>\n",
       "      <td>aneuploidy</td>\n",
       "      <td>ENSG00000074211</td>\n",
       "      <td>PPP2R2C</td>\n",
       "      <td>4</td>\n",
       "    </tr>\n",
       "    <tr>\n",
       "      <th>1</th>\n",
       "      <td>aneuploidy</td>\n",
       "      <td>ENSG00000102048</td>\n",
       "      <td>ASB9</td>\n",
       "      <td>X</td>\n",
       "    </tr>\n",
       "    <tr>\n",
       "      <th>2</th>\n",
       "      <td>aneuploidy</td>\n",
       "      <td>ENSG00000104177</td>\n",
       "      <td>MYEF2</td>\n",
       "      <td>15</td>\n",
       "    </tr>\n",
       "    <tr>\n",
       "      <th>3</th>\n",
       "      <td>aneuploidy</td>\n",
       "      <td>ENSG00000114805</td>\n",
       "      <td>PLCH1</td>\n",
       "      <td>3</td>\n",
       "    </tr>\n",
       "    <tr>\n",
       "      <th>4</th>\n",
       "      <td>aneuploidy</td>\n",
       "      <td>ENSG00000119535</td>\n",
       "      <td>CSF3R</td>\n",
       "      <td>1</td>\n",
       "    </tr>\n",
       "    <tr>\n",
       "      <th>...</th>\n",
       "      <td>...</td>\n",
       "      <td>...</td>\n",
       "      <td>...</td>\n",
       "      <td>...</td>\n",
       "    </tr>\n",
       "    <tr>\n",
       "      <th>420</th>\n",
       "      <td>Control</td>\n",
       "      <td>ENSG00000176890</td>\n",
       "      <td>TYMS</td>\n",
       "      <td>18</td>\n",
       "    </tr>\n",
       "    <tr>\n",
       "      <th>421</th>\n",
       "      <td>Control</td>\n",
       "      <td>ENSG00000183856</td>\n",
       "      <td>IQGAP3</td>\n",
       "      <td>1</td>\n",
       "    </tr>\n",
       "    <tr>\n",
       "      <th>422</th>\n",
       "      <td>Control</td>\n",
       "      <td>ENSG00000266074</td>\n",
       "      <td>BAHCC1</td>\n",
       "      <td>17</td>\n",
       "    </tr>\n",
       "    <tr>\n",
       "      <th>423</th>\n",
       "      <td>Control</td>\n",
       "      <td>ENSG00000275832</td>\n",
       "      <td>ARHGAP23</td>\n",
       "      <td>17</td>\n",
       "    </tr>\n",
       "    <tr>\n",
       "      <th>424</th>\n",
       "      <td>Control</td>\n",
       "      <td>ENSG00000276043</td>\n",
       "      <td>UHRF1</td>\n",
       "      <td>19</td>\n",
       "    </tr>\n",
       "  </tbody>\n",
       "</table>\n",
       "<p>425 rows × 4 columns</p>\n",
       "</div>"
      ],
      "text/plain": [
       "        Subtype          Gene ID      Gene CHR\n",
       "0    aneuploidy  ENSG00000074211   PPP2R2C   4\n",
       "1    aneuploidy  ENSG00000102048      ASB9   X\n",
       "2    aneuploidy  ENSG00000104177     MYEF2  15\n",
       "3    aneuploidy  ENSG00000114805     PLCH1   3\n",
       "4    aneuploidy  ENSG00000119535     CSF3R   1\n",
       "..          ...              ...       ...  ..\n",
       "420     Control  ENSG00000176890      TYMS  18\n",
       "421     Control  ENSG00000183856    IQGAP3   1\n",
       "422     Control  ENSG00000266074    BAHCC1  17\n",
       "423     Control  ENSG00000275832  ARHGAP23  17\n",
       "424     Control  ENSG00000276043     UHRF1  19\n",
       "\n",
       "[425 rows x 4 columns]"
      ]
     },
     "execution_count": 6,
     "metadata": {},
     "output_type": "execute_result"
    }
   ],
   "source": [
    "unique_genedf"
   ]
  },
  {
   "cell_type": "code",
   "execution_count": 7,
   "metadata": {
    "ExecuteTime": {
     "end_time": "2023-03-22T13:05:52.317622Z",
     "start_time": "2023-03-22T13:05:52.303622Z"
    }
   },
   "outputs": [
    {
     "data": {
      "text/plain": [
       "ETV6-group                   40\n",
       "low HeH                      36\n",
       "DUX4-r                       35\n",
       "11q23/MLL                    32\n",
       "ZNF384-r                     30\n",
       "t(12;21)_vs_t(12;21)-like    30\n",
       "aneuploidy                   30\n",
       "PAX5 p.Pro80Arg              29\n",
       "ph-group                     27\n",
       "MEF2D-r                      23\n",
       "Control                      22\n",
       "iAMP21                       19\n",
       "t(9;22)_vs_ph-like           18\n",
       "PAX5alt                      15\n",
       "HeH                          13\n",
       "NUTM1-r                      10\n",
       "t(1;19)                       9\n",
       "T-ALL                         7\n",
       "Name: Subtype, dtype: int64"
      ]
     },
     "execution_count": 7,
     "metadata": {},
     "output_type": "execute_result"
    }
   ],
   "source": [
    "unique_genedf.Subtype.value_counts()"
   ]
  },
  {
   "cell_type": "code",
   "execution_count": 8,
   "metadata": {
    "ExecuteTime": {
     "end_time": "2023-03-22T13:05:52.333622Z",
     "start_time": "2023-03-22T13:05:52.319622Z"
    }
   },
   "outputs": [
    {
     "data": {
      "text/plain": [
       "ETV6-group                   40\n",
       "low HeH                      36\n",
       "DUX4-r                       35\n",
       "11q23/MLL                    32\n",
       "ZNF384-r                     30\n",
       "t(12;21)_vs_t(12;21)-like    30\n",
       "aneuploidy                   30\n",
       "PAX5 p.Pro80Arg              29\n",
       "ph-group                     27\n",
       "MEF2D-r                      23\n",
       "Control                      22\n",
       "iAMP21                       19\n",
       "t(9;22)_vs_ph-like           18\n",
       "PAX5alt                      15\n",
       "HeH                          13\n",
       "NUTM1-r                      10\n",
       "t(1;19)                       9\n",
       "T-ALL                         7\n",
       "Name: Subtype, dtype: int64"
      ]
     },
     "execution_count": 8,
     "metadata": {},
     "output_type": "execute_result"
    }
   ],
   "source": [
    "finalsignatures = unique_genedf.copy()\n",
    "finalsignatures.Subtype.value_counts(dropna = False)"
   ]
  },
  {
   "cell_type": "code",
   "execution_count": 9,
   "metadata": {
    "ExecuteTime": {
     "end_time": "2023-03-22T13:05:52.349622Z",
     "start_time": "2023-03-22T13:05:52.335622Z"
    }
   },
   "outputs": [
    {
     "data": {
      "text/plain": [
       "(425, 4)"
      ]
     },
     "execution_count": 9,
     "metadata": {},
     "output_type": "execute_result"
    }
   ],
   "source": [
    "finalsignatures.shape"
   ]
  },
  {
   "cell_type": "code",
   "execution_count": 10,
   "metadata": {
    "ExecuteTime": {
     "end_time": "2023-03-22T13:05:52.365622Z",
     "start_time": "2023-03-22T13:05:52.351622Z"
    }
   },
   "outputs": [],
   "source": [
    "modelpath = '../ALLIUM_models/ALLIUM_GEX/'"
   ]
  },
  {
   "cell_type": "code",
   "execution_count": 11,
   "metadata": {
    "ExecuteTime": {
     "end_time": "2023-03-22T13:05:52.381637Z",
     "start_time": "2023-03-22T13:05:52.366623Z"
    }
   },
   "outputs": [],
   "source": [
    "model = joblib.load(modelpath + '/model_NSCv2_gex.pkl')"
   ]
  },
  {
   "cell_type": "code",
   "execution_count": 12,
   "metadata": {
    "ExecuteTime": {
     "end_time": "2023-03-22T13:05:52.397622Z",
     "start_time": "2023-03-22T13:05:52.382623Z"
    }
   },
   "outputs": [
    {
     "data": {
      "text/plain": [
       "{'aneuploidy': NearestCentroid(),\n",
       " 'Overall_aneuploidy': NearestCentroid(),\n",
       " 'ph-group': NearestCentroid(),\n",
       " 't(9;22)_vs_ph-like': NearestCentroid(),\n",
       " 'ETV6-group': NearestCentroid(),\n",
       " 't(12;21)_vs_t(12;21)-like': NearestCentroid(),\n",
       " 'T-ALL': NearestCentroid(),\n",
       " 'DUX4-r': NearestCentroid(),\n",
       " 'PAX5alt': NearestCentroid(),\n",
       " '11q23/MLL': NearestCentroid(),\n",
       " 'ZNF384-r': NearestCentroid(),\n",
       " 't(1;19)': NearestCentroid(),\n",
       " 'MEF2D-r': NearestCentroid(),\n",
       " 'PAX5 p.Pro80Arg': NearestCentroid(),\n",
       " 'NUTM1-r': NearestCentroid(),\n",
       " 'Control': NearestCentroid()}"
      ]
     },
     "execution_count": 12,
     "metadata": {},
     "output_type": "execute_result"
    }
   ],
   "source": [
    "model"
   ]
  },
  {
   "cell_type": "markdown",
   "metadata": {},
   "source": [
    "# Predict the external validation cohort"
   ]
  },
  {
   "cell_type": "code",
   "execution_count": 13,
   "metadata": {
    "ExecuteTime": {
     "end_time": "2023-03-22T13:05:52.413623Z",
     "start_time": "2023-03-22T13:05:52.398623Z"
    }
   },
   "outputs": [
    {
     "data": {
      "text/plain": [
       "19"
      ]
     },
     "execution_count": 13,
     "metadata": {},
     "output_type": "execute_result"
    }
   ],
   "source": [
    "sum(testX.index == testpheno.index)"
   ]
  },
  {
   "cell_type": "code",
   "execution_count": 14,
   "metadata": {
    "ExecuteTime": {
     "end_time": "2023-03-22T13:05:52.429623Z",
     "start_time": "2023-03-22T13:05:52.414623Z"
    },
    "scrolled": true
   },
   "outputs": [
    {
     "data": {
      "text/html": [
       "<div>\n",
       "<style scoped>\n",
       "    .dataframe tbody tr th:only-of-type {\n",
       "        vertical-align: middle;\n",
       "    }\n",
       "\n",
       "    .dataframe tbody tr th {\n",
       "        vertical-align: top;\n",
       "    }\n",
       "\n",
       "    .dataframe thead th {\n",
       "        text-align: right;\n",
       "    }\n",
       "</style>\n",
       "<table border=\"1\" class=\"dataframe\">\n",
       "  <thead>\n",
       "    <tr style=\"text-align: right;\">\n",
       "      <th></th>\n",
       "      <th>Subtype_name</th>\n",
       "      <th>Sex</th>\n",
       "      <th>Age</th>\n",
       "      <th>Cohort</th>\n",
       "      <th>Subtypes</th>\n",
       "    </tr>\n",
       "    <tr>\n",
       "      <th>Sample SJ ID</th>\n",
       "      <th></th>\n",
       "      <th></th>\n",
       "      <th></th>\n",
       "      <th></th>\n",
       "      <th></th>\n",
       "    </tr>\n",
       "  </thead>\n",
       "  <tbody>\n",
       "    <tr>\n",
       "      <th>SJHBBBM4X52</th>\n",
       "      <td>ETV6-RUNX1_1</td>\n",
       "      <td>Male</td>\n",
       "      <td>4.57</td>\n",
       "      <td>Total XVI</td>\n",
       "      <td>ETV6-RUNX1</td>\n",
       "    </tr>\n",
       "    <tr>\n",
       "      <th>SJHBBBM4JQZ</th>\n",
       "      <td>ETV6-RUNX1_2</td>\n",
       "      <td>Male</td>\n",
       "      <td>3.18</td>\n",
       "      <td>Total XVI</td>\n",
       "      <td>ETV6-RUNX1</td>\n",
       "    </tr>\n",
       "    <tr>\n",
       "      <th>SJHBBBM5SGJ</th>\n",
       "      <td>ETV6-RUNX1_3</td>\n",
       "      <td>Male</td>\n",
       "      <td>6.81</td>\n",
       "      <td>Total XVI</td>\n",
       "      <td>ETV6-RUNX1</td>\n",
       "    </tr>\n",
       "    <tr>\n",
       "      <th>SJHBBBM5TXY</th>\n",
       "      <td>ETV6-RUNX1_4</td>\n",
       "      <td>Female</td>\n",
       "      <td>4.82</td>\n",
       "      <td>Total XVI</td>\n",
       "      <td>ETV6-RUNX1</td>\n",
       "    </tr>\n",
       "    <tr>\n",
       "      <th>SJHBBBM2GV5</th>\n",
       "      <td>ETV6-RUNX1_5</td>\n",
       "      <td>Male</td>\n",
       "      <td>5.15</td>\n",
       "      <td>Total XVI</td>\n",
       "      <td>ETV6-RUNX1</td>\n",
       "    </tr>\n",
       "    <tr>\n",
       "      <th>SJHBBBM39BT</th>\n",
       "      <td>ETV6-RUNX1_6</td>\n",
       "      <td>Female</td>\n",
       "      <td>3.03</td>\n",
       "      <td>Total XVI</td>\n",
       "      <td>ETV6-RUNX1</td>\n",
       "    </tr>\n",
       "    <tr>\n",
       "      <th>SJHBBBM67H6</th>\n",
       "      <td>Hyperdiploid_1</td>\n",
       "      <td>Male</td>\n",
       "      <td>14.59</td>\n",
       "      <td>Total XVI</td>\n",
       "      <td>Hyperdiploid</td>\n",
       "    </tr>\n",
       "    <tr>\n",
       "      <th>SJHBBBM2BBR</th>\n",
       "      <td>Hyperdiploid_2</td>\n",
       "      <td>Male</td>\n",
       "      <td>4.17</td>\n",
       "      <td>Total XVI</td>\n",
       "      <td>Hyperdiploid</td>\n",
       "    </tr>\n",
       "    <tr>\n",
       "      <th>SJHBBBN9RBJ</th>\n",
       "      <td>Hyperdiploid_3</td>\n",
       "      <td>Male</td>\n",
       "      <td>8.32</td>\n",
       "      <td>Total XVI</td>\n",
       "      <td>Hyperdiploid</td>\n",
       "    </tr>\n",
       "    <tr>\n",
       "      <th>SJHBBBM4PX3</th>\n",
       "      <td>Hyperdiploid_4</td>\n",
       "      <td>Male</td>\n",
       "      <td>2.03</td>\n",
       "      <td>Total XVI</td>\n",
       "      <td>Hyperdiploid</td>\n",
       "    </tr>\n",
       "    <tr>\n",
       "      <th>SJHBBBN9RDM</th>\n",
       "      <td>Hyperdiploid_5</td>\n",
       "      <td>Female</td>\n",
       "      <td>6.00</td>\n",
       "      <td>Total XVI</td>\n",
       "      <td>Hyperdiploid</td>\n",
       "    </tr>\n",
       "    <tr>\n",
       "      <th>SJHBBBN9R9H</th>\n",
       "      <td>Hyperdiploid_6</td>\n",
       "      <td>Male</td>\n",
       "      <td>2.25</td>\n",
       "      <td>Total XVI</td>\n",
       "      <td>Hyperdiploid</td>\n",
       "    </tr>\n",
       "    <tr>\n",
       "      <th>SJHBBBM588V</th>\n",
       "      <td>Hyperdiploid_7</td>\n",
       "      <td>Female</td>\n",
       "      <td>3.67</td>\n",
       "      <td>Total XVI</td>\n",
       "      <td>Hyperdiploid</td>\n",
       "    </tr>\n",
       "    <tr>\n",
       "      <th>SJHBBBN9RFN</th>\n",
       "      <td>Hyperdiploid_8</td>\n",
       "      <td>Male</td>\n",
       "      <td>2.17</td>\n",
       "      <td>Total XVI</td>\n",
       "      <td>Hyperdiploid</td>\n",
       "    </tr>\n",
       "    <tr>\n",
       "      <th>SJHBBBM55F5</th>\n",
       "      <td>Hyperdiploid_9</td>\n",
       "      <td>Male</td>\n",
       "      <td>10.04</td>\n",
       "      <td>Total XVI</td>\n",
       "      <td>Hyperdiploid</td>\n",
       "    </tr>\n",
       "    <tr>\n",
       "      <th>SJHBBBM5GW9</th>\n",
       "      <td>Hyperdiploid_10</td>\n",
       "      <td>Female</td>\n",
       "      <td>3.10</td>\n",
       "      <td>Total XVI</td>\n",
       "      <td>Hyperdiploid</td>\n",
       "    </tr>\n",
       "    <tr>\n",
       "      <th>SJHBBBM5PY5</th>\n",
       "      <td>Hyperdiploid_11</td>\n",
       "      <td>Female</td>\n",
       "      <td>2.65</td>\n",
       "      <td>Total XVI</td>\n",
       "      <td>Hyperdiploid</td>\n",
       "    </tr>\n",
       "    <tr>\n",
       "      <th>SJHBBBM52XR</th>\n",
       "      <td>DUX4-ERG_1</td>\n",
       "      <td>Female</td>\n",
       "      <td>14.05</td>\n",
       "      <td>Total XVI</td>\n",
       "      <td>DUX4-ERG</td>\n",
       "    </tr>\n",
       "    <tr>\n",
       "      <th>SJHBBBM5YWS</th>\n",
       "      <td>DUX4-ERG_2</td>\n",
       "      <td>Male</td>\n",
       "      <td>9.78</td>\n",
       "      <td>Total XVI</td>\n",
       "      <td>DUX4-ERG</td>\n",
       "    </tr>\n",
       "  </tbody>\n",
       "</table>\n",
       "</div>"
      ],
      "text/plain": [
       "                 Subtype_name     Sex    Age     Cohort      Subtypes\n",
       "Sample SJ ID                                                         \n",
       "SJHBBBM4X52      ETV6-RUNX1_1    Male   4.57  Total XVI    ETV6-RUNX1\n",
       "SJHBBBM4JQZ      ETV6-RUNX1_2    Male   3.18  Total XVI    ETV6-RUNX1\n",
       "SJHBBBM5SGJ      ETV6-RUNX1_3    Male   6.81  Total XVI    ETV6-RUNX1\n",
       "SJHBBBM5TXY      ETV6-RUNX1_4  Female   4.82  Total XVI    ETV6-RUNX1\n",
       "SJHBBBM2GV5      ETV6-RUNX1_5    Male   5.15  Total XVI    ETV6-RUNX1\n",
       "SJHBBBM39BT      ETV6-RUNX1_6  Female   3.03  Total XVI    ETV6-RUNX1\n",
       "SJHBBBM67H6    Hyperdiploid_1    Male  14.59  Total XVI  Hyperdiploid\n",
       "SJHBBBM2BBR    Hyperdiploid_2    Male   4.17  Total XVI  Hyperdiploid\n",
       "SJHBBBN9RBJ    Hyperdiploid_3    Male   8.32  Total XVI  Hyperdiploid\n",
       "SJHBBBM4PX3    Hyperdiploid_4    Male   2.03  Total XVI  Hyperdiploid\n",
       "SJHBBBN9RDM    Hyperdiploid_5  Female   6.00  Total XVI  Hyperdiploid\n",
       "SJHBBBN9R9H    Hyperdiploid_6    Male   2.25  Total XVI  Hyperdiploid\n",
       "SJHBBBM588V    Hyperdiploid_7  Female   3.67  Total XVI  Hyperdiploid\n",
       "SJHBBBN9RFN    Hyperdiploid_8    Male   2.17  Total XVI  Hyperdiploid\n",
       "SJHBBBM55F5    Hyperdiploid_9    Male  10.04  Total XVI  Hyperdiploid\n",
       "SJHBBBM5GW9   Hyperdiploid_10  Female   3.10  Total XVI  Hyperdiploid\n",
       "SJHBBBM5PY5   Hyperdiploid_11  Female   2.65  Total XVI  Hyperdiploid\n",
       "SJHBBBM52XR        DUX4-ERG_1  Female  14.05  Total XVI      DUX4-ERG\n",
       "SJHBBBM5YWS        DUX4-ERG_2    Male   9.78  Total XVI      DUX4-ERG"
      ]
     },
     "execution_count": 14,
     "metadata": {},
     "output_type": "execute_result"
    }
   ],
   "source": [
    "testpheno['Subtypes'] = [name.split('_')[0] for name in testpheno.Subtype_name]\n",
    "testpheno\n"
   ]
  },
  {
   "cell_type": "code",
   "execution_count": 15,
   "metadata": {
    "ExecuteTime": {
     "end_time": "2023-03-22T13:05:52.444808Z",
     "start_time": "2023-03-22T13:05:52.431624Z"
    },
    "scrolled": true
   },
   "outputs": [
    {
     "data": {
      "text/html": [
       "<div>\n",
       "<style scoped>\n",
       "    .dataframe tbody tr th:only-of-type {\n",
       "        vertical-align: middle;\n",
       "    }\n",
       "\n",
       "    .dataframe tbody tr th {\n",
       "        vertical-align: top;\n",
       "    }\n",
       "\n",
       "    .dataframe thead th {\n",
       "        text-align: right;\n",
       "    }\n",
       "</style>\n",
       "<table border=\"1\" class=\"dataframe\">\n",
       "  <thead>\n",
       "    <tr style=\"text-align: right;\">\n",
       "      <th></th>\n",
       "      <th>Subtype_name</th>\n",
       "      <th>Sex</th>\n",
       "      <th>Age</th>\n",
       "      <th>Cohort</th>\n",
       "      <th>Subtypes</th>\n",
       "    </tr>\n",
       "    <tr>\n",
       "      <th>Sample SJ ID</th>\n",
       "      <th></th>\n",
       "      <th></th>\n",
       "      <th></th>\n",
       "      <th></th>\n",
       "      <th></th>\n",
       "    </tr>\n",
       "  </thead>\n",
       "  <tbody>\n",
       "    <tr>\n",
       "      <th>SJHBBBM4X52</th>\n",
       "      <td>ETV6-RUNX1_1</td>\n",
       "      <td>Male</td>\n",
       "      <td>4.57</td>\n",
       "      <td>Total XVI</td>\n",
       "      <td>t(12;21)</td>\n",
       "    </tr>\n",
       "    <tr>\n",
       "      <th>SJHBBBM4JQZ</th>\n",
       "      <td>ETV6-RUNX1_2</td>\n",
       "      <td>Male</td>\n",
       "      <td>3.18</td>\n",
       "      <td>Total XVI</td>\n",
       "      <td>t(12;21)</td>\n",
       "    </tr>\n",
       "    <tr>\n",
       "      <th>SJHBBBM5SGJ</th>\n",
       "      <td>ETV6-RUNX1_3</td>\n",
       "      <td>Male</td>\n",
       "      <td>6.81</td>\n",
       "      <td>Total XVI</td>\n",
       "      <td>t(12;21)</td>\n",
       "    </tr>\n",
       "    <tr>\n",
       "      <th>SJHBBBM5TXY</th>\n",
       "      <td>ETV6-RUNX1_4</td>\n",
       "      <td>Female</td>\n",
       "      <td>4.82</td>\n",
       "      <td>Total XVI</td>\n",
       "      <td>t(12;21)</td>\n",
       "    </tr>\n",
       "    <tr>\n",
       "      <th>SJHBBBM2GV5</th>\n",
       "      <td>ETV6-RUNX1_5</td>\n",
       "      <td>Male</td>\n",
       "      <td>5.15</td>\n",
       "      <td>Total XVI</td>\n",
       "      <td>t(12;21)</td>\n",
       "    </tr>\n",
       "    <tr>\n",
       "      <th>SJHBBBM39BT</th>\n",
       "      <td>ETV6-RUNX1_6</td>\n",
       "      <td>Female</td>\n",
       "      <td>3.03</td>\n",
       "      <td>Total XVI</td>\n",
       "      <td>t(12;21)</td>\n",
       "    </tr>\n",
       "    <tr>\n",
       "      <th>SJHBBBM67H6</th>\n",
       "      <td>Hyperdiploid_1</td>\n",
       "      <td>Male</td>\n",
       "      <td>14.59</td>\n",
       "      <td>Total XVI</td>\n",
       "      <td>HeH</td>\n",
       "    </tr>\n",
       "    <tr>\n",
       "      <th>SJHBBBM2BBR</th>\n",
       "      <td>Hyperdiploid_2</td>\n",
       "      <td>Male</td>\n",
       "      <td>4.17</td>\n",
       "      <td>Total XVI</td>\n",
       "      <td>HeH</td>\n",
       "    </tr>\n",
       "    <tr>\n",
       "      <th>SJHBBBN9RBJ</th>\n",
       "      <td>Hyperdiploid_3</td>\n",
       "      <td>Male</td>\n",
       "      <td>8.32</td>\n",
       "      <td>Total XVI</td>\n",
       "      <td>HeH</td>\n",
       "    </tr>\n",
       "    <tr>\n",
       "      <th>SJHBBBM4PX3</th>\n",
       "      <td>Hyperdiploid_4</td>\n",
       "      <td>Male</td>\n",
       "      <td>2.03</td>\n",
       "      <td>Total XVI</td>\n",
       "      <td>HeH</td>\n",
       "    </tr>\n",
       "    <tr>\n",
       "      <th>SJHBBBN9RDM</th>\n",
       "      <td>Hyperdiploid_5</td>\n",
       "      <td>Female</td>\n",
       "      <td>6.00</td>\n",
       "      <td>Total XVI</td>\n",
       "      <td>HeH</td>\n",
       "    </tr>\n",
       "    <tr>\n",
       "      <th>SJHBBBN9R9H</th>\n",
       "      <td>Hyperdiploid_6</td>\n",
       "      <td>Male</td>\n",
       "      <td>2.25</td>\n",
       "      <td>Total XVI</td>\n",
       "      <td>HeH</td>\n",
       "    </tr>\n",
       "    <tr>\n",
       "      <th>SJHBBBM588V</th>\n",
       "      <td>Hyperdiploid_7</td>\n",
       "      <td>Female</td>\n",
       "      <td>3.67</td>\n",
       "      <td>Total XVI</td>\n",
       "      <td>HeH</td>\n",
       "    </tr>\n",
       "    <tr>\n",
       "      <th>SJHBBBN9RFN</th>\n",
       "      <td>Hyperdiploid_8</td>\n",
       "      <td>Male</td>\n",
       "      <td>2.17</td>\n",
       "      <td>Total XVI</td>\n",
       "      <td>HeH</td>\n",
       "    </tr>\n",
       "    <tr>\n",
       "      <th>SJHBBBM55F5</th>\n",
       "      <td>Hyperdiploid_9</td>\n",
       "      <td>Male</td>\n",
       "      <td>10.04</td>\n",
       "      <td>Total XVI</td>\n",
       "      <td>HeH</td>\n",
       "    </tr>\n",
       "    <tr>\n",
       "      <th>SJHBBBM5GW9</th>\n",
       "      <td>Hyperdiploid_10</td>\n",
       "      <td>Female</td>\n",
       "      <td>3.10</td>\n",
       "      <td>Total XVI</td>\n",
       "      <td>HeH</td>\n",
       "    </tr>\n",
       "    <tr>\n",
       "      <th>SJHBBBM5PY5</th>\n",
       "      <td>Hyperdiploid_11</td>\n",
       "      <td>Female</td>\n",
       "      <td>2.65</td>\n",
       "      <td>Total XVI</td>\n",
       "      <td>HeH</td>\n",
       "    </tr>\n",
       "    <tr>\n",
       "      <th>SJHBBBM52XR</th>\n",
       "      <td>DUX4-ERG_1</td>\n",
       "      <td>Female</td>\n",
       "      <td>14.05</td>\n",
       "      <td>Total XVI</td>\n",
       "      <td>DUX4-r</td>\n",
       "    </tr>\n",
       "    <tr>\n",
       "      <th>SJHBBBM5YWS</th>\n",
       "      <td>DUX4-ERG_2</td>\n",
       "      <td>Male</td>\n",
       "      <td>9.78</td>\n",
       "      <td>Total XVI</td>\n",
       "      <td>DUX4-r</td>\n",
       "    </tr>\n",
       "  </tbody>\n",
       "</table>\n",
       "</div>"
      ],
      "text/plain": [
       "                 Subtype_name     Sex    Age     Cohort  Subtypes\n",
       "Sample SJ ID                                                     \n",
       "SJHBBBM4X52      ETV6-RUNX1_1    Male   4.57  Total XVI  t(12;21)\n",
       "SJHBBBM4JQZ      ETV6-RUNX1_2    Male   3.18  Total XVI  t(12;21)\n",
       "SJHBBBM5SGJ      ETV6-RUNX1_3    Male   6.81  Total XVI  t(12;21)\n",
       "SJHBBBM5TXY      ETV6-RUNX1_4  Female   4.82  Total XVI  t(12;21)\n",
       "SJHBBBM2GV5      ETV6-RUNX1_5    Male   5.15  Total XVI  t(12;21)\n",
       "SJHBBBM39BT      ETV6-RUNX1_6  Female   3.03  Total XVI  t(12;21)\n",
       "SJHBBBM67H6    Hyperdiploid_1    Male  14.59  Total XVI       HeH\n",
       "SJHBBBM2BBR    Hyperdiploid_2    Male   4.17  Total XVI       HeH\n",
       "SJHBBBN9RBJ    Hyperdiploid_3    Male   8.32  Total XVI       HeH\n",
       "SJHBBBM4PX3    Hyperdiploid_4    Male   2.03  Total XVI       HeH\n",
       "SJHBBBN9RDM    Hyperdiploid_5  Female   6.00  Total XVI       HeH\n",
       "SJHBBBN9R9H    Hyperdiploid_6    Male   2.25  Total XVI       HeH\n",
       "SJHBBBM588V    Hyperdiploid_7  Female   3.67  Total XVI       HeH\n",
       "SJHBBBN9RFN    Hyperdiploid_8    Male   2.17  Total XVI       HeH\n",
       "SJHBBBM55F5    Hyperdiploid_9    Male  10.04  Total XVI       HeH\n",
       "SJHBBBM5GW9   Hyperdiploid_10  Female   3.10  Total XVI       HeH\n",
       "SJHBBBM5PY5   Hyperdiploid_11  Female   2.65  Total XVI       HeH\n",
       "SJHBBBM52XR        DUX4-ERG_1  Female  14.05  Total XVI    DUX4-r\n",
       "SJHBBBM5YWS        DUX4-ERG_2    Male   9.78  Total XVI    DUX4-r"
      ]
     },
     "execution_count": 15,
     "metadata": {},
     "output_type": "execute_result"
    }
   ],
   "source": [
    "testpheno.Subtypes.replace(['ETV6-RUNX1', 'Hyperdiploid', 'DUX4-ERG'], ['t(12;21)', 'HeH', 'DUX4-r'], inplace = True)\n",
    "testpheno"
   ]
  },
  {
   "cell_type": "markdown",
   "metadata": {},
   "source": [
    "# GEX predictions work with signature_mode as default (all), meaning that each classifier using all selected signatures"
   ]
  },
  {
   "cell_type": "code",
   "execution_count": 16,
   "metadata": {
    "ExecuteTime": {
     "end_time": "2023-03-22T13:05:52.581521Z",
     "start_time": "2023-03-22T13:05:52.445807Z"
    }
   },
   "outputs": [
    {
     "name": "stdout",
     "output_type": "stream",
     "text": [
      "Starting with subtype group aneuploidy\n",
      "-------Start multiclass approach-----------\n",
      "Starting with subtype group ph-group\n",
      "Starting with subtype group ETV6-group\n",
      "-------Start one vs one approach-----------\n",
      "---------------t(12;21) vs t(12;21)-like---------------\n",
      "Starting with subtype group T-ALL\n",
      "Starting with subtype group DUX4-r\n",
      "Starting with subtype group PAX5alt\n",
      "Starting with subtype group 11q23/MLL\n",
      "Starting with subtype group ZNF384-r\n",
      "Starting with subtype group t(1;19)\n",
      "Starting with subtype group MEF2D-r\n",
      "Starting with subtype group PAX5 p.Pro80Arg\n",
      "Starting with subtype group NUTM1-r\n",
      "Starting with subtype group Control\n"
     ]
    }
   ],
   "source": [
    "valgen = predictionsNSC(model = model, discoverydf = testX, discoverypheno = testpheno, \n",
    "                        clinicaldatalist = ['Subtypes'],\n",
    "                       unique_genedf = finalsignatures, subtypecol = 'Subtype', \n",
    "                        ids = 'Gene ID', name = 'GEX_subtype', datatype = 'GEX')"
   ]
  },
  {
   "cell_type": "code",
   "execution_count": 17,
   "metadata": {
    "ExecuteTime": {
     "end_time": "2023-03-22T13:05:52.612777Z",
     "start_time": "2023-03-22T13:05:52.581521Z"
    },
    "scrolled": true
   },
   "outputs": [
    {
     "data": {
      "text/html": [
       "<div>\n",
       "<style scoped>\n",
       "    .dataframe tbody tr th:only-of-type {\n",
       "        vertical-align: middle;\n",
       "    }\n",
       "\n",
       "    .dataframe tbody tr th {\n",
       "        vertical-align: top;\n",
       "    }\n",
       "\n",
       "    .dataframe thead th {\n",
       "        text-align: right;\n",
       "    }\n",
       "</style>\n",
       "<table border=\"1\" class=\"dataframe\">\n",
       "  <thead>\n",
       "    <tr style=\"text-align: right;\">\n",
       "      <th></th>\n",
       "      <th>Subtypes</th>\n",
       "      <th>aneuploidy.classifier.proba</th>\n",
       "      <th>HeH.classifier.proba</th>\n",
       "      <th>low HeH.classifier.proba</th>\n",
       "      <th>iAMP21.classifier.proba</th>\n",
       "      <th>ph-group.classifier.proba</th>\n",
       "      <th>t(9;22).classifier.proba</th>\n",
       "      <th>ph-like.classifier.proba</th>\n",
       "      <th>ETV6-group.classifier.proba</th>\n",
       "      <th>t(12;21).classifier.proba</th>\n",
       "      <th>...</th>\n",
       "      <th>Control.classifier.proba</th>\n",
       "      <th>#predicted.classes</th>\n",
       "      <th>GEX_subtype</th>\n",
       "      <th>Subtype detailed_v1</th>\n",
       "      <th>Probability detailed_v1</th>\n",
       "      <th>GEX_subtype_groups</th>\n",
       "      <th>#classes.updated</th>\n",
       "      <th>GEX_probability_V2</th>\n",
       "      <th>GEX_subtype_V2</th>\n",
       "      <th>GEX_subtype_comments</th>\n",
       "    </tr>\n",
       "    <tr>\n",
       "      <th>Sample SJ ID</th>\n",
       "      <th></th>\n",
       "      <th></th>\n",
       "      <th></th>\n",
       "      <th></th>\n",
       "      <th></th>\n",
       "      <th></th>\n",
       "      <th></th>\n",
       "      <th></th>\n",
       "      <th></th>\n",
       "      <th></th>\n",
       "      <th></th>\n",
       "      <th></th>\n",
       "      <th></th>\n",
       "      <th></th>\n",
       "      <th></th>\n",
       "      <th></th>\n",
       "      <th></th>\n",
       "      <th></th>\n",
       "      <th></th>\n",
       "      <th></th>\n",
       "      <th></th>\n",
       "    </tr>\n",
       "  </thead>\n",
       "  <tbody>\n",
       "    <tr>\n",
       "      <th>SJHBBBM4X52</th>\n",
       "      <td>t(12;21)</td>\n",
       "      <td>0.016694</td>\n",
       "      <td>NaN</td>\n",
       "      <td>NaN</td>\n",
       "      <td>NaN</td>\n",
       "      <td>0.006072</td>\n",
       "      <td>NaN</td>\n",
       "      <td>NaN</td>\n",
       "      <td>1.000000e+00</td>\n",
       "      <td>0.947408</td>\n",
       "      <td>...</td>\n",
       "      <td>5.441645e-09</td>\n",
       "      <td>1</td>\n",
       "      <td>ETV6-group</td>\n",
       "      <td>ETV6-group</td>\n",
       "      <td>1.0</td>\n",
       "      <td>ETV6-group</td>\n",
       "      <td>1</td>\n",
       "      <td>0.9474</td>\n",
       "      <td>t(12;21)</td>\n",
       "      <td>Passed control</td>\n",
       "    </tr>\n",
       "    <tr>\n",
       "      <th>SJHBBBM4JQZ</th>\n",
       "      <td>t(12;21)</td>\n",
       "      <td>0.049971</td>\n",
       "      <td>NaN</td>\n",
       "      <td>NaN</td>\n",
       "      <td>NaN</td>\n",
       "      <td>0.008241</td>\n",
       "      <td>NaN</td>\n",
       "      <td>NaN</td>\n",
       "      <td>1.000000e+00</td>\n",
       "      <td>0.874213</td>\n",
       "      <td>...</td>\n",
       "      <td>5.833646e-09</td>\n",
       "      <td>1</td>\n",
       "      <td>ETV6-group</td>\n",
       "      <td>ETV6-group</td>\n",
       "      <td>1.0</td>\n",
       "      <td>ETV6-group</td>\n",
       "      <td>1</td>\n",
       "      <td>0.8742</td>\n",
       "      <td>t(12;21)</td>\n",
       "      <td>Passed control</td>\n",
       "    </tr>\n",
       "    <tr>\n",
       "      <th>SJHBBBM5SGJ</th>\n",
       "      <td>t(12;21)</td>\n",
       "      <td>0.012810</td>\n",
       "      <td>NaN</td>\n",
       "      <td>NaN</td>\n",
       "      <td>NaN</td>\n",
       "      <td>0.005501</td>\n",
       "      <td>NaN</td>\n",
       "      <td>NaN</td>\n",
       "      <td>9.999983e-01</td>\n",
       "      <td>0.950264</td>\n",
       "      <td>...</td>\n",
       "      <td>7.143709e-08</td>\n",
       "      <td>1</td>\n",
       "      <td>ETV6-group</td>\n",
       "      <td>ETV6-group</td>\n",
       "      <td>1.0</td>\n",
       "      <td>ETV6-group</td>\n",
       "      <td>1</td>\n",
       "      <td>0.9503</td>\n",
       "      <td>t(12;21)</td>\n",
       "      <td>Passed control</td>\n",
       "    </tr>\n",
       "    <tr>\n",
       "      <th>SJHBBBM5TXY</th>\n",
       "      <td>t(12;21)</td>\n",
       "      <td>0.066131</td>\n",
       "      <td>NaN</td>\n",
       "      <td>NaN</td>\n",
       "      <td>NaN</td>\n",
       "      <td>0.001190</td>\n",
       "      <td>NaN</td>\n",
       "      <td>NaN</td>\n",
       "      <td>9.999999e-01</td>\n",
       "      <td>0.969205</td>\n",
       "      <td>...</td>\n",
       "      <td>1.826689e-09</td>\n",
       "      <td>1</td>\n",
       "      <td>ETV6-group</td>\n",
       "      <td>ETV6-group</td>\n",
       "      <td>1.0</td>\n",
       "      <td>ETV6-group</td>\n",
       "      <td>1</td>\n",
       "      <td>0.9692</td>\n",
       "      <td>t(12;21)</td>\n",
       "      <td>Passed control</td>\n",
       "    </tr>\n",
       "    <tr>\n",
       "      <th>SJHBBBM2GV5</th>\n",
       "      <td>t(12;21)</td>\n",
       "      <td>0.024864</td>\n",
       "      <td>NaN</td>\n",
       "      <td>NaN</td>\n",
       "      <td>NaN</td>\n",
       "      <td>0.008208</td>\n",
       "      <td>NaN</td>\n",
       "      <td>NaN</td>\n",
       "      <td>1.000000e+00</td>\n",
       "      <td>0.948191</td>\n",
       "      <td>...</td>\n",
       "      <td>4.333854e-09</td>\n",
       "      <td>1</td>\n",
       "      <td>ETV6-group</td>\n",
       "      <td>ETV6-group</td>\n",
       "      <td>1.0</td>\n",
       "      <td>ETV6-group</td>\n",
       "      <td>1</td>\n",
       "      <td>0.9482</td>\n",
       "      <td>t(12;21)</td>\n",
       "      <td>Passed control</td>\n",
       "    </tr>\n",
       "    <tr>\n",
       "      <th>SJHBBBM39BT</th>\n",
       "      <td>t(12;21)</td>\n",
       "      <td>0.048989</td>\n",
       "      <td>NaN</td>\n",
       "      <td>NaN</td>\n",
       "      <td>NaN</td>\n",
       "      <td>0.007359</td>\n",
       "      <td>NaN</td>\n",
       "      <td>NaN</td>\n",
       "      <td>1.000000e+00</td>\n",
       "      <td>0.936972</td>\n",
       "      <td>...</td>\n",
       "      <td>5.074201e-09</td>\n",
       "      <td>1</td>\n",
       "      <td>ETV6-group</td>\n",
       "      <td>ETV6-group</td>\n",
       "      <td>1.0</td>\n",
       "      <td>ETV6-group</td>\n",
       "      <td>1</td>\n",
       "      <td>0.937</td>\n",
       "      <td>t(12;21)</td>\n",
       "      <td>Passed control</td>\n",
       "    </tr>\n",
       "    <tr>\n",
       "      <th>SJHBBBM67H6</th>\n",
       "      <td>HeH</td>\n",
       "      <td>0.999990</td>\n",
       "      <td>0.927857</td>\n",
       "      <td>0.034914</td>\n",
       "      <td>0.037229</td>\n",
       "      <td>0.006746</td>\n",
       "      <td>NaN</td>\n",
       "      <td>NaN</td>\n",
       "      <td>2.185300e-05</td>\n",
       "      <td>NaN</td>\n",
       "      <td>...</td>\n",
       "      <td>3.278898e-10</td>\n",
       "      <td>1</td>\n",
       "      <td>aneuploidy</td>\n",
       "      <td>aneuploidy</td>\n",
       "      <td>1.0</td>\n",
       "      <td>aneuploidy</td>\n",
       "      <td>1</td>\n",
       "      <td>0.9279</td>\n",
       "      <td>HeH</td>\n",
       "      <td>Passed control</td>\n",
       "    </tr>\n",
       "    <tr>\n",
       "      <th>SJHBBBM2BBR</th>\n",
       "      <td>HeH</td>\n",
       "      <td>0.999980</td>\n",
       "      <td>0.987010</td>\n",
       "      <td>0.003827</td>\n",
       "      <td>0.009163</td>\n",
       "      <td>0.011410</td>\n",
       "      <td>NaN</td>\n",
       "      <td>NaN</td>\n",
       "      <td>4.493238e-06</td>\n",
       "      <td>NaN</td>\n",
       "      <td>...</td>\n",
       "      <td>2.625252e-09</td>\n",
       "      <td>1</td>\n",
       "      <td>aneuploidy</td>\n",
       "      <td>aneuploidy</td>\n",
       "      <td>1.0</td>\n",
       "      <td>aneuploidy</td>\n",
       "      <td>1</td>\n",
       "      <td>0.987</td>\n",
       "      <td>HeH</td>\n",
       "      <td>Passed control</td>\n",
       "    </tr>\n",
       "    <tr>\n",
       "      <th>SJHBBBN9RBJ</th>\n",
       "      <td>HeH</td>\n",
       "      <td>0.999684</td>\n",
       "      <td>0.875687</td>\n",
       "      <td>0.006084</td>\n",
       "      <td>0.118228</td>\n",
       "      <td>0.010998</td>\n",
       "      <td>NaN</td>\n",
       "      <td>NaN</td>\n",
       "      <td>2.368673e-06</td>\n",
       "      <td>NaN</td>\n",
       "      <td>...</td>\n",
       "      <td>4.280366e-09</td>\n",
       "      <td>2</td>\n",
       "      <td>multiclass</td>\n",
       "      <td>aneuploidy, PAX5alt</td>\n",
       "      <td>0.9997, 0.5029</td>\n",
       "      <td>aneuploidy</td>\n",
       "      <td>1</td>\n",
       "      <td>0.8757</td>\n",
       "      <td>HeH</td>\n",
       "      <td>Passed control</td>\n",
       "    </tr>\n",
       "    <tr>\n",
       "      <th>SJHBBBM4PX3</th>\n",
       "      <td>HeH</td>\n",
       "      <td>0.999692</td>\n",
       "      <td>0.939494</td>\n",
       "      <td>0.017352</td>\n",
       "      <td>0.043154</td>\n",
       "      <td>0.004816</td>\n",
       "      <td>NaN</td>\n",
       "      <td>NaN</td>\n",
       "      <td>1.098444e-05</td>\n",
       "      <td>NaN</td>\n",
       "      <td>...</td>\n",
       "      <td>9.721372e-09</td>\n",
       "      <td>1</td>\n",
       "      <td>aneuploidy</td>\n",
       "      <td>aneuploidy</td>\n",
       "      <td>0.9997</td>\n",
       "      <td>aneuploidy</td>\n",
       "      <td>1</td>\n",
       "      <td>0.9395</td>\n",
       "      <td>HeH</td>\n",
       "      <td>Passed control</td>\n",
       "    </tr>\n",
       "    <tr>\n",
       "      <th>SJHBBBN9RDM</th>\n",
       "      <td>HeH</td>\n",
       "      <td>0.999972</td>\n",
       "      <td>0.962039</td>\n",
       "      <td>0.026121</td>\n",
       "      <td>0.011840</td>\n",
       "      <td>0.009985</td>\n",
       "      <td>NaN</td>\n",
       "      <td>NaN</td>\n",
       "      <td>3.505036e-06</td>\n",
       "      <td>NaN</td>\n",
       "      <td>...</td>\n",
       "      <td>5.574978e-09</td>\n",
       "      <td>1</td>\n",
       "      <td>aneuploidy</td>\n",
       "      <td>aneuploidy</td>\n",
       "      <td>1.0</td>\n",
       "      <td>aneuploidy</td>\n",
       "      <td>1</td>\n",
       "      <td>0.962</td>\n",
       "      <td>HeH</td>\n",
       "      <td>Passed control</td>\n",
       "    </tr>\n",
       "    <tr>\n",
       "      <th>SJHBBBN9R9H</th>\n",
       "      <td>HeH</td>\n",
       "      <td>0.999929</td>\n",
       "      <td>0.990086</td>\n",
       "      <td>0.004800</td>\n",
       "      <td>0.005113</td>\n",
       "      <td>0.002661</td>\n",
       "      <td>NaN</td>\n",
       "      <td>NaN</td>\n",
       "      <td>2.462959e-06</td>\n",
       "      <td>NaN</td>\n",
       "      <td>...</td>\n",
       "      <td>2.586665e-09</td>\n",
       "      <td>1</td>\n",
       "      <td>aneuploidy</td>\n",
       "      <td>aneuploidy</td>\n",
       "      <td>0.9999</td>\n",
       "      <td>aneuploidy</td>\n",
       "      <td>1</td>\n",
       "      <td>0.9901</td>\n",
       "      <td>HeH</td>\n",
       "      <td>Passed control</td>\n",
       "    </tr>\n",
       "    <tr>\n",
       "      <th>SJHBBBM588V</th>\n",
       "      <td>HeH</td>\n",
       "      <td>0.999989</td>\n",
       "      <td>0.966958</td>\n",
       "      <td>0.020832</td>\n",
       "      <td>0.012210</td>\n",
       "      <td>0.019385</td>\n",
       "      <td>NaN</td>\n",
       "      <td>NaN</td>\n",
       "      <td>3.896973e-05</td>\n",
       "      <td>NaN</td>\n",
       "      <td>...</td>\n",
       "      <td>1.387417e-09</td>\n",
       "      <td>1</td>\n",
       "      <td>aneuploidy</td>\n",
       "      <td>aneuploidy</td>\n",
       "      <td>1.0</td>\n",
       "      <td>aneuploidy</td>\n",
       "      <td>1</td>\n",
       "      <td>0.967</td>\n",
       "      <td>HeH</td>\n",
       "      <td>Passed control</td>\n",
       "    </tr>\n",
       "    <tr>\n",
       "      <th>SJHBBBN9RFN</th>\n",
       "      <td>HeH</td>\n",
       "      <td>0.999879</td>\n",
       "      <td>0.980934</td>\n",
       "      <td>0.004327</td>\n",
       "      <td>0.014738</td>\n",
       "      <td>0.010378</td>\n",
       "      <td>NaN</td>\n",
       "      <td>NaN</td>\n",
       "      <td>1.252720e-04</td>\n",
       "      <td>NaN</td>\n",
       "      <td>...</td>\n",
       "      <td>4.494200e-10</td>\n",
       "      <td>1</td>\n",
       "      <td>aneuploidy</td>\n",
       "      <td>aneuploidy</td>\n",
       "      <td>0.9999</td>\n",
       "      <td>aneuploidy</td>\n",
       "      <td>1</td>\n",
       "      <td>0.9809</td>\n",
       "      <td>HeH</td>\n",
       "      <td>Passed control</td>\n",
       "    </tr>\n",
       "    <tr>\n",
       "      <th>SJHBBBM55F5</th>\n",
       "      <td>HeH</td>\n",
       "      <td>0.999987</td>\n",
       "      <td>0.987185</td>\n",
       "      <td>0.005361</td>\n",
       "      <td>0.007454</td>\n",
       "      <td>0.033051</td>\n",
       "      <td>NaN</td>\n",
       "      <td>NaN</td>\n",
       "      <td>7.010820e-06</td>\n",
       "      <td>NaN</td>\n",
       "      <td>...</td>\n",
       "      <td>1.722685e-09</td>\n",
       "      <td>1</td>\n",
       "      <td>aneuploidy</td>\n",
       "      <td>aneuploidy</td>\n",
       "      <td>1.0</td>\n",
       "      <td>aneuploidy</td>\n",
       "      <td>1</td>\n",
       "      <td>0.9872</td>\n",
       "      <td>HeH</td>\n",
       "      <td>Passed control</td>\n",
       "    </tr>\n",
       "    <tr>\n",
       "      <th>SJHBBBM5GW9</th>\n",
       "      <td>HeH</td>\n",
       "      <td>0.998995</td>\n",
       "      <td>0.815827</td>\n",
       "      <td>0.012412</td>\n",
       "      <td>0.171761</td>\n",
       "      <td>0.013904</td>\n",
       "      <td>NaN</td>\n",
       "      <td>NaN</td>\n",
       "      <td>4.224864e-05</td>\n",
       "      <td>NaN</td>\n",
       "      <td>...</td>\n",
       "      <td>1.034880e-08</td>\n",
       "      <td>1</td>\n",
       "      <td>aneuploidy</td>\n",
       "      <td>aneuploidy</td>\n",
       "      <td>0.999</td>\n",
       "      <td>aneuploidy</td>\n",
       "      <td>1</td>\n",
       "      <td>0.8158</td>\n",
       "      <td>HeH</td>\n",
       "      <td>Passed control</td>\n",
       "    </tr>\n",
       "    <tr>\n",
       "      <th>SJHBBBM5PY5</th>\n",
       "      <td>HeH</td>\n",
       "      <td>0.999980</td>\n",
       "      <td>0.988455</td>\n",
       "      <td>0.008777</td>\n",
       "      <td>0.002768</td>\n",
       "      <td>0.005650</td>\n",
       "      <td>NaN</td>\n",
       "      <td>NaN</td>\n",
       "      <td>3.895348e-06</td>\n",
       "      <td>NaN</td>\n",
       "      <td>...</td>\n",
       "      <td>1.634870e-09</td>\n",
       "      <td>1</td>\n",
       "      <td>aneuploidy</td>\n",
       "      <td>aneuploidy</td>\n",
       "      <td>1.0</td>\n",
       "      <td>aneuploidy</td>\n",
       "      <td>1</td>\n",
       "      <td>0.9885</td>\n",
       "      <td>HeH</td>\n",
       "      <td>Passed control</td>\n",
       "    </tr>\n",
       "    <tr>\n",
       "      <th>SJHBBBM52XR</th>\n",
       "      <td>DUX4-r</td>\n",
       "      <td>0.004352</td>\n",
       "      <td>NaN</td>\n",
       "      <td>NaN</td>\n",
       "      <td>NaN</td>\n",
       "      <td>0.005827</td>\n",
       "      <td>NaN</td>\n",
       "      <td>NaN</td>\n",
       "      <td>6.673041e-07</td>\n",
       "      <td>NaN</td>\n",
       "      <td>...</td>\n",
       "      <td>1.232631e-06</td>\n",
       "      <td>1</td>\n",
       "      <td>DUX4-r</td>\n",
       "      <td>DUX4-r</td>\n",
       "      <td>0.9958</td>\n",
       "      <td>DUX4-r</td>\n",
       "      <td>1</td>\n",
       "      <td>0.9958</td>\n",
       "      <td>DUX4-r</td>\n",
       "      <td>Passed control</td>\n",
       "    </tr>\n",
       "    <tr>\n",
       "      <th>SJHBBBM5YWS</th>\n",
       "      <td>DUX4-r</td>\n",
       "      <td>0.003438</td>\n",
       "      <td>NaN</td>\n",
       "      <td>NaN</td>\n",
       "      <td>NaN</td>\n",
       "      <td>0.001553</td>\n",
       "      <td>NaN</td>\n",
       "      <td>NaN</td>\n",
       "      <td>1.035837e-06</td>\n",
       "      <td>NaN</td>\n",
       "      <td>...</td>\n",
       "      <td>2.042802e-06</td>\n",
       "      <td>1</td>\n",
       "      <td>DUX4-r</td>\n",
       "      <td>DUX4-r</td>\n",
       "      <td>1.0</td>\n",
       "      <td>DUX4-r</td>\n",
       "      <td>1</td>\n",
       "      <td>1.0</td>\n",
       "      <td>DUX4-r</td>\n",
       "      <td>Passed control</td>\n",
       "    </tr>\n",
       "  </tbody>\n",
       "</table>\n",
       "<p>19 rows × 30 columns</p>\n",
       "</div>"
      ],
      "text/plain": [
       "              Subtypes  aneuploidy.classifier.proba  HeH.classifier.proba  \\\n",
       "Sample SJ ID                                                                \n",
       "SJHBBBM4X52   t(12;21)                     0.016694                   NaN   \n",
       "SJHBBBM4JQZ   t(12;21)                     0.049971                   NaN   \n",
       "SJHBBBM5SGJ   t(12;21)                     0.012810                   NaN   \n",
       "SJHBBBM5TXY   t(12;21)                     0.066131                   NaN   \n",
       "SJHBBBM2GV5   t(12;21)                     0.024864                   NaN   \n",
       "SJHBBBM39BT   t(12;21)                     0.048989                   NaN   \n",
       "SJHBBBM67H6        HeH                     0.999990              0.927857   \n",
       "SJHBBBM2BBR        HeH                     0.999980              0.987010   \n",
       "SJHBBBN9RBJ        HeH                     0.999684              0.875687   \n",
       "SJHBBBM4PX3        HeH                     0.999692              0.939494   \n",
       "SJHBBBN9RDM        HeH                     0.999972              0.962039   \n",
       "SJHBBBN9R9H        HeH                     0.999929              0.990086   \n",
       "SJHBBBM588V        HeH                     0.999989              0.966958   \n",
       "SJHBBBN9RFN        HeH                     0.999879              0.980934   \n",
       "SJHBBBM55F5        HeH                     0.999987              0.987185   \n",
       "SJHBBBM5GW9        HeH                     0.998995              0.815827   \n",
       "SJHBBBM5PY5        HeH                     0.999980              0.988455   \n",
       "SJHBBBM52XR     DUX4-r                     0.004352                   NaN   \n",
       "SJHBBBM5YWS     DUX4-r                     0.003438                   NaN   \n",
       "\n",
       "              low HeH.classifier.proba  iAMP21.classifier.proba  \\\n",
       "Sample SJ ID                                                      \n",
       "SJHBBBM4X52                        NaN                      NaN   \n",
       "SJHBBBM4JQZ                        NaN                      NaN   \n",
       "SJHBBBM5SGJ                        NaN                      NaN   \n",
       "SJHBBBM5TXY                        NaN                      NaN   \n",
       "SJHBBBM2GV5                        NaN                      NaN   \n",
       "SJHBBBM39BT                        NaN                      NaN   \n",
       "SJHBBBM67H6                   0.034914                 0.037229   \n",
       "SJHBBBM2BBR                   0.003827                 0.009163   \n",
       "SJHBBBN9RBJ                   0.006084                 0.118228   \n",
       "SJHBBBM4PX3                   0.017352                 0.043154   \n",
       "SJHBBBN9RDM                   0.026121                 0.011840   \n",
       "SJHBBBN9R9H                   0.004800                 0.005113   \n",
       "SJHBBBM588V                   0.020832                 0.012210   \n",
       "SJHBBBN9RFN                   0.004327                 0.014738   \n",
       "SJHBBBM55F5                   0.005361                 0.007454   \n",
       "SJHBBBM5GW9                   0.012412                 0.171761   \n",
       "SJHBBBM5PY5                   0.008777                 0.002768   \n",
       "SJHBBBM52XR                        NaN                      NaN   \n",
       "SJHBBBM5YWS                        NaN                      NaN   \n",
       "\n",
       "              ph-group.classifier.proba  t(9;22).classifier.proba  \\\n",
       "Sample SJ ID                                                        \n",
       "SJHBBBM4X52                    0.006072                       NaN   \n",
       "SJHBBBM4JQZ                    0.008241                       NaN   \n",
       "SJHBBBM5SGJ                    0.005501                       NaN   \n",
       "SJHBBBM5TXY                    0.001190                       NaN   \n",
       "SJHBBBM2GV5                    0.008208                       NaN   \n",
       "SJHBBBM39BT                    0.007359                       NaN   \n",
       "SJHBBBM67H6                    0.006746                       NaN   \n",
       "SJHBBBM2BBR                    0.011410                       NaN   \n",
       "SJHBBBN9RBJ                    0.010998                       NaN   \n",
       "SJHBBBM4PX3                    0.004816                       NaN   \n",
       "SJHBBBN9RDM                    0.009985                       NaN   \n",
       "SJHBBBN9R9H                    0.002661                       NaN   \n",
       "SJHBBBM588V                    0.019385                       NaN   \n",
       "SJHBBBN9RFN                    0.010378                       NaN   \n",
       "SJHBBBM55F5                    0.033051                       NaN   \n",
       "SJHBBBM5GW9                    0.013904                       NaN   \n",
       "SJHBBBM5PY5                    0.005650                       NaN   \n",
       "SJHBBBM52XR                    0.005827                       NaN   \n",
       "SJHBBBM5YWS                    0.001553                       NaN   \n",
       "\n",
       "              ph-like.classifier.proba  ETV6-group.classifier.proba  \\\n",
       "Sample SJ ID                                                          \n",
       "SJHBBBM4X52                        NaN                 1.000000e+00   \n",
       "SJHBBBM4JQZ                        NaN                 1.000000e+00   \n",
       "SJHBBBM5SGJ                        NaN                 9.999983e-01   \n",
       "SJHBBBM5TXY                        NaN                 9.999999e-01   \n",
       "SJHBBBM2GV5                        NaN                 1.000000e+00   \n",
       "SJHBBBM39BT                        NaN                 1.000000e+00   \n",
       "SJHBBBM67H6                        NaN                 2.185300e-05   \n",
       "SJHBBBM2BBR                        NaN                 4.493238e-06   \n",
       "SJHBBBN9RBJ                        NaN                 2.368673e-06   \n",
       "SJHBBBM4PX3                        NaN                 1.098444e-05   \n",
       "SJHBBBN9RDM                        NaN                 3.505036e-06   \n",
       "SJHBBBN9R9H                        NaN                 2.462959e-06   \n",
       "SJHBBBM588V                        NaN                 3.896973e-05   \n",
       "SJHBBBN9RFN                        NaN                 1.252720e-04   \n",
       "SJHBBBM55F5                        NaN                 7.010820e-06   \n",
       "SJHBBBM5GW9                        NaN                 4.224864e-05   \n",
       "SJHBBBM5PY5                        NaN                 3.895348e-06   \n",
       "SJHBBBM52XR                        NaN                 6.673041e-07   \n",
       "SJHBBBM5YWS                        NaN                 1.035837e-06   \n",
       "\n",
       "              t(12;21).classifier.proba  ...  Control.classifier.proba  \\\n",
       "Sample SJ ID                             ...                             \n",
       "SJHBBBM4X52                    0.947408  ...              5.441645e-09   \n",
       "SJHBBBM4JQZ                    0.874213  ...              5.833646e-09   \n",
       "SJHBBBM5SGJ                    0.950264  ...              7.143709e-08   \n",
       "SJHBBBM5TXY                    0.969205  ...              1.826689e-09   \n",
       "SJHBBBM2GV5                    0.948191  ...              4.333854e-09   \n",
       "SJHBBBM39BT                    0.936972  ...              5.074201e-09   \n",
       "SJHBBBM67H6                         NaN  ...              3.278898e-10   \n",
       "SJHBBBM2BBR                         NaN  ...              2.625252e-09   \n",
       "SJHBBBN9RBJ                         NaN  ...              4.280366e-09   \n",
       "SJHBBBM4PX3                         NaN  ...              9.721372e-09   \n",
       "SJHBBBN9RDM                         NaN  ...              5.574978e-09   \n",
       "SJHBBBN9R9H                         NaN  ...              2.586665e-09   \n",
       "SJHBBBM588V                         NaN  ...              1.387417e-09   \n",
       "SJHBBBN9RFN                         NaN  ...              4.494200e-10   \n",
       "SJHBBBM55F5                         NaN  ...              1.722685e-09   \n",
       "SJHBBBM5GW9                         NaN  ...              1.034880e-08   \n",
       "SJHBBBM5PY5                         NaN  ...              1.634870e-09   \n",
       "SJHBBBM52XR                         NaN  ...              1.232631e-06   \n",
       "SJHBBBM5YWS                         NaN  ...              2.042802e-06   \n",
       "\n",
       "              #predicted.classes  GEX_subtype  Subtype detailed_v1  \\\n",
       "Sample SJ ID                                                         \n",
       "SJHBBBM4X52                    1   ETV6-group           ETV6-group   \n",
       "SJHBBBM4JQZ                    1   ETV6-group           ETV6-group   \n",
       "SJHBBBM5SGJ                    1   ETV6-group           ETV6-group   \n",
       "SJHBBBM5TXY                    1   ETV6-group           ETV6-group   \n",
       "SJHBBBM2GV5                    1   ETV6-group           ETV6-group   \n",
       "SJHBBBM39BT                    1   ETV6-group           ETV6-group   \n",
       "SJHBBBM67H6                    1   aneuploidy           aneuploidy   \n",
       "SJHBBBM2BBR                    1   aneuploidy           aneuploidy   \n",
       "SJHBBBN9RBJ                    2   multiclass  aneuploidy, PAX5alt   \n",
       "SJHBBBM4PX3                    1   aneuploidy           aneuploidy   \n",
       "SJHBBBN9RDM                    1   aneuploidy           aneuploidy   \n",
       "SJHBBBN9R9H                    1   aneuploidy           aneuploidy   \n",
       "SJHBBBM588V                    1   aneuploidy           aneuploidy   \n",
       "SJHBBBN9RFN                    1   aneuploidy           aneuploidy   \n",
       "SJHBBBM55F5                    1   aneuploidy           aneuploidy   \n",
       "SJHBBBM5GW9                    1   aneuploidy           aneuploidy   \n",
       "SJHBBBM5PY5                    1   aneuploidy           aneuploidy   \n",
       "SJHBBBM52XR                    1       DUX4-r               DUX4-r   \n",
       "SJHBBBM5YWS                    1       DUX4-r               DUX4-r   \n",
       "\n",
       "              Probability detailed_v1  GEX_subtype_groups  #classes.updated  \\\n",
       "Sample SJ ID                                                                  \n",
       "SJHBBBM4X52                       1.0          ETV6-group                 1   \n",
       "SJHBBBM4JQZ                       1.0          ETV6-group                 1   \n",
       "SJHBBBM5SGJ                       1.0          ETV6-group                 1   \n",
       "SJHBBBM5TXY                       1.0          ETV6-group                 1   \n",
       "SJHBBBM2GV5                       1.0          ETV6-group                 1   \n",
       "SJHBBBM39BT                       1.0          ETV6-group                 1   \n",
       "SJHBBBM67H6                       1.0          aneuploidy                 1   \n",
       "SJHBBBM2BBR                       1.0          aneuploidy                 1   \n",
       "SJHBBBN9RBJ            0.9997, 0.5029          aneuploidy                 1   \n",
       "SJHBBBM4PX3                    0.9997          aneuploidy                 1   \n",
       "SJHBBBN9RDM                       1.0          aneuploidy                 1   \n",
       "SJHBBBN9R9H                    0.9999          aneuploidy                 1   \n",
       "SJHBBBM588V                       1.0          aneuploidy                 1   \n",
       "SJHBBBN9RFN                    0.9999          aneuploidy                 1   \n",
       "SJHBBBM55F5                       1.0          aneuploidy                 1   \n",
       "SJHBBBM5GW9                     0.999          aneuploidy                 1   \n",
       "SJHBBBM5PY5                       1.0          aneuploidy                 1   \n",
       "SJHBBBM52XR                    0.9958              DUX4-r                 1   \n",
       "SJHBBBM5YWS                       1.0              DUX4-r                 1   \n",
       "\n",
       "              GEX_probability_V2  GEX_subtype_V2  GEX_subtype_comments  \n",
       "Sample SJ ID                                                            \n",
       "SJHBBBM4X52               0.9474        t(12;21)        Passed control  \n",
       "SJHBBBM4JQZ               0.8742        t(12;21)        Passed control  \n",
       "SJHBBBM5SGJ               0.9503        t(12;21)        Passed control  \n",
       "SJHBBBM5TXY               0.9692        t(12;21)        Passed control  \n",
       "SJHBBBM2GV5               0.9482        t(12;21)        Passed control  \n",
       "SJHBBBM39BT                0.937        t(12;21)        Passed control  \n",
       "SJHBBBM67H6               0.9279             HeH        Passed control  \n",
       "SJHBBBM2BBR                0.987             HeH        Passed control  \n",
       "SJHBBBN9RBJ               0.8757             HeH        Passed control  \n",
       "SJHBBBM4PX3               0.9395             HeH        Passed control  \n",
       "SJHBBBN9RDM                0.962             HeH        Passed control  \n",
       "SJHBBBN9R9H               0.9901             HeH        Passed control  \n",
       "SJHBBBM588V                0.967             HeH        Passed control  \n",
       "SJHBBBN9RFN               0.9809             HeH        Passed control  \n",
       "SJHBBBM55F5               0.9872             HeH        Passed control  \n",
       "SJHBBBM5GW9               0.8158             HeH        Passed control  \n",
       "SJHBBBM5PY5               0.9885             HeH        Passed control  \n",
       "SJHBBBM52XR               0.9958          DUX4-r        Passed control  \n",
       "SJHBBBM5YWS                  1.0          DUX4-r        Passed control  \n",
       "\n",
       "[19 rows x 30 columns]"
      ]
     },
     "execution_count": 17,
     "metadata": {},
     "output_type": "execute_result"
    }
   ],
   "source": [
    "valgen"
   ]
  },
  {
   "cell_type": "code",
   "execution_count": 18,
   "metadata": {
    "ExecuteTime": {
     "end_time": "2023-03-22T13:05:52.628398Z",
     "start_time": "2023-03-22T13:05:52.612777Z"
    }
   },
   "outputs": [
    {
     "data": {
      "text/plain": [
       "19"
      ]
     },
     "execution_count": 18,
     "metadata": {},
     "output_type": "execute_result"
    }
   ],
   "source": [
    "sum(valgen.GEX_subtype_V2 == testpheno.Subtypes)"
   ]
  },
  {
   "cell_type": "code",
   "execution_count": 19,
   "metadata": {
    "ExecuteTime": {
     "end_time": "2023-03-22T13:05:52.644027Z",
     "start_time": "2023-03-22T13:05:52.628398Z"
    }
   },
   "outputs": [
    {
     "name": "stdout",
     "output_type": "stream",
     "text": [
      "(1, 30)\n",
      "1\n"
     ]
    }
   ],
   "source": [
    "multicases = valgen[(valgen['GEX_subtype'] == 'multiclass')]\n",
    "print(multicases.shape)\n",
    "print(sum(multicases['Subtypes'] == multicases['GEX_subtype_V2']))"
   ]
  },
  {
   "cell_type": "code",
   "execution_count": 20,
   "metadata": {
    "ExecuteTime": {
     "end_time": "2023-03-22T13:05:52.659649Z",
     "start_time": "2023-03-22T13:05:52.644027Z"
    }
   },
   "outputs": [],
   "source": [
    "valgen.to_csv('../outputs/GEX_GEO_predictions.csv')"
   ]
  },
  {
   "cell_type": "markdown",
   "metadata": {
    "ExecuteTime": {
     "end_time": "2023-03-14T14:17:29.843506Z",
     "start_time": "2023-03-14T14:17:29.829524Z"
    }
   },
   "source": [
    "# Construct confusion matrix for the samples of known subtype (n = 19)"
   ]
  },
  {
   "cell_type": "code",
   "execution_count": 21,
   "metadata": {
    "ExecuteTime": {
     "end_time": "2023-03-22T13:05:52.675274Z",
     "start_time": "2023-03-22T13:05:52.659649Z"
    }
   },
   "outputs": [],
   "source": [
    "testdf = valgen.copy()"
   ]
  },
  {
   "cell_type": "code",
   "execution_count": 22,
   "metadata": {
    "ExecuteTime": {
     "end_time": "2023-03-22T13:05:52.690898Z",
     "start_time": "2023-03-22T13:05:52.675274Z"
    }
   },
   "outputs": [
    {
     "data": {
      "text/plain": [
       "{'DUX4-r', 'HeH', 't(12;21)'}"
      ]
     },
     "execution_count": 22,
     "metadata": {},
     "output_type": "execute_result"
    }
   ],
   "source": [
    "subs = set(testdf.GEX_subtype_V2.value_counts().index).union(testdf.Subtypes.value_counts().index)\n",
    "subs"
   ]
  },
  {
   "cell_type": "code",
   "execution_count": 23,
   "metadata": {
    "ExecuteTime": {
     "end_time": "2023-03-22T13:05:52.706526Z",
     "start_time": "2023-03-22T13:05:52.690898Z"
    }
   },
   "outputs": [
    {
     "data": {
      "text/plain": [
       "['HeH', 't(12;21)', 'DUX4-r']"
      ]
     },
     "execution_count": 23,
     "metadata": {},
     "output_type": "execute_result"
    }
   ],
   "source": [
    "subtypeord = joblib.load('sub_colors.pkl')\n",
    "subtypeord2 = subtypeord.copy()\n",
    "for s in subtypeord.keys():\n",
    "    if s not in subs:\n",
    "        del subtypeord2[s]\n",
    "\n",
    "subtypeorder = list(subtypeord2.keys())\n",
    "subtypeorder"
   ]
  },
  {
   "cell_type": "code",
   "execution_count": 24,
   "metadata": {
    "ExecuteTime": {
     "end_time": "2023-03-22T13:05:52.722254Z",
     "start_time": "2023-03-22T13:05:52.706526Z"
    }
   },
   "outputs": [],
   "source": [
    "from sklearn.metrics import confusion_matrix"
   ]
  },
  {
   "cell_type": "code",
   "execution_count": 25,
   "metadata": {
    "ExecuteTime": {
     "end_time": "2023-03-22T13:05:52.738254Z",
     "start_time": "2023-03-22T13:05:52.724256Z"
    }
   },
   "outputs": [
    {
     "data": {
      "text/html": [
       "<div>\n",
       "<style scoped>\n",
       "    .dataframe tbody tr th:only-of-type {\n",
       "        vertical-align: middle;\n",
       "    }\n",
       "\n",
       "    .dataframe tbody tr th {\n",
       "        vertical-align: top;\n",
       "    }\n",
       "\n",
       "    .dataframe thead th {\n",
       "        text-align: right;\n",
       "    }\n",
       "</style>\n",
       "<table border=\"1\" class=\"dataframe\">\n",
       "  <thead>\n",
       "    <tr style=\"text-align: right;\">\n",
       "      <th></th>\n",
       "      <th>correct_preds</th>\n",
       "      <th>id</th>\n",
       "    </tr>\n",
       "  </thead>\n",
       "  <tbody>\n",
       "    <tr>\n",
       "      <th>HeH</th>\n",
       "      <td>11</td>\n",
       "      <td>HeH</td>\n",
       "    </tr>\n",
       "    <tr>\n",
       "      <th>t(12;21)</th>\n",
       "      <td>6</td>\n",
       "      <td>t(12;21)</td>\n",
       "    </tr>\n",
       "    <tr>\n",
       "      <th>DUX4-r</th>\n",
       "      <td>2</td>\n",
       "      <td>DUX4-r</td>\n",
       "    </tr>\n",
       "  </tbody>\n",
       "</table>\n",
       "</div>"
      ],
      "text/plain": [
       "          correct_preds        id\n",
       "HeH                  11       HeH\n",
       "t(12;21)              6  t(12;21)\n",
       "DUX4-r                2    DUX4-r"
      ]
     },
     "execution_count": 25,
     "metadata": {},
     "output_type": "execute_result"
    }
   ],
   "source": [
    "corrects = pd.DataFrame(testdf[testdf.Subtypes == testdf.GEX_subtype_V2].Subtypes.value_counts())\n",
    "corrects.rename(columns = {'Subtypes': 'correct_preds'}, inplace = True)\n",
    "corrects['id'] = corrects.index\n",
    "corrects"
   ]
  },
  {
   "cell_type": "code",
   "execution_count": 26,
   "metadata": {
    "ExecuteTime": {
     "end_time": "2023-03-22T13:05:52.754255Z",
     "start_time": "2023-03-22T13:05:52.740255Z"
    }
   },
   "outputs": [
    {
     "data": {
      "text/html": [
       "<div>\n",
       "<style scoped>\n",
       "    .dataframe tbody tr th:only-of-type {\n",
       "        vertical-align: middle;\n",
       "    }\n",
       "\n",
       "    .dataframe tbody tr th {\n",
       "        vertical-align: top;\n",
       "    }\n",
       "\n",
       "    .dataframe thead th {\n",
       "        text-align: right;\n",
       "    }\n",
       "</style>\n",
       "<table border=\"1\" class=\"dataframe\">\n",
       "  <thead>\n",
       "    <tr style=\"text-align: right;\">\n",
       "      <th></th>\n",
       "      <th>all_counts</th>\n",
       "      <th>id</th>\n",
       "    </tr>\n",
       "  </thead>\n",
       "  <tbody>\n",
       "    <tr>\n",
       "      <th>HeH</th>\n",
       "      <td>11</td>\n",
       "      <td>HeH</td>\n",
       "    </tr>\n",
       "    <tr>\n",
       "      <th>t(12;21)</th>\n",
       "      <td>6</td>\n",
       "      <td>t(12;21)</td>\n",
       "    </tr>\n",
       "    <tr>\n",
       "      <th>DUX4-r</th>\n",
       "      <td>2</td>\n",
       "      <td>DUX4-r</td>\n",
       "    </tr>\n",
       "  </tbody>\n",
       "</table>\n",
       "</div>"
      ],
      "text/plain": [
       "          all_counts        id\n",
       "HeH               11       HeH\n",
       "t(12;21)           6  t(12;21)\n",
       "DUX4-r             2    DUX4-r"
      ]
     },
     "execution_count": 26,
     "metadata": {},
     "output_type": "execute_result"
    }
   ],
   "source": [
    "allsubs =  pd.DataFrame(testdf.Subtypes.value_counts())\n",
    "allsubs.rename(columns = {'Subtypes': 'all_counts'}, inplace = True)\n",
    "allsubs['id'] = allsubs.index\n",
    "allsubs"
   ]
  },
  {
   "cell_type": "code",
   "execution_count": 27,
   "metadata": {
    "ExecuteTime": {
     "end_time": "2023-03-22T13:05:52.774244Z",
     "start_time": "2023-03-22T13:05:52.758509Z"
    }
   },
   "outputs": [
    {
     "data": {
      "text/html": [
       "<div>\n",
       "<style scoped>\n",
       "    .dataframe tbody tr th:only-of-type {\n",
       "        vertical-align: middle;\n",
       "    }\n",
       "\n",
       "    .dataframe tbody tr th {\n",
       "        vertical-align: top;\n",
       "    }\n",
       "\n",
       "    .dataframe thead th {\n",
       "        text-align: right;\n",
       "    }\n",
       "</style>\n",
       "<table border=\"1\" class=\"dataframe\">\n",
       "  <thead>\n",
       "    <tr style=\"text-align: right;\">\n",
       "      <th></th>\n",
       "      <th>all_counts</th>\n",
       "      <th>correct_preds</th>\n",
       "    </tr>\n",
       "    <tr>\n",
       "      <th>id</th>\n",
       "      <th></th>\n",
       "      <th></th>\n",
       "    </tr>\n",
       "  </thead>\n",
       "  <tbody>\n",
       "    <tr>\n",
       "      <th>HeH</th>\n",
       "      <td>11</td>\n",
       "      <td>11</td>\n",
       "    </tr>\n",
       "    <tr>\n",
       "      <th>t(12;21)</th>\n",
       "      <td>6</td>\n",
       "      <td>6</td>\n",
       "    </tr>\n",
       "    <tr>\n",
       "      <th>DUX4-r</th>\n",
       "      <td>2</td>\n",
       "      <td>2</td>\n",
       "    </tr>\n",
       "  </tbody>\n",
       "</table>\n",
       "</div>"
      ],
      "text/plain": [
       "          all_counts  correct_preds\n",
       "id                                 \n",
       "HeH               11             11\n",
       "t(12;21)           6              6\n",
       "DUX4-r             2              2"
      ]
     },
     "execution_count": 27,
     "metadata": {},
     "output_type": "execute_result"
    }
   ],
   "source": [
    "finalcounts = allsubs.merge(corrects, how = 'outer')\n",
    "finalcounts.set_index('id', inplace = True)\n",
    "finalcounts"
   ]
  },
  {
   "cell_type": "code",
   "execution_count": 28,
   "metadata": {
    "ExecuteTime": {
     "end_time": "2023-03-22T13:05:52.789869Z",
     "start_time": "2023-03-22T13:05:52.774704Z"
    }
   },
   "outputs": [
    {
     "data": {
      "text/html": [
       "<div>\n",
       "<style scoped>\n",
       "    .dataframe tbody tr th:only-of-type {\n",
       "        vertical-align: middle;\n",
       "    }\n",
       "\n",
       "    .dataframe tbody tr th {\n",
       "        vertical-align: top;\n",
       "    }\n",
       "\n",
       "    .dataframe thead th {\n",
       "        text-align: right;\n",
       "    }\n",
       "</style>\n",
       "<table border=\"1\" class=\"dataframe\">\n",
       "  <thead>\n",
       "    <tr style=\"text-align: right;\">\n",
       "      <th></th>\n",
       "      <th>all_counts</th>\n",
       "      <th>correct_preds</th>\n",
       "    </tr>\n",
       "    <tr>\n",
       "      <th>id</th>\n",
       "      <th></th>\n",
       "      <th></th>\n",
       "    </tr>\n",
       "  </thead>\n",
       "  <tbody>\n",
       "    <tr>\n",
       "      <th>HeH</th>\n",
       "      <td>11</td>\n",
       "      <td>11</td>\n",
       "    </tr>\n",
       "    <tr>\n",
       "      <th>t(12;21)</th>\n",
       "      <td>6</td>\n",
       "      <td>6</td>\n",
       "    </tr>\n",
       "    <tr>\n",
       "      <th>DUX4-r</th>\n",
       "      <td>2</td>\n",
       "      <td>2</td>\n",
       "    </tr>\n",
       "  </tbody>\n",
       "</table>\n",
       "</div>"
      ],
      "text/plain": [
       "          all_counts  correct_preds\n",
       "id                                 \n",
       "HeH               11             11\n",
       "t(12;21)           6              6\n",
       "DUX4-r             2              2"
      ]
     },
     "execution_count": 28,
     "metadata": {},
     "output_type": "execute_result"
    }
   ],
   "source": [
    "finalcounts = finalcounts.reindex(subtypeorder)\n",
    "\n",
    "finalcounts"
   ]
  },
  {
   "cell_type": "code",
   "execution_count": 29,
   "metadata": {
    "ExecuteTime": {
     "end_time": "2023-03-22T13:05:52.807236Z",
     "start_time": "2023-03-22T13:05:52.791167Z"
    }
   },
   "outputs": [],
   "source": [
    "finalcounts['props'] =  round(finalcounts.correct_preds/finalcounts.all_counts,2) * 100"
   ]
  },
  {
   "cell_type": "code",
   "execution_count": 30,
   "metadata": {
    "ExecuteTime": {
     "end_time": "2023-03-22T13:05:52.824317Z",
     "start_time": "2023-03-22T13:05:52.808696Z"
    }
   },
   "outputs": [
    {
     "data": {
      "text/html": [
       "<div>\n",
       "<style scoped>\n",
       "    .dataframe tbody tr th:only-of-type {\n",
       "        vertical-align: middle;\n",
       "    }\n",
       "\n",
       "    .dataframe tbody tr th {\n",
       "        vertical-align: top;\n",
       "    }\n",
       "\n",
       "    .dataframe thead th {\n",
       "        text-align: right;\n",
       "    }\n",
       "</style>\n",
       "<table border=\"1\" class=\"dataframe\">\n",
       "  <thead>\n",
       "    <tr style=\"text-align: right;\">\n",
       "      <th></th>\n",
       "      <th>all_counts</th>\n",
       "      <th>correct_preds</th>\n",
       "      <th>props</th>\n",
       "    </tr>\n",
       "    <tr>\n",
       "      <th>id</th>\n",
       "      <th></th>\n",
       "      <th></th>\n",
       "      <th></th>\n",
       "    </tr>\n",
       "  </thead>\n",
       "  <tbody>\n",
       "    <tr>\n",
       "      <th>HeH</th>\n",
       "      <td>11</td>\n",
       "      <td>11</td>\n",
       "      <td>100.0</td>\n",
       "    </tr>\n",
       "    <tr>\n",
       "      <th>t(12;21)</th>\n",
       "      <td>6</td>\n",
       "      <td>6</td>\n",
       "      <td>100.0</td>\n",
       "    </tr>\n",
       "    <tr>\n",
       "      <th>DUX4-r</th>\n",
       "      <td>2</td>\n",
       "      <td>2</td>\n",
       "      <td>100.0</td>\n",
       "    </tr>\n",
       "  </tbody>\n",
       "</table>\n",
       "</div>"
      ],
      "text/plain": [
       "          all_counts  correct_preds  props\n",
       "id                                        \n",
       "HeH               11             11  100.0\n",
       "t(12;21)           6              6  100.0\n",
       "DUX4-r             2              2  100.0"
      ]
     },
     "execution_count": 30,
     "metadata": {},
     "output_type": "execute_result"
    }
   ],
   "source": [
    "finalcounts.fillna(0, inplace = True)\n",
    "finalcounts"
   ]
  },
  {
   "cell_type": "code",
   "execution_count": 31,
   "metadata": {
    "ExecuteTime": {
     "end_time": "2023-03-22T13:05:52.842965Z",
     "start_time": "2023-03-22T13:05:52.827448Z"
    }
   },
   "outputs": [],
   "source": [
    "newnames = ['HeH',\n",
    " 'ETV6::RUNX1',\n",
    " 'DUX4-r']"
   ]
  },
  {
   "cell_type": "code",
   "execution_count": 32,
   "metadata": {
    "ExecuteTime": {
     "end_time": "2023-03-22T13:05:52.858963Z",
     "start_time": "2023-03-22T13:05:52.844966Z"
    }
   },
   "outputs": [
    {
     "data": {
      "text/html": [
       "<div>\n",
       "<style scoped>\n",
       "    .dataframe tbody tr th:only-of-type {\n",
       "        vertical-align: middle;\n",
       "    }\n",
       "\n",
       "    .dataframe tbody tr th {\n",
       "        vertical-align: top;\n",
       "    }\n",
       "\n",
       "    .dataframe thead th {\n",
       "        text-align: right;\n",
       "    }\n",
       "</style>\n",
       "<table border=\"1\" class=\"dataframe\">\n",
       "  <thead>\n",
       "    <tr style=\"text-align: right;\">\n",
       "      <th></th>\n",
       "      <th>all_counts</th>\n",
       "      <th>correct_preds</th>\n",
       "      <th>props</th>\n",
       "      <th>Subtype_renamed</th>\n",
       "    </tr>\n",
       "    <tr>\n",
       "      <th>id</th>\n",
       "      <th></th>\n",
       "      <th></th>\n",
       "      <th></th>\n",
       "      <th></th>\n",
       "    </tr>\n",
       "  </thead>\n",
       "  <tbody>\n",
       "    <tr>\n",
       "      <th>HeH</th>\n",
       "      <td>11</td>\n",
       "      <td>11</td>\n",
       "      <td>100.0</td>\n",
       "      <td>HeH</td>\n",
       "    </tr>\n",
       "    <tr>\n",
       "      <th>t(12;21)</th>\n",
       "      <td>6</td>\n",
       "      <td>6</td>\n",
       "      <td>100.0</td>\n",
       "      <td>ETV6::RUNX1</td>\n",
       "    </tr>\n",
       "    <tr>\n",
       "      <th>DUX4-r</th>\n",
       "      <td>2</td>\n",
       "      <td>2</td>\n",
       "      <td>100.0</td>\n",
       "      <td>DUX4-r</td>\n",
       "    </tr>\n",
       "  </tbody>\n",
       "</table>\n",
       "</div>"
      ],
      "text/plain": [
       "          all_counts  correct_preds  props Subtype_renamed\n",
       "id                                                        \n",
       "HeH               11             11  100.0             HeH\n",
       "t(12;21)           6              6  100.0     ETV6::RUNX1\n",
       "DUX4-r             2              2  100.0          DUX4-r"
      ]
     },
     "execution_count": 32,
     "metadata": {},
     "output_type": "execute_result"
    }
   ],
   "source": [
    "finalcounts['Subtype_renamed'] =  newnames\n",
    "finalcounts"
   ]
  },
  {
   "cell_type": "code",
   "execution_count": 33,
   "metadata": {
    "ExecuteTime": {
     "end_time": "2023-03-22T13:05:52.874964Z",
     "start_time": "2023-03-22T13:05:52.860967Z"
    }
   },
   "outputs": [
    {
     "data": {
      "text/plain": [
       "['HeH: 100%', 'ETV6::RUNX1: 100%', 'DUX4-r: 100%']"
      ]
     },
     "execution_count": 33,
     "metadata": {},
     "output_type": "execute_result"
    }
   ],
   "source": [
    "ylabels = [l + ': ' + str(int(pr)) + '%' for l, pr in zip(finalcounts.Subtype_renamed, finalcounts.props)]\n",
    "#ylabels.append('no_class')\n",
    "ylabels"
   ]
  },
  {
   "cell_type": "code",
   "execution_count": 34,
   "metadata": {
    "ExecuteTime": {
     "end_time": "2023-03-22T13:05:52.890020Z",
     "start_time": "2023-03-22T13:05:52.877964Z"
    }
   },
   "outputs": [
    {
     "data": {
      "text/plain": [
       "19"
      ]
     },
     "execution_count": 34,
     "metadata": {},
     "output_type": "execute_result"
    }
   ],
   "source": [
    "sum(testdf.Subtypes == testdf.GEX_subtype_V2)"
   ]
  },
  {
   "cell_type": "code",
   "execution_count": 35,
   "metadata": {
    "ExecuteTime": {
     "end_time": "2023-03-22T13:05:53.140260Z",
     "start_time": "2023-03-22T13:05:52.890020Z"
    },
    "scrolled": true
   },
   "outputs": [
    {
     "data": {
      "image/png": "[encoded data removed]",
      "text/plain": [
       "<Figure size 1440x1440 with 1 Axes>"
      ]
     },
     "metadata": {
      "needs_background": "light"
     },
     "output_type": "display_data"
    }
   ],
   "source": [
    "classes = subtypeorder.copy()\n",
    "#classes.append('no_class')\n",
    "cm = confusion_matrix(testdf.Subtypes, testdf.GEX_subtype_V2, labels = classes)\n",
    "cm_norm = confusion_matrix(testdf.Subtypes, testdf.GEX_subtype_V2, labels = classes, normalize = 'true')\n",
    "labels = newnames\n",
    "hor, ver = cm.shape\n",
    "xticks = [float(h)+0.5 for h in list(range(hor))]\n",
    "yticks = [float(v)+0.5 for v in list(range(ver))]\n",
    "plt.figure(figsize = (20,20))\n",
    "sns.heatmap(cm_norm, annot=cm, linewidths=.5, square = True, cmap = 'Purples',  annot_kws = {'fontsize' : 50}, fmt = 'g', cbar = False)\n",
    "plt.ylabel('True ALL subtype', fontsize = 20)\n",
    "plt.xlabel('GEX subtype', fontsize = 20)\n",
    "plt.xticks(xticks, labels[:hor], rotation = 45, fontsize = 20, ha='right')\n",
    "plt.yticks(yticks, ylabels, rotation = 0, fontsize = 20)\n",
    "plt.tight_layout()\n",
    "plt.show()"
   ]
  }
 ],
 "metadata": {
  "kernelspec": {
   "display_name": "visual",
   "language": "python",
   "name": "visualenv"
  },
  "language_info": {
   "codemirror_mode": {
    "name": "ipython",
    "version": 3
   },
   "file_extension": ".py",
   "mimetype": "text/x-python",
   "name": "python",
   "nbconvert_exporter": "python",
   "pygments_lexer": "ipython3",
   "version": "3.8.5"
  }
 },
 "nbformat": 4,
 "nbformat_minor": 4
}
